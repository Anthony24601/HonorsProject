{
 "cells": [
  {
   "cell_type": "code",
   "execution_count": 1,
   "metadata": {},
   "outputs": [],
   "source": [
    "import pandas as pd\n",
    "import numpy as np\n",
    "import cmath\n",
    "import math\n",
    "from scipy.optimize import fmin, minimize\n",
    "from astropy import units as u\n",
    "from scipy.interpolate import RegularGridInterpolator\n",
    "import matplotlib.pyplot as plt\n",
    "import copy\n",
    "%matplotlib inline"
   ]
  },
  {
   "cell_type": "code",
   "execution_count": 2,
   "metadata": {},
   "outputs": [],
   "source": [
    "class data:\n",
    "    u: float\n",
    "    v: float\n",
    "    phase: float\n",
    "    amp: float\n",
    "    sigma: float\n",
    "    vis_data: complex\n",
    "    def __init__(self, u, v, phase, amp, sigma):\n",
    "        self.u = u\n",
    "        self.v = v\n",
    "        self.phase = phase\n",
    "        self.amp = amp\n",
    "        self.sigma = sigma\n",
    "        self.vis_data = amp * np.exp(1j * math.radians(phase))\n",
    "\n",
    "    def __repr__(self):\n",
    "        return f\"[u: {self.u}, v: {self.v}]\"\n",
    "\n",
    "    def __str__(self):\n",
    "        return f\"[u: {self.u}, v: {self.v}]\""
   ]
  },
  {
   "cell_type": "markdown",
   "metadata": {},
   "source": [
    "image is a 2d numpy array\n",
    "image is 2d of numbers (greyscale image)"
   ]
  },
  {
   "cell_type": "code",
   "execution_count": 3,
   "metadata": {},
   "outputs": [],
   "source": [
    "# Assumption image is 80x80 pixels\n",
    "# Pass in array of u,v coords then return array of interpolated values\n",
    "def interpolate(image, coords, FOV):\n",
    "    ft_image = np.fft.fftshift(np.fft.fft2(image)) # Investigate to make sure what this fft does\n",
    "\n",
    "    kx_1 = 2*math.pi/FOV\n",
    "\n",
    "    kx = np.linspace(ft_image.shape[0]//-2, (ft_image.shape[0])//2 - 1, ft_image.shape[0]) * kx_1\n",
    "    ky = np.linspace(ft_image.shape[0]//-2, (ft_image.shape[1])//2 - 1, ft_image.shape[1]) * kx_1\n",
    "    \n",
    "    interp_real = RegularGridInterpolator((kx, ky), ft_image.real, bounds_error=False, method=\"linear\")\n",
    "    interp_imag = RegularGridInterpolator((kx, ky), ft_image.imag, bounds_error=False, method=\"linear\")\n",
    "\n",
    "    real = interp_real(coords)\n",
    "    imag = interp_imag(coords)\n",
    "    print(imag)\n",
    "    return real + imag * 1j"
   ]
  },
  {
   "cell_type": "markdown",
   "metadata": {},
   "source": [
    "Testing Interpolate\n",
    "pip3 install --user scipy"
   ]
  },
  {
   "cell_type": "code",
   "execution_count": 4,
   "metadata": {},
   "outputs": [],
   "source": [
    "n = 256\n",
    "\n",
    "a = np.linspace(-50, 50, n)\n",
    "x, y = np.meshgrid(a, a)\n",
    "\n",
    "k = np.fft.fftfreq(n, a[1]-a[0])\n",
    "kx, ky = np.meshgrid(k, k)\n",
    "\n",
    "def Gaussian(sigma, x0=0, y0=0):\n",
    "    dx = x - x0\n",
    "    dy = y - y0\n",
    "    return np.exp(-0.5 * (dx*dx + dy*dy) / (sigma * sigma))\n",
    "\n",
    "def ring(nn=0.01):\n",
    "    return np.maximum(Gaussian(10, *randpos(1)) - Gaussian(8, *randpos(1)), 0) + nn * noise(2)\n",
    "\n",
    "def noise(alpha):\n",
    "    white_noise = np.random.rand(n, n)-0.5 + 1j*(np.random.rand(n, n)-0.5)\n",
    "    power_law = np.power(kx*kx + ky*ky + 1e-300, -0.5 * alpha)\n",
    "    power_law[0,0] = 0\n",
    "    img  = np.real(np.fft.ifft2(white_noise * power_law))\n",
    "    img += np.min(img)\n",
    "    img /= np.max(img)\n",
    "    return img\n",
    "\n",
    "def randpos(scale=1):\n",
    "    x = (np.random.rand() - 0.5) * 2 * scale\n",
    "    y = (np.random.rand() - 0.5) * 2 * scale\n",
    "    return x, y"
   ]
  },
  {
   "cell_type": "code",
   "execution_count": 5,
   "metadata": {},
   "outputs": [
    {
     "data": {
      "text/plain": [
       "(-0.5, 255.5, 255.5, -0.5)"
      ]
     },
     "execution_count": 5,
     "metadata": {},
     "output_type": "execute_result"
    },
    {
     "data": {
      "image/png": "[encoded data removed]",
      "text/plain": [
       "<Figure size 640x480 with 1 Axes>"
      ]
     },
     "metadata": {},
     "output_type": "display_data"
    }
   ],
   "source": [
    "#sample = ring() # Sample is 256 by 256\n",
    "sample = np.loadtxt(\"sample_image.csv\", delimiter=\",\")\n",
    "plt.figure()\n",
    "#cm = copy(plt.get_cmap('afmhot'))\n",
    "#cm.set_over('b')\n",
    "plt.imshow(sample, vmin=0, vmax=0.5)\n",
    "plt.axis('off')"
   ]
  },
  {
   "cell_type": "code",
   "execution_count": 6,
   "metadata": {},
   "outputs": [],
   "source": [
    "np.savetxt(\"sample_image.csv\", sample, delimiter=\",\")\n",
    "#np.loadtxt(\"sample_image.csv\", delimiter=\",\")"
   ]
  },
  {
   "cell_type": "code",
   "execution_count": 7,
   "metadata": {},
   "outputs": [
    {
     "name": "stdout",
     "output_type": "stream",
     "text": [
      "[-137.92053255]\n",
      "[-2427.67503444-137.92053255j]\n",
      "[0.]\n",
      "[0.+0.j]\n"
     ]
    },
    {
     "name": "stderr",
     "output_type": "stream",
     "text": [
      "/Library/Frameworks/Python.framework/Versions/3.11/lib/python3.11/site-packages/scipy/interpolate/_rgi.py:374: ComplexWarning: Casting complex values to real discards the imaginary part\n",
      "  xi = np.asarray(xi, dtype=float)\n"
     ]
    }
   ],
   "source": [
    "samp = np.array(sample)\n",
    "samp_blank = samp * 0\n",
    "samp_coords = [[1.81243945e-03+0.j, -1.65010891e-02-0.01426895j]]\n",
    "temp_1 = interpolate(samp, samp_coords, 100 * u.uas)\n",
    "print(temp_1)\n",
    "temp_2 = interpolate(samp_blank, samp_coords, 100 * u.uas)\n",
    "print(temp_2)"
   ]
  },
  {
   "cell_type": "code",
   "execution_count": 8,
   "metadata": {},
   "outputs": [],
   "source": [
    "# p is the exponent of the regularizing terms\n",
    "# The smaller p the more sensitive it is to noise\n",
    "# TSV = Total Squared Variation\n",
    "def calc_regularizer(image: np.array, tsv=False, p=None):\n",
    "    if tsv and p == None:\n",
    "        raise Exception(\"p value not set\")\n",
    "    reg = 0\n",
    "    if tsv:\n",
    "        image_lshift = np.copy(image, subok=True)\n",
    "        image_lshift = np.roll(image_lshift, -1,axis=1)\n",
    "        image_lshift[:,-1] = 0\n",
    "        image_upshift = np.copy(image, subok=True)\n",
    "        image_upshift = np.roll(image_upshift, -1, axis=0)\n",
    "        image_upshift[-1] = 0\n",
    "\n",
    "        term_1 = np.power(np.absolute(np.subtract(image_lshift, image)),p)\n",
    "        term_2 = np.power(np.absolute(np.subtract(image_upshift, image)),p)\n",
    "        reg = np.sum(np.add(term_1,term_2))\n",
    "    return reg"
   ]
  },
  {
   "cell_type": "code",
   "execution_count": 9,
   "metadata": {},
   "outputs": [],
   "source": [
    "def gradient_regularizer(image: np.array):\n",
    "    image_lshift = np.copy(image, subok=True)\n",
    "    image_lshift = np.roll(image_lshift, -1,axis=1)\n",
    "    image_lshift[:,-1] = 0\n",
    "    image_upshift = np.copy(image, subok=True)\n",
    "    image_upshift = np.roll(image_upshift, -1, axis=0)\n",
    "    image_upshift[-1] = 0\n",
    "    image_rshift = np.copy(image, subok=True)\n",
    "    image_rshift = np.roll(image_rshift, 1,axis=1)\n",
    "    image_rshift[:,0] = 0\n",
    "    image_dshift = np.copy(image, subok=True)\n",
    "    image_dshift = np.roll(image_dshift, 1, axis=0)\n",
    "    image_dshift[0] = 0\n",
    "    g_reg = 4 * image - image_lshift - image_upshift - image_rshift - image_dshift\n",
    "    return g_reg"
   ]
  },
  {
   "cell_type": "markdown",
   "metadata": {},
   "source": [
    "\n",
    "While\n",
    "Running\n",
    "\n",
    "Computation of dirtied image"
   ]
  },
  {
   "cell_type": "code",
   "execution_count": null,
   "metadata": {},
   "outputs": [],
   "source": [
    "testing\n"
   ]
  },
  {
   "cell_type": "markdown",
   "metadata": {},
   "source": [
    "Translate u and v to a position to grid\n",
    "    => Translate from gigalambda to grid\n",
    "    ImageMeta(width=100 * u.uas)\n",
    "    uvd  = width_in_as * 2 * pi\n",
    "    divide by kx_1\n",
    "    relates to integer indexes\n",
    "python fftshift to array\n",
    "    By default fft array is 0 is on the corner, negatives gets wrapped\n",
    "    fftshift will centralize the 0 to the middle\n",
    "python's RegularGridInterpolator will interpolate\n",
    "    Research whether they support complex values now\n",
    "    If not:\n",
    "        Interpolate Real part and imagineary part separately"
   ]
  },
  {
   "cell_type": "code",
   "execution_count": 10,
   "metadata": {},
   "outputs": [],
   "source": [
    "# Assumption image is 80px by 80px => 6400 variables\n",
    "def loss(image, data_list: list[data], coords, p = 2, reg_weight = 1, FOV = 100*u.uas.to(u.rad)): #Ask about u.rad\n",
    "    error_sum = 0\n",
    "    vis_images = interpolate(image, coords, FOV)\n",
    "    \n",
    "    # Need to use the same selection as gradient\n",
    "    # Make a second loss func\n",
    "    \"\"\"\n",
    "    Try with no selection first\n",
    "    \"\"\"\n",
    "\n",
    "    for i in range(len(data_list)):\n",
    "        vis_data = data_list[i].amp * np.exp(1j * math.radians(data_list[i].phase)) #TODO Aks about the units here as well as U and V for gigalambda\n",
    "        vis_image = vis_images[i]\n",
    "        error = (abs(vis_image-vis_data) / data_list[i].sigma) ** 2\n",
    "        error_sum += error\n",
    "    \n",
    "    return error_sum + reg_weight * calc_regularizer(image=image, tsv=True, p=2)"
   ]
  },
  {
   "cell_type": "code",
   "execution_count": 11,
   "metadata": {},
   "outputs": [
    {
     "name": "stdout",
     "output_type": "stream",
     "text": [
      "[]\n",
      "4.139403793123961\n",
      "[]\n",
      "0.0\n"
     ]
    }
   ],
   "source": [
    "sample_coords = []\n",
    "sample_data_list = []\n",
    "print(loss(samp, sample_data_list, sample_coords))\n",
    "print(loss(samp_blank, sample_data_list, sample_coords))"
   ]
  },
  {
   "cell_type": "code",
   "execution_count": 12,
   "metadata": {},
   "outputs": [],
   "source": [
    "def gradient(data_list: list[data], coords, image, mode = 1): # 0 For central, -1 for backward, 1 for forward\n",
    "    image_copy = np.copy(image, subok=True)\n",
    "    upper_diff: float\n",
    "    lower_diff: float\n",
    "    h: float\n",
    "    gradient_arr = np.empty(np.shape(image),dtype=np.complex_)\n",
    "    if (mode == 0): # Central difference\n",
    "        for row in range(len(image)):\n",
    "            for col in range(len(image[row])):\n",
    "                image_copy[row,col] += 1e-6 / 2\n",
    "                upper_diff = loss(image_copy, data_list, coords)\n",
    "                image_copy[row,col] -= 1e-6\n",
    "                lower_diff = loss(image_copy, data_list, coords)\n",
    "                image_copy[row,col] = image[row,col] # Reset that pixel to original value\n",
    "                gradient_arr[row,col] = (upper_diff - lower_diff) / 1e-6\n",
    "    elif (mode == -1): # Backward difference\n",
    "        upper_diff = loss(image, data_list, coords)\n",
    "        for row in range(len(image)):\n",
    "            for col in range(len(image[row])):\n",
    "                image_copy[row,col] -= 1e-8 # Check with Misha \n",
    "                lower_diff = loss(image_copy, data_list, coords)\n",
    "                gradient_arr[row,col] = (upper_diff - lower_diff) / 1e-8\n",
    "                image_copy[row,col] = image[row,col]\n",
    "    elif (mode == 1) : # Forward difference is default\n",
    "        lower_diff = loss(image, data_list, coords)\n",
    "        for row in range(len(image)):\n",
    "            for col in range(len(image[row])):\n",
    "                image_copy[row,col] += 1e-8 # Check with Misha \n",
    "                upper_diff = loss(image_copy, data_list, coords)\n",
    "                gradient_arr[row,col] = (upper_diff - lower_diff) / 1e-8\n",
    "                image_copy[row,col] = image[row,col]\n",
    "    else:\n",
    "        raise ValueError('Incorrect mode for finite differences')\n",
    "    return gradient_arr\n",
    "    #Return a Gradient 2d array?"
   ]
  },
  {
   "cell_type": "code",
   "execution_count": 13,
   "metadata": {},
   "outputs": [
    {
     "data": {
      "image/png": "[encoded data removed]",
      "text/plain": [
       "<Figure size 640x480 with 1 Axes>"
      ]
     },
     "metadata": {},
     "output_type": "display_data"
    }
   ],
   "source": [
    "emp = np.zeros((80,80))\n",
    "plt.figure()\n",
    "plt.imshow(emp, vmin=0, vmax=0.5)\n",
    "plt.axis('off')\n",
    "plt.savefig('images/0.png')"
   ]
  },
  {
   "cell_type": "code",
   "execution_count": 27,
   "metadata": {},
   "outputs": [],
   "source": [
    "def gradient_2(data_list: list[data], coords, coeffs, image, FOV = 100*u.uas.to(u.rad)):\n",
    "    gradient_arr = np.empty(np.shape(image)) # Because we are in real space\n",
    "    vis_images = interpolate(image, coords, FOV)\n",
    "    for row in range(len(image)):\n",
    "        for col in range(len(image[row])):\n",
    "            gradient_sum = 0\n",
    "            for i in range(len(data_list)):\n",
    "                vis_data = data_list[i].vis_data\n",
    "                vis_image = vis_images[i]\n",
    "                term_1 = coeffs[row,col,i,0] * (np.conj(vis_image) - np.conj(vis_data))\n",
    "                term_2 = coeffs[row,col,i,1] * (vis_image - vis_data)\n",
    "                gradient_sum += (term_1 + term_2)/(data_list[i].sigma ** 2)\n",
    "            gradient_arr[row,col] = gradient_sum\n",
    "    return gradient_arr"
   ]
  },
  {
   "cell_type": "code",
   "execution_count": 24,
   "metadata": {},
   "outputs": [],
   "source": [
    "def preprocess_gradient(data_list: list[data], coords, image):\n",
    "    r, c = np.shape(image)\n",
    "    preprocessed = np.empty([r,c,len(data_list),2], dtype=np.complex_)\n",
    "    for row in range(len(image)):\n",
    "        for col in range(len(image[row])):\n",
    "            for datum in range(len(data_list)):\n",
    "                term = ((2*np.pi*1j)/image.size)*(row*data_list[datum].u + col*data_list[datum].v) #.size for numpy array returns # of rows * # of cols\n",
    "                term_1 = np.exp(term)\n",
    "                term_2 = np.exp(-1*term)\n",
    "                preprocessed[row,col,datum,0] = term_1\n",
    "                preprocessed[row,col,datum,1] = term_2\n",
    "    return preprocessed"
   ]
  },
  {
   "cell_type": "markdown",
   "metadata": {},
   "source": [
    "coordinate descent method: Optimize with respect to a var, then freeze and optimize with another \n",
    "                           var... continue until reach a optimum\n",
    "                           or subset of vars\n",
    "Gauss-seidel Method: Use idea from here, don't actually try coding this\n",
    "Stochastic gradient descent: The later stages you use, the more of the data in your subset\n",
    "                             Start with a subset (representative, spread out over the data)\n",
    "                             Random subset? \n",
    "Is there a quick way to compute dirty version of image\n",
    "Gradient of Regularizers"
   ]
  },
  {
   "cell_type": "markdown",
   "metadata": {},
   "source": [
    "Github\n",
    "HPC Benchmark\n",
    "Stochastic gradient descent: The later stages you use, the more of the data in your subset\n",
    "    Start with a subset (representative, spread out over the data)\n",
    "    Random subset? \n",
    "    subset like 10%\n",
    "Gradient of Regularizer"
   ]
  },
  {
   "cell_type": "markdown",
   "metadata": {},
   "source": [
    "Replot image every few steps"
   ]
  },
  {
   "cell_type": "code",
   "execution_count": 25,
   "metadata": {},
   "outputs": [],
   "source": [
    "coeffs = preprocess_gradient(data_list, coords, emp)"
   ]
  },
  {
   "cell_type": "code",
   "execution_count": 26,
   "metadata": {},
   "outputs": [
    {
     "data": {
      "text/plain": [
       "array([[[[ 1.        +0.00000000e+00j,  1.        +0.00000000e+00j],\n",
       "         [ 1.        +0.00000000e+00j,  1.        +0.00000000e+00j],\n",
       "         [ 1.        +0.00000000e+00j,  1.        +0.00000000e+00j],\n",
       "         ...,\n",
       "         [ 1.        +0.00000000e+00j,  1.        +0.00000000e+00j],\n",
       "         [ 1.        +0.00000000e+00j,  1.        +0.00000000e+00j],\n",
       "         [ 1.        +0.00000000e+00j,  1.        +0.00000000e+00j]],\n",
       "\n",
       "        [[ 0.72896863-6.84547106e-01j,  0.72896863+6.84547106e-01j],\n",
       "         [-0.42577929-9.04827052e-01j, -0.42577929+9.04827052e-01j],\n",
       "         [ 0.79075635-6.12131026e-01j,  0.79075635+6.12131026e-01j],\n",
       "         ...,\n",
       "         [ 0.46619364+8.84682704e-01j,  0.46619364-8.84682704e-01j],\n",
       "         [-0.68724289+7.26427708e-01j, -0.68724289-7.26427708e-01j],\n",
       "         [ 0.32205916+9.46719545e-01j,  0.32205916-9.46719545e-01j]],\n",
       "\n",
       "        [[ 0.06279052-9.98026728e-01j,  0.06279052+9.98026728e-01j],\n",
       "         [-0.63742399+7.70513243e-01j, -0.63742399-7.70513243e-01j],\n",
       "         [ 0.25059122-9.68092993e-01j,  0.25059122+9.68092993e-01j],\n",
       "         ...,\n",
       "         [-0.56532697+8.24866906e-01j, -0.56532697-8.24866906e-01j],\n",
       "         [-0.05539443-9.98464550e-01j, -0.05539443+9.98464550e-01j],\n",
       "         [-0.79255579+6.09799404e-01j, -0.79255579-6.09799404e-01j]],\n",
       "\n",
       "        ...,\n",
       "\n",
       "        [[ 0.06279048-9.98026731e-01j,  0.06279048+9.98026731e-01j],\n",
       "         [-0.63742398+7.70513249e-01j, -0.63742398-7.70513249e-01j],\n",
       "         [ 0.89672795-4.42582167e-01j,  0.89672795+4.42582167e-01j],\n",
       "         ...,\n",
       "         [-0.34795852+9.37509929e-01j, -0.34795852-9.37509929e-01j],\n",
       "         [-0.9753672 -2.20587444e-01j, -0.9753672 +2.20587444e-01j],\n",
       "         [ 0.11558729+9.93297327e-01j,  0.11558729-9.93297327e-01j]],\n",
       "\n",
       "        [[-0.63742399-7.70513239e-01j, -0.63742399+7.70513239e-01j],\n",
       "         [ 0.96858317+2.48689860e-01j,  0.96858317-2.48689860e-01j],\n",
       "         [ 0.43817505-8.98889663e-01j,  0.43817505+8.98889663e-01j],\n",
       "         ...,\n",
       "         [-0.99161487+1.29228282e-01j, -0.99161487-1.29228282e-01j],\n",
       "         [ 0.830555  -5.56936610e-01j,  0.830555  +5.56936610e-01j],\n",
       "         [-0.90314805+4.29329247e-01j, -0.90314805-4.29329247e-01j]],\n",
       "\n",
       "        [[-0.99211471-1.25333197e-01j, -0.99211471+1.25333197e-01j],\n",
       "         [-0.18738136-9.82287242e-01j, -0.18738136+9.82287242e-01j],\n",
       "         [-0.20374855-9.79023253e-01j, -0.20374855+9.79023253e-01j],\n",
       "         ...,\n",
       "         [-0.57661058-8.17019121e-01j, -0.57661058+8.17019121e-01j],\n",
       "         [-0.16621883+9.86088890e-01j, -0.16621883-9.86088890e-01j],\n",
       "         [-0.69732149-7.16758493e-01j, -0.69732149+7.16758493e-01j]]],\n",
       "\n",
       "\n",
       "       [[[ 0.63742399+7.70513243e-01j,  0.63742399-7.70513243e-01j],\n",
       "         [-0.9921147 +1.25333234e-01j, -0.9921147 -1.25333234e-01j],\n",
       "         [-0.95941593+2.81994802e-01j, -0.95941593-2.81994802e-01j],\n",
       "         ...,\n",
       "         [-0.42577929-9.04827052e-01j, -0.42577929+9.04827052e-01j],\n",
       "         [-0.13959315-9.90208944e-01j, -0.13959315+9.90208944e-01j],\n",
       "         [ 0.96858316+2.48689887e-01j,  0.96858316-2.48689887e-01j]],\n",
       "\n",
       "        [[ 0.9921147 +1.25333234e-01j,  0.9921147 -1.25333234e-01j],\n",
       "         [ 0.5358268 +8.44327925e-01j,  0.5358268 -8.44327925e-01j],\n",
       "         [-0.58604648+8.10277440e-01j, -0.58604648-8.10277440e-01j],\n",
       "         ...,\n",
       "         [ 0.60198924-7.98504195e-01j,  0.60198924+7.98504195e-01j],\n",
       "         [ 0.81524961+5.79109719e-01j,  0.81524961-5.79109719e-01j],\n",
       "         [ 0.0765015 +9.97069466e-01j,  0.0765015 -9.97069466e-01j]],\n",
       "\n",
       "        [[ 0.80901699-5.87785253e-01j,  0.80901699+5.87785253e-01j],\n",
       "         [ 0.53582679-8.44327926e-01j,  0.53582679+8.44327926e-01j],\n",
       "         [ 0.03257599+9.99469262e-01j,  0.03257599-9.99469262e-01j],\n",
       "         ...,\n",
       "         [ 0.98706641+1.60311892e-01j,  0.98706641-1.60311892e-01j],\n",
       "         [-0.98095584+1.94230874e-01j, -0.98095584-1.94230874e-01j],\n",
       "         [-0.91930714+3.93540824e-01j, -0.91930714-3.93540824e-01j]],\n",
       "\n",
       "        ...,\n",
       "\n",
       "        [[ 0.80901698-5.87785274e-01j,  0.80901698+5.87785274e-01j],\n",
       "         [ 0.53582676-8.44327947e-01j,  0.53582676+8.44327947e-01j],\n",
       "         [-0.73552922+6.77493005e-01j, -0.73552922-6.77493005e-01j],\n",
       "         ...,\n",
       "         [ 0.99643788-8.43300286e-02j,  0.99643788+8.43300286e-02j],\n",
       "         [-0.08227308+9.96609824e-01j, -0.08227308-9.96609824e-01j],\n",
       "         [-0.1350671 +9.90836454e-01j, -0.1350671 -9.90836454e-01j]],\n",
       "\n",
       "        [[ 0.18738132-9.82287250e-01j,  0.18738132+9.82287250e-01j],\n",
       "         [-0.9921147 -1.25333236e-01j, -0.9921147 +1.25333236e-01j],\n",
       "         [-0.16690991+9.85972150e-01j, -0.16690991-9.85972150e-01j],\n",
       "         ...,\n",
       "         [ 0.53913832+8.42217234e-01j,  0.53913832-8.42217234e-01j],\n",
       "         [-0.6674234 -7.44678456e-01j, -0.6674234 +7.44678456e-01j],\n",
       "         [-0.98154383+1.91237293e-01j, -0.98154383-1.91237293e-01j]],\n",
       "\n",
       "        [[-0.53582682-8.44327911e-01j, -0.53582682+8.44327911e-01j],\n",
       "         [ 0.30901701+9.51056512e-01j,  0.30901701-9.51056512e-01j],\n",
       "         [ 0.47155907+8.81834476e-01j,  0.47155907-8.81834476e-01j],\n",
       "         ...,\n",
       "         [-0.49375216+8.69602670e-01j, -0.49375216-8.69602670e-01j],\n",
       "         [ 0.99963705+2.69401187e-02j,  0.99963705-2.69401187e-02j],\n",
       "         [-0.49716327-8.67657010e-01j, -0.49716327+8.67657010e-01j]]],\n",
       "\n",
       "\n",
       "       [[[-0.18738131+9.82287251e-01j, -0.18738131-9.82287251e-01j],\n",
       "         [ 0.96858316-2.48689888e-01j,  0.96858316+2.48689888e-01j],\n",
       "         [ 0.84095786-5.41100612e-01j,  0.84095786+5.41100612e-01j],\n",
       "         ...,\n",
       "         [-0.63742399+7.70513243e-01j, -0.63742399-7.70513243e-01j],\n",
       "         [-0.9610275 +2.76452774e-01j, -0.9610275 -2.76452774e-01j],\n",
       "         [ 0.87630668+4.81753674e-01j,  0.87630668-4.81753674e-01j]],\n",
       "\n",
       "        [[ 0.5358268 +8.44327925e-01j,  0.5358268 -8.44327925e-01j],\n",
       "         [-0.63742399-7.70513243e-01j, -0.63742399+7.70513243e-01j],\n",
       "         [ 0.3337683 -9.42655145e-01j,  0.3337683 +9.42655145e-01j],\n",
       "         ...,\n",
       "         [-0.97882275-2.04709603e-01j, -0.97882275+2.04709603e-01j],\n",
       "         [ 0.45963636-8.88107210e-01j,  0.45963636+8.88107210e-01j],\n",
       "         [-0.17386303+9.84769845e-01j, -0.17386303-9.84769845e-01j]],\n",
       "\n",
       "        [[ 0.96858316+2.48689887e-01j,  0.96858316-2.48689887e-01j],\n",
       "         [-0.42577929+9.04827053e-01j, -0.42577929-9.04827053e-01j],\n",
       "         [-0.31309906-9.49720475e-01j, -0.31309906+9.49720475e-01j],\n",
       "         ...,\n",
       "         [-0.2752179 -9.61381874e-01j, -0.2752179 +9.61381874e-01j],\n",
       "         [ 0.32926387+9.44237950e-01j,  0.32926387-9.44237950e-01j],\n",
       "         [-0.98829504+1.52554625e-01j, -0.98829504-1.52554625e-01j]],\n",
       "\n",
       "        ...,\n",
       "\n",
       "        [[ 0.96858317+2.48689869e-01j,  0.96858317-2.48689869e-01j],\n",
       "         [-0.42577928+9.04827057e-01j, -0.42577928-9.04827057e-01j],\n",
       "         [ 0.51462894-8.57412999e-01j,  0.51462894+8.57412999e-01j],\n",
       "         ...,\n",
       "         [-0.50056671-8.65697969e-01j, -0.50056671+8.65697969e-01j],\n",
       "         [ 0.99833672-5.76523682e-02j,  0.99833672+5.76523682e-02j],\n",
       "         [-0.37723473+9.26117682e-01j, -0.37723473-9.26117682e-01j]],\n",
       "\n",
       "        [[ 0.87630669-4.81753664e-01j,  0.87630669+4.81753664e-01j],\n",
       "         [ 1.        -2.70070174e-08j,  1.        +2.70070174e-08j],\n",
       "         [-0.11790299-9.93025118e-01j, -0.11790299+9.93025118e-01j],\n",
       "         ...,\n",
       "         [ 0.532507  -8.46425597e-01j,  0.532507  +8.46425597e-01j],\n",
       "         [-0.64421953+7.64840635e-01j, -0.64421953-7.64840635e-01j],\n",
       "         [-0.99826561-5.88708040e-02j, -0.99826561+5.88708040e-02j]],\n",
       "\n",
       "        [[ 0.30901698-9.51056522e-01j,  0.30901698+9.51056522e-01j],\n",
       "         [-0.42577933-9.04827034e-01j, -0.42577933+9.04827034e-01j],\n",
       "         [-0.70109402-7.13068839e-01j, -0.70109402+7.13068839e-01j],\n",
       "         ...,\n",
       "         [ 0.99706947+7.65015028e-02j,  0.99706947-7.65015028e-02j],\n",
       "         [-0.11286614-9.93610203e-01j, -0.11286614+9.93610203e-01j],\n",
       "         [-0.26576644-9.64037446e-01j, -0.26576644+9.64037446e-01j]]],\n",
       "\n",
       "\n",
       "       ...,\n",
       "\n",
       "\n",
       "       [[[ 0.18738132-9.82287250e-01j,  0.18738132+9.82287250e-01j],\n",
       "         [ 0.96858316-2.48689894e-01j,  0.96858316+2.48689894e-01j],\n",
       "         [ 0.99977854-2.10446627e-02j,  0.99977854+2.10446627e-02j],\n",
       "         ...,\n",
       "         [-0.63742396+7.70513270e-01j, -0.63742396-7.70513270e-01j],\n",
       "         [ 0.97767862+2.10105982e-01j,  0.97767862-2.10105982e-01j],\n",
       "         [ 0.87630666+4.81753711e-01j,  0.87630666-4.81753711e-01j]],\n",
       "\n",
       "        [[-0.53582679-8.44327929e-01j, -0.53582679+8.44327929e-01j],\n",
       "         [-0.63742401-7.70513228e-01j, -0.63742401+7.70513228e-01j],\n",
       "         [ 0.77769914-6.28636662e-01j,  0.77769914+6.28636662e-01j],\n",
       "         ...,\n",
       "         [-0.97882275-2.04709611e-01j, -0.97882275+2.04709611e-01j],\n",
       "         [-0.82452948+5.65818995e-01j, -0.82452948-5.65818995e-01j],\n",
       "         [-0.17386303+9.84769845e-01j, -0.17386303-9.84769845e-01j]],\n",
       "\n",
       "        [[-0.96858316-2.48689893e-01j, -0.96858316+2.48689893e-01j],\n",
       "         [-0.42577925+9.04827070e-01j, -0.42577925-9.04827070e-01j],\n",
       "         [ 0.23016253-9.73152203e-01j,  0.23016253+9.73152203e-01j],\n",
       "         ...,\n",
       "         [-0.2752179 -9.61381874e-01j, -0.2752179 +9.61381874e-01j],\n",
       "         [ 0.15562542-9.87816140e-01j,  0.15562542+9.87816140e-01j],\n",
       "         [-0.98829504+1.52554607e-01j, -0.98829504-1.52554607e-01j]],\n",
       "\n",
       "        ...,\n",
       "\n",
       "        [[-0.96858316-2.48689887e-01j, -0.96858316+2.48689887e-01j],\n",
       "         [-0.42577922+9.04827085e-01j, -0.42577922-9.04827085e-01j],\n",
       "         [ 0.88721537-4.61355489e-01j,  0.88721537+4.61355489e-01j],\n",
       "         ...,\n",
       "         [-0.50056674-8.65697951e-01j, -0.50056674+8.65697951e-01j],\n",
       "         [-0.90724892-4.20594111e-01j, -0.90724892+4.20594111e-01j],\n",
       "         [-0.37723474+9.26117677e-01j, -0.37723474-9.26117677e-01j]],\n",
       "\n",
       "        [[-0.87630668+4.81753675e-01j, -0.87630668-4.81753675e-01j],\n",
       "         [ 1.        +2.52615336e-08j,  1.        -2.52615336e-08j],\n",
       "         [ 0.41916118-9.07911838e-01j,  0.41916118+9.07911838e-01j],\n",
       "         ...,\n",
       "         [ 0.53250697-8.46425620e-01j,  0.53250697+8.46425620e-01j],\n",
       "         [ 0.92903158-3.70000439e-01j,  0.92903158+3.70000439e-01j],\n",
       "         [-0.99826561-5.88708357e-02j, -0.99826561+5.88708357e-02j]],\n",
       "\n",
       "        [[-0.30901699+9.51056516e-01j, -0.30901699-9.51056516e-01j],\n",
       "         [-0.42577928-9.04827056e-01j, -0.42577928+9.04827056e-01j],\n",
       "         [-0.22430664-9.74518615e-01j, -0.22430664+9.74518615e-01j],\n",
       "         ...,\n",
       "         [ 0.99706947+7.65015108e-02j,  0.99706947-7.65015108e-02j],\n",
       "         [-0.36969177+9.29154451e-01j, -0.36969177-9.29154451e-01j],\n",
       "         [-0.26576645-9.64037443e-01j, -0.26576645+9.64037443e-01j]]],\n",
       "\n",
       "\n",
       "       [[[ 0.87630668-4.81753674e-01j,  0.87630668+4.81753674e-01j],\n",
       "         [-0.92977647+3.68124586e-01j, -0.92977647-3.68124586e-01j],\n",
       "         [-0.95326897+3.02122935e-01j, -0.95326897-3.02122935e-01j],\n",
       "         ...,\n",
       "         [ 0.96858317+2.48689860e-01j,  0.96858317-2.48689860e-01j],\n",
       "         [ 0.07157158-9.97435466e-01j,  0.07157158+9.97435466e-01j],\n",
       "         [ 0.72896862+6.84547116e-01j,  0.72896862-6.84547116e-01j]],\n",
       "\n",
       "        [[ 0.30901699-9.51056516e-01j,  0.30901699+9.51056516e-01j],\n",
       "         [ 0.72896862+6.84547110e-01j,  0.72896862-6.84547110e-01j],\n",
       "         [-0.56886467+8.22431143e-01j, -0.56886467-8.22431143e-01j],\n",
       "         ...,\n",
       "         [ 0.23153571+9.72826406e-01j,  0.23153571-9.72826406e-01j],\n",
       "         [ 0.6753777 +7.37472010e-01j,  0.6753777 -7.37472010e-01j],\n",
       "         [-0.41330313+9.10593501e-01j, -0.41330313-9.10593501e-01j]],\n",
       "\n",
       "        [[-0.42577929-9.04827052e-01j, -0.42577929+9.04827052e-01j],\n",
       "         [ 0.30901698-9.51056520e-01j,  0.30901698+9.51056520e-01j],\n",
       "         [ 0.05360227+9.98562365e-01j,  0.05360227-9.98562365e-01j],\n",
       "         ...,\n",
       "         [-0.75270222+6.58361127e-01j, -0.75270222-6.58361127e-01j],\n",
       "         [-0.99986862-1.62093191e-02j, -0.99986862+1.62093191e-02j],\n",
       "         [-0.99518473-9.80171309e-02j, -0.99518473+9.80171309e-02j]],\n",
       "\n",
       "        ...,\n",
       "\n",
       "        [[-0.42577931-9.04827043e-01j, -0.42577931+9.04827043e-01j],\n",
       "         [ 0.30901695-9.51056531e-01j,  0.30901695+9.51056531e-01j],\n",
       "         [-0.72110871+6.92821929e-01j, -0.72110871-6.92821929e-01j],\n",
       "         ...,\n",
       "         [-0.57017599+8.21522577e-01j, -0.57017599-8.21522577e-01j],\n",
       "         [-0.28983031+9.57078047e-01j, -0.28983031-9.57078047e-01j],\n",
       "         [-0.59569934+8.03207504e-01j, -0.59569934-8.03207504e-01j]],\n",
       "\n",
       "        [[-0.92977649-3.68124533e-01j, -0.92977649+3.68124533e-01j],\n",
       "         [-0.99211469+1.25333297e-01j, -0.99211469-1.25333297e-01j],\n",
       "         [-0.1461235 +9.89266356e-01j, -0.1461235 -9.89266356e-01j],\n",
       "         ...,\n",
       "         [-0.99259924-1.21436223e-01j, -0.99259924+1.21436223e-01j],\n",
       "         [-0.49606419-8.68285851e-01j, -0.49606419+8.68285851e-01j],\n",
       "         [-0.95226269-3.05279835e-01j, -0.95226269+3.05279835e-01j]],\n",
       "\n",
       "        [[-0.92977648+3.68124573e-01j, -0.92977648-3.68124573e-01j],\n",
       "         [ 0.53582686+8.44327882e-01j,  0.53582686-8.44327882e-01j],\n",
       "         [ 0.49001255+8.71715380e-01j,  0.49001255-8.71715380e-01j],\n",
       "         ...,\n",
       "         [-0.35531094-9.34748169e-01j, -0.35531094+9.34748169e-01j],\n",
       "         [ 0.97166349+2.36368502e-01j,  0.97166349-2.36368502e-01j],\n",
       "         [-0.01767052-9.99843864e-01j, -0.01767052+9.99843864e-01j]]],\n",
       "\n",
       "\n",
       "       [[[ 0.92977648+3.68124561e-01j,  0.92977648-3.68124561e-01j],\n",
       "         [ 0.87630668-4.81753679e-01j,  0.87630668+4.81753679e-01j],\n",
       "         [ 0.82938434-5.58678453e-01j,  0.82938434+5.58678453e-01j],\n",
       "         ...,\n",
       "         [-0.18738133-9.82287248e-01j, -0.18738133+9.82287248e-01j],\n",
       "         [-0.99766042+6.83643385e-02j, -0.99766042-6.83643385e-02j],\n",
       "         [ 0.53582676+8.44327950e-01j,  0.53582676-8.44327950e-01j]],\n",
       "\n",
       "        [[ 0.92977649-3.68124544e-01j,  0.92977649+3.68124544e-01j],\n",
       "         [-0.80901701-5.87785233e-01j, -0.80901701+5.87785233e-01j],\n",
       "         [ 0.31385652-9.49470423e-01j,  0.31385652+9.49470423e-01j],\n",
       "         ...,\n",
       "         [ 0.78165655-6.23709097e-01j,  0.78165655+6.23709097e-01j],\n",
       "         [ 0.63597328-7.71711079e-01j,  0.63597328+7.71711079e-01j],\n",
       "         [-0.62677382+7.79201240e-01j, -0.62677382-7.79201240e-01j]],\n",
       "\n",
       "        [[ 0.4257793 -9.04827049e-01j,  0.4257793 +9.04827049e-01j],\n",
       "         [-0.18738127+9.82287258e-01j, -0.18738127-9.82287258e-01j],\n",
       "         [-0.33301627-9.42921082e-01j, -0.33301627+9.42921082e-01j],\n",
       "         ...,\n",
       "         [ 0.91618797+4.00748807e-01j,  0.91618797-4.00748807e-01j],\n",
       "         [ 0.1235242 +9.92341560e-01j,  0.1235242 -9.92341560e-01j],\n",
       "         [-0.93954329-3.42430150e-01j, -0.93954329+3.42430150e-01j]],\n",
       "\n",
       "        ...,\n",
       "\n",
       "        [[ 0.42577928-9.04827058e-01j,  0.42577928+9.04827058e-01j],\n",
       "         [-0.1873813 +9.82287254e-01j, -0.1873813 -9.82287254e-01j],\n",
       "         [ 0.496471  -8.68053306e-01j,  0.496471  +8.68053306e-01j],\n",
       "         ...,\n",
       "         [ 0.98610498+1.66123371e-01j,  0.98610498-1.66123371e-01j],\n",
       "         [ 0.98816557+1.53391029e-01j,  0.98816557-1.53391029e-01j],\n",
       "         [-0.77673392+6.29828884e-01j, -0.77673392-6.29828884e-01j]],\n",
       "\n",
       "        [[-0.30901701-9.51056512e-01j, -0.30901701+9.51056512e-01j],\n",
       "         [ 0.96858315-2.48689920e-01j,  0.96858315+2.48689920e-01j],\n",
       "         [-0.13877476-9.90323970e-01j, -0.13877476+9.90323970e-01j],\n",
       "         ...,\n",
       "         [ 0.31274941+9.49835675e-01j,  0.31274941-9.49835675e-01j],\n",
       "         [-0.79053725+6.12413956e-01j, -0.79053725-6.12413956e-01j],\n",
       "         [-0.84642558-5.32507034e-01j, -0.84642558+5.32507034e-01j]],\n",
       "\n",
       "        [[-0.87630669-4.81753663e-01j, -0.87630669+4.81753663e-01j],\n",
       "         [-0.63742403-7.70513210e-01j, -0.63742403+7.70513210e-01j],\n",
       "         [-0.71594505-6.98156633e-01j, -0.71594505+6.98156633e-01j],\n",
       "         ...,\n",
       "         [-0.6945014 +7.19491350e-01j, -0.6945014 -7.19491350e-01j],\n",
       "         [ 0.09841664-9.95145299e-01j,  0.09841664+9.95145299e-01j],\n",
       "         [ 0.23153567-9.72826416e-01j,  0.23153567+9.72826416e-01j]]]])"
      ]
     },
     "execution_count": 26,
     "metadata": {},
     "output_type": "execute_result"
    }
   ],
   "source": [
    "coeffs"
   ]
  },
  {
   "cell_type": "code",
   "execution_count": 29,
   "metadata": {},
   "outputs": [
    {
     "name": "stdout",
     "output_type": "stream",
     "text": [
      "[0. 0. 0. ... 0. 0. 0.]\n"
     ]
    },
    {
     "name": "stderr",
     "output_type": "stream",
     "text": [
      "/var/folders/_b/trlmhkgj5xq968yccj4vtg1c0000gn/T/ipykernel_29777/2184829813.py:13: ComplexWarning: Casting complex values to real discards the imaginary part\n",
      "  gradient_arr[row,col] = gradient_sum\n"
     ]
    }
   ],
   "source": [
    "emp = np.zeros((80,80))\n",
    "x = gradient_2(data_list, coords, coeffs, emp)\n",
    "#x = gradient(data_list, coords, emp)"
   ]
  },
  {
   "cell_type": "code",
   "execution_count": 30,
   "metadata": {},
   "outputs": [
    {
     "data": {
      "text/plain": [
       "array([[-4665858.68075455, -3433480.06936175, -1408698.37681857, ...,\n",
       "         2257228.59940488,  3085676.02121527,  1985795.69174366],\n",
       "       [ -107705.83399767, -1102873.58680317,  2225026.44149848, ...,\n",
       "        -1628120.48536111,  -381532.08772881, -4432575.41989236],\n",
       "       [ 1414222.23223292,   274940.04387248,  -495003.48555058, ...,\n",
       "        -2353057.67002456,  1477027.89667769, -2061546.94487123],\n",
       "       ...,\n",
       "       [ -363864.98819004,  -783861.91930738, -2033919.68674573, ...,\n",
       "          569752.59216931,   332658.60554209,   421196.1872791 ],\n",
       "       [  608644.25781672, -1186281.65984302,  1339127.26422329, ...,\n",
       "         1622891.46236696,  -714819.65486848,  1171234.64268029],\n",
       "       [-1204822.31282108, -2507409.23731289,  -569172.05390961, ...,\n",
       "        -2673646.01906133,  -541090.67083789,  3061837.78427972]])"
      ]
     },
     "execution_count": 30,
     "metadata": {},
     "output_type": "execute_result"
    }
   ],
   "source": [
    "np.real(x)"
   ]
  },
  {
   "cell_type": "code",
   "execution_count": 31,
   "metadata": {},
   "outputs": [],
   "source": [
    "np.savetxt(\"gradient_2.txt\", np.real(x), delimiter=\",\")"
   ]
  },
  {
   "cell_type": "code",
   "execution_count": 46,
   "metadata": {},
   "outputs": [],
   "source": [
    "def gradient_descent(image, data_list, coords, coeffs, subset_percent = 10):\n",
    "    image_copy = np.copy(image, subok=True)\n",
    "    # coeffs = preprocess_gradient(data_list, coords, image_copy)\n",
    "    # loss needs same subset as gradient_2\n",
    "    i = 0\n",
    "    grad = None\n",
    "    t = 10000000\n",
    "    while grad is None or np.any(np.abs(grad) > 0.0000001): # Didn't finish before so never negative?\n",
    "        plt.figure()\n",
    "        plt.imshow(image_copy, vmin=0, vmax=0.5)\n",
    "        plt.axis('off')\n",
    "        plt.savefig('images/'+str(i)+'.png')\n",
    "\n",
    "        #selection = np.random.choice(np.arange(len(data_list)), size=len(coords)*subset_percent//100, replace=False) # selection is full of indicies\n",
    "        #subset = [data_list[index] for index in selection]\n",
    "        prev_loss = loss(image_copy, data_list, coords)\n",
    "\n",
    "        grad = gradient_2(data_list, coords, coeffs, image_copy) + gradient_regularizer(image_copy)\n",
    "        new_image = image_copy - t * grad\n",
    "        new_loss = loss(new_image, data_list, coords)\n",
    "        \n",
    "        while new_loss > prev_loss: # Only run when new_loss > prev_loss\n",
    "            new_image = image_copy - t * grad\n",
    "            new_loss = loss(new_image, data_list, coords)\n",
    "            t /= 2\n",
    "\n",
    "        loss_file = open(\"losses_2.txt\",\"a\")\n",
    "        loss_file.write(\"--------------------------\")\n",
    "        loss_file.write(\"t-val\" + str(t) + \"\\n\")\n",
    "        loss_file.write(\"prev_loss:\" + str(prev_loss) + \"\\n\")\n",
    "        loss_file.write(\"new_loss:\" + str(new_loss) + \"\\n\")\n",
    "        loss_file.close()\n",
    "\n",
    "        image_copy -= t * 2 * grad\n",
    "        i += 1\n",
    "        \"\"\"if i == 100:\n",
    "            return\"\"\""
   ]
  },
  {
   "cell_type": "code",
   "execution_count": 47,
   "metadata": {},
   "outputs": [
    {
     "name": "stdout",
     "output_type": "stream",
     "text": [
      "[0. 0. 0. ... 0. 0. 0.]\n",
      "[0. 0. 0. ... 0. 0. 0.]\n"
     ]
    },
    {
     "name": "stderr",
     "output_type": "stream",
     "text": [
      "/var/folders/_b/trlmhkgj5xq968yccj4vtg1c0000gn/T/ipykernel_29777/2184829813.py:13: ComplexWarning: Casting complex values to real discards the imaginary part\n",
      "  gradient_arr[row,col] = gradient_sum\n"
     ]
    },
    {
     "name": "stdout",
     "output_type": "stream",
     "text": [
      "[-4.81199634e+12  2.10778992e+14  4.58577863e+08 ...  1.59010013e+14\n",
      "  1.46193738e+09 -1.59012845e+14]\n",
      "[-4.81199634e+12  2.10778992e+14  4.58577863e+08 ...  1.59010013e+14\n",
      "  1.46193738e+09 -1.59012845e+14]\n",
      "[-2.40599817e+12  1.05389496e+14  2.29288932e+08 ...  7.95050067e+13\n",
      "  7.30968688e+08 -7.95064224e+13]\n",
      "[-1.20299908e+12  5.26947479e+13  1.14644466e+08 ...  3.97525034e+13\n",
      "  3.65484344e+08 -3.97532112e+13]\n",
      "[-6.01499542e+11  2.63473740e+13  5.73222329e+07 ...  1.98762517e+13\n",
      "  1.82742172e+08 -1.98766056e+13]\n",
      "[-3.00749771e+11  1.31736870e+13  2.86611165e+07 ...  9.93812584e+12\n",
      "  9.13710860e+07 -9.93830281e+12]\n",
      "[-1.50374886e+11  6.58684349e+12  1.43305582e+07 ...  4.96906292e+12\n",
      "  4.56855430e+07 -4.96915140e+12]\n",
      "[-7.51874428e+10  3.29342175e+12  7.16527911e+06 ...  2.48453146e+12\n",
      "  2.28427715e+07 -2.48457570e+12]\n",
      "[-3.75937214e+10  1.64671087e+12  3.58263956e+06 ...  1.24226573e+12\n",
      "  1.14213857e+07 -1.24228785e+12]\n",
      "[-1.87968607e+10  8.23355437e+11  1.79131978e+06 ...  6.21132865e+11\n",
      "  5.71069287e+06 -6.21143925e+11]\n",
      "[-9.39843034e+09  4.11677718e+11  8.95659889e+05 ...  3.10566432e+11\n",
      "  2.85534644e+06 -3.10571963e+11]\n",
      "[-4.69921517e+09  2.05838859e+11  4.47829945e+05 ...  1.55283216e+11\n",
      "  1.42767322e+06 -1.55285981e+11]\n",
      "[-2.34960759e+09  1.02919430e+11  2.23914972e+05 ...  7.76416081e+10\n",
      "  7.13836609e+05 -7.76429907e+10]\n",
      "[-1.17480379e+09  5.14597148e+10  1.11957486e+05 ...  3.88208041e+10\n",
      "  3.56918305e+05 -3.88214953e+10]\n",
      "[-5.87401896e+08  2.57298574e+10  5.59787431e+04 ...  1.94104020e+10\n",
      "  1.78459152e+05 -1.94107477e+10]\n",
      "[-2.93700948e+08  1.28649287e+10  2.79893715e+04 ...  9.70520102e+09\n",
      "  8.92295762e+04 -9.70537383e+09]\n",
      "[-1.46850474e+08  6.43246435e+09  1.39946858e+04 ...  4.85260051e+09\n",
      "  4.46147881e+04 -4.85268692e+09]\n",
      "[-7.34252371e+07  3.21623217e+09  6.99734289e+03 ...  2.42630025e+09\n",
      "  2.23073940e+04 -2.42634346e+09]\n",
      "[-3.67126185e+07  1.60811609e+09  3.49867144e+03 ...  1.21315013e+09\n",
      "  1.11536970e+04 -1.21317173e+09]\n",
      "[-1.83563093e+07  8.04058044e+08  1.74933572e+03 ...  6.06575063e+08\n",
      "  5.57684851e+03 -6.06585865e+08]\n",
      "[-9.17815463e+06  4.02029022e+08  8.74667861e+02 ...  3.03287532e+08\n",
      "  2.78842426e+03 -3.03292932e+08]\n",
      "[-4.58907732e+06  2.01014511e+08  4.37333930e+02 ...  1.51643766e+08\n",
      "  1.39421213e+03 -1.51646466e+08]\n",
      "[-2.29453866e+06  1.00507255e+08  2.18666965e+02 ...  7.58218829e+07\n",
      "  6.97106064e+02 -7.58232331e+07]\n",
      "[-1.14726933e+06  5.02536277e+07  1.09333483e+02 ...  3.79109415e+07\n",
      "  3.48553032e+02 -3.79116165e+07]\n",
      "[-5.73634665e+05  2.51268139e+07  5.46667413e+01 ...  1.89554707e+07\n",
      "  1.74276516e+02 -1.89558083e+07]\n",
      "[-2.86817332e+05  1.25634069e+07  2.73333706e+01 ...  9.47773537e+06\n",
      "  8.71382580e+01 -9.47790413e+06]\n",
      "[-1.43408666e+05  6.28170347e+06  1.36666853e+01 ...  4.73886768e+06\n",
      "  4.35691290e+01 -4.73895207e+06]\n",
      "[-7.17043331e+04  3.14085173e+06  6.83334266e+00 ...  2.36943384e+06\n",
      "  2.17845645e+01 -2.36947603e+06]\n",
      "[-3.58521665e+04  1.57042587e+06  3.41667133e+00 ...  1.18471692e+06\n",
      "  1.08922822e+01 -1.18473802e+06]\n",
      "[-1.79260833e+04  7.85212933e+05  1.70833567e+00 ...  5.92358460e+05\n",
      "  5.44614112e+00 -5.92369008e+05]\n",
      "[-8.96304163e+03  3.92606467e+05  8.54167833e-01 ...  2.96179230e+05\n",
      "  2.72307056e+00 -2.96184504e+05]\n",
      "[-4.48152082e+03  1.96303233e+05  4.27083916e-01 ...  1.48089615e+05\n",
      "  1.36153528e+00 -1.48092252e+05]\n",
      "[-2.24076041e+03  9.81516167e+04  2.13541958e-01 ...  7.40448076e+04\n",
      "  6.80767640e-01 -7.40461261e+04]\n",
      "[-1.12038020e+03  4.90758083e+04  1.06770979e-01 ...  3.70224038e+04\n",
      "  3.40383820e-01 -3.70230630e+04]\n",
      "[-5.60190102e+02  2.45379042e+04  5.33854895e-02 ...  1.85112019e+04\n",
      "  1.70191910e-01 -1.85115315e+04]\n",
      "[-2.80095051e+02  1.22689521e+04  2.66927448e-02 ...  9.25560094e+03\n",
      "  8.50959551e-02 -9.25576576e+03]\n",
      "[-1.40047526e+02  6.13447604e+03  1.33463724e-02 ...  4.62780047e+03\n",
      "  4.25479775e-02 -4.62788288e+03]\n",
      "[-7.00237628e+01  3.06723802e+03  6.67318619e-03 ...  2.31390024e+03\n",
      "  2.12739888e-02 -2.31394144e+03]\n",
      "[-3.50118814e+01  1.53361901e+03  3.33659310e-03 ...  1.15695012e+03\n",
      "  1.06369944e-02 -1.15697072e+03]\n",
      "[-1.75059407e+01  7.66809505e+02  1.66829655e-03 ...  5.78475059e+02\n",
      "  5.31849719e-03 -5.78485360e+02]\n",
      "[-8.75297035e+00  3.83404753e+02  8.34148274e-04 ...  2.89237529e+02\n",
      "  2.65924860e-03 -2.89242680e+02]\n",
      "[-4.37648517e+00  1.91702376e+02  4.17074137e-04 ...  1.44618765e+02\n",
      "  1.32962430e-03 -1.44621340e+02]\n",
      "[-2.18824259e+00  9.58511881e+01  2.08537069e-04 ...  7.23093824e+01\n",
      "  6.64812149e-04 -7.23106700e+01]\n",
      "[-1.09412129e+00  4.79255941e+01  1.04268534e-04 ...  3.61546912e+01\n",
      "  3.32406074e-04 -3.61553350e+01]\n",
      "[-5.47060647e-01  2.39627970e+01  5.21342671e-05 ...  1.80773456e+01\n",
      "  1.66203037e-04 -1.80776675e+01]\n",
      "[-2.73530323e-01  1.19813985e+01  2.60671336e-05 ...  9.03867280e+00\n",
      "  8.31015186e-05 -9.03883375e+00]\n",
      "[-1.36765162e-01  5.99069926e+00  1.30335668e-05 ...  4.51933640e+00\n",
      "  4.15507593e-05 -4.51941687e+00]\n",
      "[-6.83825808e-02  2.99534963e+00  6.51678339e-06 ...  2.25966820e+00\n",
      "  2.07753797e-05 -2.25970844e+00]\n",
      "[-3.41912904e-02  1.49767481e+00  3.25839170e-06 ...  1.12983410e+00\n",
      "  1.03876898e-05 -1.12985422e+00]\n",
      "[-1.70956452e-02  7.48837407e-01  1.62919585e-06 ...  5.64917050e-01\n",
      "  5.19384491e-06 -5.64927109e-01]\n",
      "[-8.54782260e-03  3.74418704e-01  8.14597924e-07 ...  2.82458525e-01\n",
      "  2.59692246e-06 -2.82463555e-01]\n",
      "[-4.27391130e-03  1.87209352e-01  4.07298962e-07 ...  1.41229262e-01\n",
      "  1.29846123e-06 -1.41231777e-01]\n",
      "[-2.13695565e-03  9.36046759e-02  2.03649481e-07 ...  7.06146312e-02\n",
      "  6.49230614e-07 -7.06158886e-02]\n",
      "[-1.06847783e-03  4.68023380e-02  1.01824740e-07 ...  3.53073156e-02\n",
      "  3.24615307e-07 -3.53079443e-02]\n",
      "[-5.34238913e-04  2.34011690e-02  5.09123702e-08 ...  1.76536578e-02\n",
      "  1.62307654e-07 -1.76539722e-02]\n",
      "[-2.67119456e-04  1.17005845e-02  2.54561851e-08 ...  8.82682890e-03\n",
      "  8.11538268e-08 -8.82698608e-03]\n",
      "[-1.33559728e-04  5.85029224e-03  1.27280926e-08 ...  4.41341445e-03\n",
      "  4.05769134e-08 -4.41349304e-03]\n",
      "[-6.67798641e-05  2.92514612e-03  6.36404628e-09 ...  2.20670723e-03\n",
      "  2.02884567e-08 -2.20674652e-03]\n",
      "[-3.33899320e-05  1.46257306e-03  3.18202314e-09 ...  1.10335361e-03\n",
      "  1.01442283e-08 -1.10337326e-03]\n",
      "[-1.66949660e-05  7.31286531e-04  1.59101157e-09 ...  5.51676806e-04\n",
      "  5.07211417e-09 -5.51686630e-04]\n",
      "[-8.34748301e-06  3.65643265e-04  7.95505785e-10 ...  2.75838403e-04\n",
      "  2.53605709e-09 -2.75843315e-04]\n",
      "[-4.17374151e-06  1.82821633e-04  3.97752893e-10 ...  1.37919202e-04\n",
      "  1.26802854e-09 -1.37921658e-04]\n",
      "[-2.08687075e-06  9.14108163e-05  1.98876446e-10 ...  6.89596008e-05\n",
      "  6.34014272e-10 -6.89608288e-05]\n",
      "[-1.04343538e-06  4.57054082e-05  9.94382231e-11 ...  3.44798004e-05\n",
      "  3.17007136e-10 -3.44804144e-05]\n",
      "[-5.21717688e-07  2.28527041e-05  4.97191116e-11 ...  1.72399002e-05\n",
      "  1.58503568e-10 -1.72402072e-05]\n",
      "[-2.60858844e-07  1.14263520e-05  2.48595558e-11 ...  8.61995010e-06\n",
      "  7.92517839e-11 -8.62010359e-06]\n",
      "[-1.30429422e-07  5.71317602e-06  1.24297779e-11 ...  4.30997505e-06\n",
      "  3.96258920e-11 -4.31005180e-06]\n",
      "[-6.52147110e-08  2.85658801e-06  6.21488895e-12 ...  2.15498753e-06\n",
      "  1.98129460e-11 -2.15502590e-06]\n",
      "[-3.26073555e-08  1.42829401e-06  3.10744447e-12 ...  1.07749376e-06\n",
      "  9.90647299e-12 -1.07751295e-06]\n",
      "[-1.63036778e-08  7.14147003e-07  1.55372224e-12 ...  5.38746881e-07\n",
      "  4.95323650e-12 -5.38756475e-07]\n",
      "[-8.15183888e-09  3.57073501e-07  7.76861118e-13 ...  2.69373441e-07\n",
      "  2.47661825e-12 -2.69378237e-07]\n",
      "[-4.07591944e-09  1.78536751e-07  3.88430559e-13 ...  1.34686720e-07\n",
      "  1.23830912e-12 -1.34689119e-07]\n",
      "[-2.03795972e-09  8.92683753e-08  1.94215280e-13 ...  6.73433602e-08\n",
      "  6.19154562e-13 -6.73445593e-08]\n",
      "[-1.01897986e-09  4.46341877e-08  9.71076398e-14 ...  3.36716801e-08\n",
      "  3.09577281e-13 -3.36722797e-08]\n",
      "[-5.09489930e-10  2.23170938e-08  4.85538199e-14 ...  1.68358400e-08\n",
      "  1.54788641e-13 -1.68361398e-08]\n",
      "[-2.54744965e-10  1.11585469e-08  2.42769099e-14 ...  8.41792002e-09\n",
      "  7.73943203e-14 -8.41806992e-09]\n",
      "[-1.27372482e-10  5.57927346e-09  1.21384550e-14 ...  4.20896001e-09\n",
      "  3.86971601e-14 -4.20903496e-09]\n",
      "[-6.36862412e-11  2.78963673e-09  6.06922749e-15 ...  2.10448001e-09\n",
      "  1.93485801e-14 -2.10451748e-09]\n",
      "[-3.18431206e-11  1.39481836e-09  3.03461374e-15 ...  1.05224000e-09\n",
      "  9.67429003e-15 -1.05225874e-09]\n",
      "[-1.59215603e-11  6.97409182e-10  1.51730687e-15 ...  5.26120001e-10\n",
      "  4.83714502e-15 -5.26129370e-10]\n",
      "[-7.96078015e-12  3.48704591e-10  7.58653436e-16 ...  2.63060001e-10\n",
      "  2.41857251e-15 -2.63064685e-10]\n",
      "[-3.98039008e-12  1.74352296e-10  3.79326718e-16 ...  1.31530000e-10\n",
      "  1.20928625e-15 -1.31532342e-10]\n",
      "[-1.99019504e-12  8.71761478e-11  1.89663359e-16 ...  6.57650002e-11\n",
      "  6.04643127e-16 -6.57661712e-11]\n",
      "[-9.95097519e-13  4.35880739e-11  9.48316795e-17 ...  3.28825001e-11\n",
      "  3.02321564e-16 -3.28830856e-11]\n",
      "[-4.97548760e-13  2.17940369e-11  4.74158397e-17 ...  1.64412500e-11\n",
      "  1.51160782e-16 -1.64415428e-11]\n",
      "[-2.48774380e-13  1.08970185e-11  2.37079199e-17 ...  8.22062502e-12\n",
      "  7.55803909e-17 -8.22077140e-12]\n",
      "[-1.24387190e-13  5.44850924e-12  1.18539599e-17 ...  4.11031251e-12\n",
      "  3.77901954e-17 -4.11038570e-12]\n",
      "[-6.21935950e-14  2.72425462e-12  5.92697997e-18 ...  2.05515625e-12\n",
      "  1.88950977e-17 -2.05519285e-12]\n",
      "[-3.10967975e-14  1.36212731e-12  2.96348998e-18 ...  1.02757813e-12\n",
      "  9.44754886e-18 -1.02759643e-12]\n",
      "[-1.55483987e-14  6.81063654e-13  1.48174499e-18 ...  5.13789064e-13\n",
      "  4.72377443e-18 -5.13798213e-13]\n",
      "[-7.77419937e-15  3.40531827e-13  7.40872496e-19 ...  2.56894532e-13\n",
      "  2.36188722e-18 -2.56899106e-13]\n",
      "[-3.88709968e-15  1.70265914e-13  3.70436248e-19 ...  1.28447266e-13\n",
      "  1.18094361e-18 -1.28449553e-13]\n",
      "[-1.94354984e-15  8.51329568e-14  1.85218124e-19 ...  6.42236330e-14\n",
      "  5.90471804e-19 -6.42247766e-14]\n",
      "[-9.71774921e-16  4.25664784e-14  9.26090620e-20 ...  3.21118165e-14\n",
      "  2.95235902e-19 -3.21123883e-14]\n",
      "[-4.85887461e-16  2.12832392e-14  4.63045310e-20 ...  1.60559082e-14\n",
      "  1.47617951e-19 -1.60561941e-14]\n",
      "[-2.42943730e-16  1.06416196e-14  2.31522655e-20 ...  8.02795412e-15\n",
      "  7.38089755e-20 -8.02809707e-15]\n",
      "[-1.21471865e-16  5.32080980e-15  1.15761327e-20 ...  4.01397706e-15\n",
      "  3.69044877e-20 -4.01404854e-15]\n",
      "[-6.07359326e-17  2.66040490e-15  5.78806637e-21 ...  2.00698853e-15\n",
      "  1.84522439e-20 -2.00702427e-15]\n",
      "[-3.03679663e-17  1.33020245e-15  2.89403319e-21 ...  1.00349427e-15\n",
      "  9.22612193e-21 -1.00351213e-15]\n",
      "[-3.03679663e-17  1.33020245e-15  2.89403319e-21 ...  1.00349427e-15\n",
      "  9.22612193e-21 -1.00351213e-15]\n",
      "[-3.03679663e-17  1.33020245e-15  2.89403319e-21 ...  1.00349427e-15\n",
      "  9.22612193e-21 -1.00351213e-15]\n",
      "[-4.55519494e-17  1.99530368e-15  4.34104978e-21 ...  1.50524140e-15\n",
      "  1.38391829e-20 -1.50526820e-15]\n",
      "[-4.55519494e-17  1.99530368e-15  4.34104978e-21 ...  1.50524140e-15\n",
      "  1.38391829e-20 -1.50526820e-15]\n",
      "[-3.79599579e-17  1.66275306e-15  3.61754148e-21 ...  1.25436783e-15\n",
      "  1.15326524e-20 -1.25439017e-15]\n",
      "[-3.41639621e-17  1.49647776e-15  3.25578734e-21 ...  1.12893105e-15\n",
      "  1.03793872e-20 -1.12895115e-15]\n",
      "[-3.22659642e-17  1.41334010e-15  3.07491026e-21 ...  1.06621266e-15\n",
      "  9.80275455e-21 -1.06623164e-15]\n",
      "[-3.22659642e-17  1.41334010e-15  3.07491026e-21 ...  1.06621266e-15\n",
      "  9.80275455e-21 -1.06623164e-15]\n",
      "[-3.22659642e-17  1.41334010e-15  3.07491026e-21 ...  1.06621266e-15\n",
      "  9.80275455e-21 -1.06623164e-15]\n",
      "[-3.32149631e-17  1.45490893e-15  3.16534880e-21 ...  1.09757185e-15\n",
      "  1.00910709e-20 -1.09759140e-15]\n",
      "[-3.32149631e-17  1.45490893e-15  3.16534880e-21 ...  1.09757185e-15\n",
      "  1.00910709e-20 -1.09759140e-15]\n",
      "[-3.27404637e-17  1.43412452e-15  3.12012953e-21 ...  1.08189225e-15\n",
      "  9.94691271e-21 -1.08191152e-15]\n",
      "[-3.25032139e-17  1.42373231e-15  3.09751990e-21 ...  1.07405246e-15\n",
      "  9.87483363e-21 -1.07407158e-15]\n",
      "[-3.23845890e-17  1.41853621e-15  3.08621508e-21 ...  1.07013256e-15\n",
      "  9.83879409e-21 -1.07015161e-15]\n",
      "[-3.23845890e-17  1.41853621e-15  3.08621508e-21 ...  1.07013256e-15\n",
      "  9.83879409e-21 -1.07015161e-15]\n",
      "[-3.23845890e-17  1.41853621e-15  3.08621508e-21 ...  1.07013256e-15\n",
      "  9.83879409e-21 -1.07015161e-15]\n",
      "[-3.24439015e-17  1.42113426e-15  3.09186749e-21 ...  1.07209251e-15\n",
      "  9.85681386e-21 -1.07211160e-15]\n",
      "[-3.25032139e-17  1.42373231e-15  3.09751990e-21 ...  1.07405246e-15\n",
      "  9.87483363e-21 -1.07407158e-15]\n",
      "[-3.25032139e-17  1.42373231e-15  3.09751990e-21 ...  1.07405246e-15\n",
      "  9.87483363e-21 -1.07407158e-15]\n",
      "[-3.25625263e-17  1.42633036e-15  3.10317230e-21 ...  1.07601241e-15\n",
      "  9.89285340e-21 -1.07603157e-15]\n",
      "[-3.26218388e-17  1.42892841e-15  3.10882471e-21 ...  1.07797236e-15\n",
      "  9.91087317e-21 -1.07799155e-15]\n",
      "[-3.26218388e-17  1.42892841e-15  3.10882471e-21 ...  1.07797236e-15\n",
      "  9.91087317e-21 -1.07799155e-15]\n",
      "[-3.26811512e-17  1.43152646e-15  3.11447712e-21 ...  1.07993230e-15\n",
      "  9.92889294e-21 -1.07995153e-15]\n",
      "[-3.27404637e-17  1.43412452e-15  3.12012953e-21 ...  1.08189225e-15\n",
      "  9.94691271e-21 -1.08191152e-15]\n",
      "[-3.27404637e-17  1.43412452e-15  3.12012953e-21 ...  1.08189225e-15\n",
      "  9.94691271e-21 -1.08191152e-15]\n",
      "[-3.27997761e-17  1.43672257e-15  3.12578194e-21 ...  1.08385220e-15\n",
      "  9.96493248e-21 -1.08387150e-15]\n",
      "[-3.28590885e-17  1.43932062e-15  3.13143435e-21 ...  1.08581215e-15\n",
      "  9.98295225e-21 -1.08583149e-15]\n",
      "[-3.28590885e-17  1.43932062e-15  3.13143435e-21 ...  1.08581215e-15\n",
      "  9.98295225e-21 -1.08583149e-15]\n",
      "[-3.29184010e-17  1.44191867e-15  3.13708676e-21 ...  1.08777210e-15\n",
      "  1.00009720e-20 -1.08779147e-15]\n",
      "[-3.29777134e-17  1.44451672e-15  3.14273916e-21 ...  1.08973205e-15\n",
      "  1.00189918e-20 -1.08975146e-15]\n",
      "[-3.29777134e-17  1.44451672e-15  3.14273916e-21 ...  1.08973205e-15\n",
      "  1.00189918e-20 -1.08975146e-15]\n",
      "[-3.30370258e-17  1.44711477e-15  3.14839157e-21 ...  1.09169200e-15\n",
      "  1.00370116e-20 -1.09171144e-15]\n",
      "[-3.30963383e-17  1.44971283e-15  3.15404398e-21 ...  1.09365195e-15\n",
      "  1.00550313e-20 -1.09367143e-15]\n",
      "[-3.30963383e-17  1.44971283e-15  3.15404398e-21 ...  1.09365195e-15\n",
      "  1.00550313e-20 -1.09367143e-15]\n",
      "[-3.31556507e-17  1.45231088e-15  3.15969639e-21 ...  1.09561190e-15\n",
      "  1.00730511e-20 -1.09563141e-15]\n",
      "[-3.32149631e-17  1.45490893e-15  3.16534880e-21 ...  1.09757185e-15\n",
      "  1.00910709e-20 -1.09759140e-15]\n",
      "[-3.32149631e-17  1.45490893e-15  3.16534880e-21 ...  1.09757185e-15\n",
      "  1.00910709e-20 -1.09759140e-15]\n",
      "[-3.32742756e-17  1.45750698e-15  3.17100121e-21 ...  1.09953180e-15\n",
      "  1.01090906e-20 -1.09955138e-15]\n",
      "[-3.33335880e-17  1.46010503e-15  3.17665362e-21 ...  1.10149175e-15\n",
      "  1.01271104e-20 -1.10151137e-15]\n",
      "[-3.33335880e-17  1.46010503e-15  3.17665362e-21 ...  1.10149175e-15\n",
      "  1.01271104e-20 -1.10151137e-15]\n",
      "[-3.33929004e-17  1.46270308e-15  3.18230602e-21 ...  1.10345170e-15\n",
      "  1.01451302e-20 -1.10347135e-15]\n",
      "[-3.34522129e-17  1.46530114e-15  3.18795843e-21 ...  1.10541165e-15\n",
      "  1.01631499e-20 -1.10543134e-15]\n",
      "[-3.34522129e-17  1.46530114e-15  3.18795843e-21 ...  1.10541165e-15\n",
      "  1.01631499e-20 -1.10543134e-15]\n",
      "[-3.35115253e-17  1.46789919e-15  3.19361084e-21 ...  1.10737160e-15\n",
      "  1.01811697e-20 -1.10739132e-15]\n",
      "[-3.35708377e-17  1.47049724e-15  3.19926325e-21 ...  1.10933155e-15\n",
      "  1.01991895e-20 -1.10935130e-15]\n",
      "[-3.35708377e-17  1.47049724e-15  3.19926325e-21 ...  1.10933155e-15\n",
      "  1.01991895e-20 -1.10935130e-15]\n",
      "[-3.36301502e-17  1.47309529e-15  3.20491566e-21 ...  1.11129150e-15\n",
      "  1.02172093e-20 -1.11131129e-15]\n",
      "[-3.36894626e-17  1.47569334e-15  3.21056807e-21 ...  1.11325145e-15\n",
      "  1.02352290e-20 -1.11327127e-15]\n",
      "[-3.36894626e-17  1.47569334e-15  3.21056807e-21 ...  1.11325145e-15\n",
      "  1.02352290e-20 -1.11327127e-15]\n",
      "[-3.37487750e-17  1.47829139e-15  3.21622048e-21 ...  1.11521140e-15\n",
      "  1.02532488e-20 -1.11523126e-15]\n",
      "[-3.38080875e-17  1.48088945e-15  3.22187288e-21 ...  1.11717135e-15\n",
      "  1.02712686e-20 -1.11719124e-15]\n",
      "[-3.38080875e-17  1.48088945e-15  3.22187288e-21 ...  1.11717135e-15\n",
      "  1.02712686e-20 -1.11719124e-15]\n",
      "[-3.38673999e-17  1.48348750e-15  3.22752529e-21 ...  1.11913130e-15\n",
      "  1.02892883e-20 -1.11915123e-15]\n",
      "[-3.39267123e-17  1.48608555e-15  3.23317770e-21 ...  1.12109125e-15\n",
      "  1.03073081e-20 -1.12111121e-15]\n",
      "[-3.39267123e-17  1.48608555e-15  3.23317770e-21 ...  1.12109125e-15\n",
      "  1.03073081e-20 -1.12111121e-15]\n",
      "[-3.39860248e-17  1.48868360e-15  3.23883011e-21 ...  1.12305120e-15\n",
      "  1.03253279e-20 -1.12307120e-15]\n",
      "[-3.40453372e-17  1.49128165e-15  3.24448252e-21 ...  1.12501115e-15\n",
      "  1.03433476e-20 -1.12503118e-15]\n",
      "[-3.40453372e-17  1.49128165e-15  3.24448252e-21 ...  1.12501115e-15\n",
      "  1.03433476e-20 -1.12503118e-15]\n",
      "[-3.41046496e-17  1.49387970e-15  3.25013493e-21 ...  1.12697110e-15\n",
      "  1.03613674e-20 -1.12699117e-15]\n",
      "[-3.41639621e-17  1.49647776e-15  3.25578734e-21 ...  1.12893105e-15\n",
      "  1.03793872e-20 -1.12895115e-15]\n",
      "[-3.41639621e-17  1.49647776e-15  3.25578734e-21 ...  1.12893105e-15\n",
      "  1.03793872e-20 -1.12895115e-15]\n",
      "[-3.42232745e-17  1.49907581e-15  3.26143974e-21 ...  1.13089100e-15\n",
      "  1.03974069e-20 -1.13091114e-15]\n",
      "[-3.42825869e-17  1.50167386e-15  3.26709215e-21 ...  1.13285095e-15\n",
      "  1.04154267e-20 -1.13287112e-15]\n",
      "[-3.42825869e-17  1.50167386e-15  3.26709215e-21 ...  1.13285095e-15\n",
      "  1.04154267e-20 -1.13287112e-15]\n",
      "[-3.43418994e-17  1.50427191e-15  3.27274456e-21 ...  1.13481090e-15\n",
      "  1.04334465e-20 -1.13483110e-15]\n",
      "[-3.44012118e-17  1.50686996e-15  3.27839697e-21 ...  1.13677085e-15\n",
      "  1.04514663e-20 -1.13679109e-15]\n",
      "[-3.44012118e-17  1.50686996e-15  3.27839697e-21 ...  1.13677085e-15\n",
      "  1.04514663e-20 -1.13679109e-15]\n"
     ]
    },
    {
     "name": "stderr",
     "output_type": "stream",
     "text": [
      "/var/folders/_b/trlmhkgj5xq968yccj4vtg1c0000gn/T/ipykernel_29777/3601151780.py:9: RuntimeWarning: More than 20 figures have been opened. Figures created through the pyplot interface (`matplotlib.pyplot.figure`) are retained until explicitly closed and may consume too much memory. (To control this warning, see the rcParam `figure.max_open_warning`). Consider using `matplotlib.pyplot.close()`.\n",
      "  plt.figure()\n"
     ]
    },
    {
     "name": "stdout",
     "output_type": "stream",
     "text": [
      "[-3.44605242e-17  1.50946801e-15  3.28404938e-21 ...  1.13873080e-15\n",
      "  1.04694860e-20 -1.13875107e-15]\n",
      "[-3.45198367e-17  1.51206607e-15  3.28970179e-21 ...  1.14069075e-15\n",
      "  1.04875058e-20 -1.14071106e-15]\n",
      "[-3.45198367e-17  1.51206607e-15  3.28970179e-21 ...  1.14069075e-15\n",
      "  1.04875058e-20 -1.14071106e-15]\n",
      "[-3.45791491e-17  1.51466412e-15  3.29535420e-21 ...  1.14265070e-15\n",
      "  1.05055256e-20 -1.14267104e-15]\n",
      "[-3.46384615e-17  1.51726217e-15  3.30100660e-21 ...  1.14461065e-15\n",
      "  1.05235453e-20 -1.14463103e-15]\n",
      "[-3.46384615e-17  1.51726217e-15  3.30100660e-21 ...  1.14461065e-15\n",
      "  1.05235453e-20 -1.14463103e-15]\n",
      "[-3.46977740e-17  1.51986022e-15  3.30665901e-21 ...  1.14657060e-15\n",
      "  1.05415651e-20 -1.14659101e-15]\n",
      "[-3.47570864e-17  1.52245827e-15  3.31231142e-21 ...  1.14853055e-15\n",
      "  1.05595849e-20 -1.14855100e-15]\n",
      "[-3.47570864e-17  1.52245827e-15  3.31231142e-21 ...  1.14853055e-15\n",
      "  1.05595849e-20 -1.14855100e-15]\n",
      "[-3.48163988e-17  1.52505632e-15  3.31796383e-21 ...  1.15049050e-15\n",
      "  1.05776046e-20 -1.15051098e-15]\n",
      "[-3.48757113e-17  1.52765438e-15  3.32361624e-21 ...  1.15245045e-15\n",
      "  1.05956244e-20 -1.15247097e-15]\n",
      "[-3.48757113e-17  1.52765438e-15  3.32361624e-21 ...  1.15245045e-15\n",
      "  1.05956244e-20 -1.15247097e-15]\n",
      "[-3.49350237e-17  1.53025243e-15  3.32926865e-21 ...  1.15441039e-15\n",
      "  1.06136442e-20 -1.15443095e-15]\n",
      "[-3.49943361e-17  1.53285048e-15  3.33492106e-21 ...  1.15637034e-15\n",
      "  1.06316639e-20 -1.15639094e-15]\n",
      "[-3.49943361e-17  1.53285048e-15  3.33492106e-21 ...  1.15637034e-15\n",
      "  1.06316639e-20 -1.15639094e-15]\n",
      "[-3.50536486e-17  1.53544853e-15  3.34057346e-21 ...  1.15833029e-15\n",
      "  1.06496837e-20 -1.15835092e-15]\n",
      "[-3.51129610e-17  1.53804658e-15  3.34622587e-21 ...  1.16029024e-15\n",
      "  1.06677035e-20 -1.16031091e-15]\n",
      "[-3.51129610e-17  1.53804658e-15  3.34622587e-21 ...  1.16029024e-15\n",
      "  1.06677035e-20 -1.16031091e-15]\n",
      "[-3.51722735e-17  1.54064463e-15  3.35187828e-21 ...  1.16225019e-15\n",
      "  1.06857233e-20 -1.16227089e-15]\n",
      "[-3.52315859e-17  1.54324269e-15  3.35753069e-21 ...  1.16421014e-15\n",
      "  1.07037430e-20 -1.16423087e-15]\n",
      "[-3.52315859e-17  1.54324269e-15  3.35753069e-21 ...  1.16421014e-15\n",
      "  1.07037430e-20 -1.16423087e-15]\n",
      "[-3.52908983e-17  1.54584074e-15  3.36318310e-21 ...  1.16617009e-15\n",
      "  1.07217628e-20 -1.16619086e-15]\n",
      "[-3.53502108e-17  1.54843879e-15  3.36883551e-21 ...  1.16813004e-15\n",
      "  1.07397826e-20 -1.16815084e-15]\n",
      "[-3.53502108e-17  1.54843879e-15  3.36883551e-21 ...  1.16813004e-15\n",
      "  1.07397826e-20 -1.16815084e-15]\n",
      "[-3.54095232e-17  1.55103684e-15  3.37448792e-21 ...  1.17008999e-15\n",
      "  1.07578023e-20 -1.17011083e-15]\n",
      "[-3.54688356e-17  1.55363489e-15  3.38014032e-21 ...  1.17204994e-15\n",
      "  1.07758221e-20 -1.17207081e-15]\n",
      "[-3.54688356e-17  1.55363489e-15  3.38014032e-21 ...  1.17204994e-15\n",
      "  1.07758221e-20 -1.17207081e-15]\n",
      "[-3.55281481e-17  1.55623294e-15  3.38579273e-21 ...  1.17400989e-15\n",
      "  1.07938419e-20 -1.17403080e-15]\n",
      "[-3.55874605e-17  1.55883100e-15  3.39144514e-21 ...  1.17596984e-15\n",
      "  1.08118616e-20 -1.17599078e-15]\n",
      "[-3.55874605e-17  1.55883100e-15  3.39144514e-21 ...  1.17596984e-15\n",
      "  1.08118616e-20 -1.17599078e-15]\n",
      "[-3.56467729e-17  1.56142905e-15  3.39709755e-21 ...  1.17792979e-15\n",
      "  1.08298814e-20 -1.17795077e-15]\n",
      "[-3.57060854e-17  1.56402710e-15  3.40274996e-21 ...  1.17988974e-15\n",
      "  1.08479012e-20 -1.17991075e-15]\n",
      "[-3.57060854e-17  1.56402710e-15  3.40274996e-21 ...  1.17988974e-15\n",
      "  1.08479012e-20 -1.17991075e-15]\n"
     ]
    },
    {
     "ename": "KeyboardInterrupt",
     "evalue": "",
     "output_type": "error",
     "traceback": [
      "\u001b[0;31m---------------------------------------------------------------------------\u001b[0m",
      "\u001b[0;31mKeyboardInterrupt\u001b[0m                         Traceback (most recent call last)",
      "Cell \u001b[0;32mIn[47], line 1\u001b[0m\n\u001b[0;32m----> 1\u001b[0m \u001b[43mgradient_descent\u001b[49m\u001b[43m(\u001b[49m\u001b[43memp\u001b[49m\u001b[43m,\u001b[49m\u001b[43m \u001b[49m\u001b[43mdata_list\u001b[49m\u001b[43m,\u001b[49m\u001b[43m \u001b[49m\u001b[43mcoords\u001b[49m\u001b[43m,\u001b[49m\u001b[43m \u001b[49m\u001b[43mcoeffs\u001b[49m\u001b[43m)\u001b[49m\n",
      "Cell \u001b[0;32mIn[46], line 18\u001b[0m, in \u001b[0;36mgradient_descent\u001b[0;34m(image, data_list, coords, coeffs, subset_percent)\u001b[0m\n\u001b[1;32m     14\u001b[0m \u001b[38;5;66;03m#selection = np.random.choice(np.arange(len(data_list)), size=len(coords)*subset_percent//100, replace=False) # selection is full of indicies\u001b[39;00m\n\u001b[1;32m     15\u001b[0m \u001b[38;5;66;03m#subset = [data_list[index] for index in selection]\u001b[39;00m\n\u001b[1;32m     16\u001b[0m prev_loss \u001b[38;5;241m=\u001b[39m loss(image_copy, data_list, coords)\n\u001b[0;32m---> 18\u001b[0m grad \u001b[38;5;241m=\u001b[39m \u001b[43mgradient_2\u001b[49m\u001b[43m(\u001b[49m\u001b[43mdata_list\u001b[49m\u001b[43m,\u001b[49m\u001b[43m \u001b[49m\u001b[43mcoords\u001b[49m\u001b[43m,\u001b[49m\u001b[43m \u001b[49m\u001b[43mcoeffs\u001b[49m\u001b[43m,\u001b[49m\u001b[43m \u001b[49m\u001b[43mimage_copy\u001b[49m\u001b[43m)\u001b[49m \u001b[38;5;241m+\u001b[39m gradient_regularizer(image_copy)\n\u001b[1;32m     19\u001b[0m new_image \u001b[38;5;241m=\u001b[39m image_copy \u001b[38;5;241m-\u001b[39m t \u001b[38;5;241m*\u001b[39m grad\n\u001b[1;32m     20\u001b[0m new_loss \u001b[38;5;241m=\u001b[39m loss(new_image, data_list, coords)\n",
      "Cell \u001b[0;32mIn[27], line 10\u001b[0m, in \u001b[0;36mgradient_2\u001b[0;34m(data_list, coords, coeffs, image, FOV)\u001b[0m\n\u001b[1;32m      8\u001b[0m vis_data \u001b[38;5;241m=\u001b[39m data_list[i]\u001b[38;5;241m.\u001b[39mvis_data\n\u001b[1;32m      9\u001b[0m vis_image \u001b[38;5;241m=\u001b[39m vis_images[i]\n\u001b[0;32m---> 10\u001b[0m term_1 \u001b[38;5;241m=\u001b[39m coeffs[row,col,i,\u001b[38;5;241m0\u001b[39m] \u001b[38;5;241m*\u001b[39m (np\u001b[38;5;241m.\u001b[39mconj(vis_image) \u001b[38;5;241m-\u001b[39m \u001b[43mnp\u001b[49m\u001b[38;5;241;43m.\u001b[39;49m\u001b[43mconj\u001b[49m\u001b[43m(\u001b[49m\u001b[43mvis_data\u001b[49m\u001b[43m)\u001b[49m)\n\u001b[1;32m     11\u001b[0m term_2 \u001b[38;5;241m=\u001b[39m coeffs[row,col,i,\u001b[38;5;241m1\u001b[39m] \u001b[38;5;241m*\u001b[39m (vis_image \u001b[38;5;241m-\u001b[39m vis_data)\n\u001b[1;32m     12\u001b[0m gradient_sum \u001b[38;5;241m+\u001b[39m\u001b[38;5;241m=\u001b[39m (term_1 \u001b[38;5;241m+\u001b[39m term_2)\u001b[38;5;241m/\u001b[39m(data_list[i]\u001b[38;5;241m.\u001b[39msigma \u001b[38;5;241m*\u001b[39m\u001b[38;5;241m*\u001b[39m \u001b[38;5;241m2\u001b[39m)\n",
      "\u001b[0;31mKeyboardInterrupt\u001b[0m: "
     ]
    },
    {
     "data": {
      "image/png": "[encoded data removed]",
      "text/plain": [
       "<Figure size 640x480 with 1 Axes>"
      ]
     },
     "metadata": {},
     "output_type": "display_data"
    },
    {
     "data": {
      "image/png": "[encoded data removed]",
      "text/plain": [
       "<Figure size 640x480 with 1 Axes>"
      ]
     },
     "metadata": {},
     "output_type": "display_data"
    },
    {
     "data": {
      "image/png": "[encoded data removed]",
      "text/plain": [
       "<Figure size 640x480 with 1 Axes>"
      ]
     },
     "metadata": {},
     "output_type": "display_data"
    },
    {
     "data": {
      "image/png": "[encoded data removed]",
      "text/plain": [
       "<Figure size 640x480 with 1 Axes>"
      ]
     },
     "metadata": {},
     "output_type": "display_data"
    },
    {
     "data": {
      "image/png": "[encoded data removed]",
      "text/plain": [
       "<Figure size 640x480 with 1 Axes>"
      ]
     },
     "metadata": {},
     "output_type": "display_data"
    },
    {
     "data": {
      "image/png": "[encoded data removed]",
      "text/plain": [
       "<Figure size 640x480 with 1 Axes>"
      ]
     },
     "metadata": {},
     "output_type": "display_data"
    },
    {
     "data": {
      "image/png": "[encoded data removed]",
      "text/plain": [
       "<Figure size 640x480 with 1 Axes>"
      ]
     },
     "metadata": {},
     "output_type": "display_data"
    },
    {
     "data": {
      "image/png": "[encoded data removed]",
      "text/plain": [
       "<Figure size 640x480 with 1 Axes>"
      ]
     },
     "metadata": {},
     "output_type": "display_data"
    },
    {
     "data": {
      "image/png": "[encoded data removed]",
      "text/plain": [
       "<Figure size 640x480 with 1 Axes>"
      ]
     },
     "metadata": {},
     "output_type": "display_data"
    },
    {
     "data": {
      "image/png": "[encoded data removed]",
      "text/plain": [
       "<Figure size 640x480 with 1 Axes>"
      ]
     },
     "metadata": {},
     "output_type": "display_data"
    },
    {
     "data": {
      "image/png": "[encoded data removed]",
      "text/plain": [
       "<Figure size 640x480 with 1 Axes>"
      ]
     },
     "metadata": {},
     "output_type": "display_data"
    },
    {
     "data": {
      "image/png": "[encoded data removed]",
      "text/plain": [
       "<Figure size 640x480 with 1 Axes>"
      ]
     },
     "metadata": {},
     "output_type": "display_data"
    },
    {
     "data": {
      "image/png": "[encoded data removed]",
      "text/plain": [
       "<Figure size 640x480 with 1 Axes>"
      ]
     },
     "metadata": {},
     "output_type": "display_data"
    },
    {
     "data": {
      "image/png": "[encoded data removed]",
      "text/plain": [
       "<Figure size 640x480 with 1 Axes>"
      ]
     },
     "metadata": {},
     "output_type": "display_data"
    },
    {
     "data": {
      "image/png": "[encoded data removed]",
      "text/plain": [
       "<Figure size 640x480 with 1 Axes>"
      ]
     },
     "metadata": {},
     "output_type": "display_data"
    },
    {
     "data": {
      "image/png": "[encoded data removed]",
      "text/plain": [
       "<Figure size 640x480 with 1 Axes>"
      ]
     },
     "metadata": {},
     "output_type": "display_data"
    },
    {
     "data": {
      "image/png": "[encoded data removed]",
      "text/plain": [
       "<Figure size 640x480 with 1 Axes>"
      ]
     },
     "metadata": {},
     "output_type": "display_data"
    },
    {
     "data": {
      "image/png": "[encoded data removed]",
      "text/plain": [
       "<Figure size 640x480 with 1 Axes>"
      ]
     },
     "metadata": {},
     "output_type": "display_data"
    },
    {
     "data": {
      "image/png": "[encoded data removed]",
      "text/plain": [
       "<Figure size 640x480 with 1 Axes>"
      ]
     },
     "metadata": {},
     "output_type": "display_data"
    },
    {
     "data": {
      "image/png": "[encoded data removed]",
      "text/plain": [
       "<Figure size 640x480 with 1 Axes>"
      ]
     },
     "metadata": {},
     "output_type": "display_data"
    },
    {
     "data": {
      "image/png": "[encoded data removed]",
      "text/plain": [
       "<Figure size 640x480 with 1 Axes>"
      ]
     },
     "metadata": {},
     "output_type": "display_data"
    },
    {
     "data": {
      "image/png": "[encoded data removed]",
      "text/plain": [
       "<Figure size 640x480 with 1 Axes>"
      ]
     },
     "metadata": {},
     "output_type": "display_data"
    },
    {
     "data": {
      "image/png": "[encoded data removed]",
      "text/plain": [
       "<Figure size 640x480 with 1 Axes>"
      ]
     },
     "metadata": {},
     "output_type": "display_data"
    },
    {
     "data": {
      "image/png": "[encoded data removed]",
      "text/plain": [
       "<Figure size 640x480 with 1 Axes>"
      ]
     },
     "metadata": {},
     "output_type": "display_data"
    },
    {
     "data": {
      "image/png": "[encoded data removed]",
      "text/plain": [
       "<Figure size 640x480 with 1 Axes>"
      ]
     },
     "metadata": {},
     "output_type": "display_data"
    },
    {
     "data": {
      "image/png": "[encoded data removed]",
      "text/plain": [
       "<Figure size 640x480 with 1 Axes>"
      ]
     },
     "metadata": {},
     "output_type": "display_data"
    },
    {
     "data": {
      "image/png": "[encoded data removed]",
      "text/plain": [
       "<Figure size 640x480 with 1 Axes>"
      ]
     },
     "metadata": {},
     "output_type": "display_data"
    },
    {
     "data": {
      "image/png": "[encoded data removed]",
      "text/plain": [
       "<Figure size 640x480 with 1 Axes>"
      ]
     },
     "metadata": {},
     "output_type": "display_data"
    },
    {
     "data": {
      "image/png": "[encoded data removed]",
      "text/plain": [
       "<Figure size 640x480 with 1 Axes>"
      ]
     },
     "metadata": {},
     "output_type": "display_data"
    },
    {
     "data": {
      "image/png": "[encoded data removed]",
      "text/plain": [
       "<Figure size 640x480 with 1 Axes>"
      ]
     },
     "metadata": {},
     "output_type": "display_data"
    },
    {
     "data": {
      "image/png": "[encoded data removed]",
      "text/plain": [
       "<Figure size 640x480 with 1 Axes>"
      ]
     },
     "metadata": {},
     "output_type": "display_data"
    },
    {
     "data": {
      "image/png": "[encoded data removed]",
      "text/plain": [
       "<Figure size 640x480 with 1 Axes>"
      ]
     },
     "metadata": {},
     "output_type": "display_data"
    }
   ],
   "source": [
    "gradient_descent(emp, data_list, coords, coeffs)"
   ]
  },
  {
   "cell_type": "code",
   "execution_count": null,
   "metadata": {},
   "outputs": [],
   "source": [
    "test = np.zeros((80,80))\n",
    "ft_image = np.fft.fftshift(np.fft.fft2(test))\n",
    "len(ft_image)"
   ]
  },
  {
   "cell_type": "code",
   "execution_count": 17,
   "metadata": {},
   "outputs": [],
   "source": [
    "def process_data(data_df):\n",
    "    coords = []\n",
    "    data_list = []\n",
    "    for i in range(len(data_df)):\n",
    "        data_list.append(data(data_df.loc[i, 'U(lambda)'], data_df.loc[i, 'V(lambda)'], data_df.loc[i, 'Iphase(d)'], data_df.loc[i, 'Iamp(Jy)'], data_df.loc[i, 'Isigma(Jy)']))\n",
    "        coords.append([data_df.loc[i, 'U(lambda)'], data_df.loc[i, 'V(lambda)']])\n",
    "    coords = np.array(coords)\n",
    "    return coords, data_list"
   ]
  },
  {
   "cell_type": "code",
   "execution_count": 18,
   "metadata": {},
   "outputs": [],
   "source": [
    "def read_data(filename: str()):\n",
    "    df = pd.read_csv(filename)\n",
    "    return df"
   ]
  },
  {
   "cell_type": "code",
   "execution_count": 19,
   "metadata": {},
   "outputs": [
    {
     "data": {
      "text/html": [
       "<div>\n",
       "<style scoped>\n",
       "    .dataframe tbody tr th:only-of-type {\n",
       "        vertical-align: middle;\n",
       "    }\n",
       "\n",
       "    .dataframe tbody tr th {\n",
       "        vertical-align: top;\n",
       "    }\n",
       "\n",
       "    .dataframe thead th {\n",
       "        text-align: right;\n",
       "    }\n",
       "</style>\n",
       "<table border=\"1\" class=\"dataframe\">\n",
       "  <thead>\n",
       "    <tr style=\"text-align: right;\">\n",
       "      <th></th>\n",
       "      <th>#time(UTC)</th>\n",
       "      <th>T1</th>\n",
       "      <th>T2</th>\n",
       "      <th>U(lambda)</th>\n",
       "      <th>V(lambda)</th>\n",
       "      <th>Iamp(Jy)</th>\n",
       "      <th>Iphase(d)</th>\n",
       "      <th>Isigma(Jy)</th>\n",
       "    </tr>\n",
       "  </thead>\n",
       "  <tbody>\n",
       "    <tr>\n",
       "      <th>0</th>\n",
       "      <td>0.768056</td>\n",
       "      <td>AA</td>\n",
       "      <td>LM</td>\n",
       "      <td>1.081710e+09</td>\n",
       "      <td>-3.833722e+09</td>\n",
       "      <td>0.014292</td>\n",
       "      <td>-118.9454</td>\n",
       "      <td>0.005847</td>\n",
       "    </tr>\n",
       "    <tr>\n",
       "      <th>1</th>\n",
       "      <td>0.768056</td>\n",
       "      <td>AA</td>\n",
       "      <td>PV</td>\n",
       "      <td>-4.399933e+09</td>\n",
       "      <td>-4.509480e+09</td>\n",
       "      <td>0.136734</td>\n",
       "      <td>5.8638</td>\n",
       "      <td>0.004968</td>\n",
       "    </tr>\n",
       "    <tr>\n",
       "      <th>2</th>\n",
       "      <td>0.768056</td>\n",
       "      <td>AA</td>\n",
       "      <td>AP</td>\n",
       "      <td>8.349088e+05</td>\n",
       "      <td>-1.722271e+06</td>\n",
       "      <td>1.119780</td>\n",
       "      <td>58.1095</td>\n",
       "      <td>0.005243</td>\n",
       "    </tr>\n",
       "    <tr>\n",
       "      <th>3</th>\n",
       "      <td>0.768056</td>\n",
       "      <td>AP</td>\n",
       "      <td>LM</td>\n",
       "      <td>1.080840e+09</td>\n",
       "      <td>-3.832004e+09</td>\n",
       "      <td>0.018448</td>\n",
       "      <td>-137.6802</td>\n",
       "      <td>0.044576</td>\n",
       "    </tr>\n",
       "    <tr>\n",
       "      <th>4</th>\n",
       "      <td>0.768056</td>\n",
       "      <td>AP</td>\n",
       "      <td>PV</td>\n",
       "      <td>-4.400757e+09</td>\n",
       "      <td>-4.507747e+09</td>\n",
       "      <td>0.139619</td>\n",
       "      <td>-57.1724</td>\n",
       "      <td>0.032591</td>\n",
       "    </tr>\n",
       "    <tr>\n",
       "      <th>...</th>\n",
       "      <td>...</td>\n",
       "      <td>...</td>\n",
       "      <td>...</td>\n",
       "      <td>...</td>\n",
       "      <td>...</td>\n",
       "      <td>...</td>\n",
       "      <td>...</td>\n",
       "      <td>...</td>\n",
       "    </tr>\n",
       "    <tr>\n",
       "      <th>6453</th>\n",
       "      <td>8.165278</td>\n",
       "      <td>AZ</td>\n",
       "      <td>LM</td>\n",
       "      <td>-1.078324e+09</td>\n",
       "      <td>1.029597e+09</td>\n",
       "      <td>0.315983</td>\n",
       "      <td>10.9377</td>\n",
       "      <td>0.030449</td>\n",
       "    </tr>\n",
       "    <tr>\n",
       "      <th>6454</th>\n",
       "      <td>8.165278</td>\n",
       "      <td>AZ</td>\n",
       "      <td>JC</td>\n",
       "      <td>3.392180e+09</td>\n",
       "      <td>9.968579e+08</td>\n",
       "      <td>0.058864</td>\n",
       "      <td>46.0474</td>\n",
       "      <td>0.090288</td>\n",
       "    </tr>\n",
       "    <tr>\n",
       "      <th>6455</th>\n",
       "      <td>8.165278</td>\n",
       "      <td>JC</td>\n",
       "      <td>LM</td>\n",
       "      <td>-4.470504e+09</td>\n",
       "      <td>3.273711e+07</td>\n",
       "      <td>0.108582</td>\n",
       "      <td>-178.7050</td>\n",
       "      <td>0.043965</td>\n",
       "    </tr>\n",
       "    <tr>\n",
       "      <th>6456</th>\n",
       "      <td>8.165278</td>\n",
       "      <td>JC</td>\n",
       "      <td>SM</td>\n",
       "      <td>1.745735e+04</td>\n",
       "      <td>-1.192282e+05</td>\n",
       "      <td>1.123722</td>\n",
       "      <td>-29.5589</td>\n",
       "      <td>0.091870</td>\n",
       "    </tr>\n",
       "    <tr>\n",
       "      <th>6457</th>\n",
       "      <td>8.165278</td>\n",
       "      <td>LM</td>\n",
       "      <td>SM</td>\n",
       "      <td>4.470522e+09</td>\n",
       "      <td>-3.285633e+07</td>\n",
       "      <td>0.104931</td>\n",
       "      <td>96.6936</td>\n",
       "      <td>0.028783</td>\n",
       "    </tr>\n",
       "  </tbody>\n",
       "</table>\n",
       "<p>6458 rows × 8 columns</p>\n",
       "</div>"
      ],
      "text/plain": [
       "      #time(UTC)  T1  T2     U(lambda)     V(lambda)  Iamp(Jy)  Iphase(d)  \\\n",
       "0       0.768056  AA  LM  1.081710e+09 -3.833722e+09  0.014292  -118.9454   \n",
       "1       0.768056  AA  PV -4.399933e+09 -4.509480e+09  0.136734     5.8638   \n",
       "2       0.768056  AA  AP  8.349088e+05 -1.722271e+06  1.119780    58.1095   \n",
       "3       0.768056  AP  LM  1.080840e+09 -3.832004e+09  0.018448  -137.6802   \n",
       "4       0.768056  AP  PV -4.400757e+09 -4.507747e+09  0.139619   -57.1724   \n",
       "...          ...  ..  ..           ...           ...       ...        ...   \n",
       "6453    8.165278  AZ  LM -1.078324e+09  1.029597e+09  0.315983    10.9377   \n",
       "6454    8.165278  AZ  JC  3.392180e+09  9.968579e+08  0.058864    46.0474   \n",
       "6455    8.165278  JC  LM -4.470504e+09  3.273711e+07  0.108582  -178.7050   \n",
       "6456    8.165278  JC  SM  1.745735e+04 -1.192282e+05  1.123722   -29.5589   \n",
       "6457    8.165278  LM  SM  4.470522e+09 -3.285633e+07  0.104931    96.6936   \n",
       "\n",
       "      Isigma(Jy)  \n",
       "0       0.005847  \n",
       "1       0.004968  \n",
       "2       0.005243  \n",
       "3       0.044576  \n",
       "4       0.032591  \n",
       "...          ...  \n",
       "6453    0.030449  \n",
       "6454    0.090288  \n",
       "6455    0.043965  \n",
       "6456    0.091870  \n",
       "6457    0.028783  \n",
       "\n",
       "[6458 rows x 8 columns]"
      ]
     },
     "execution_count": 19,
     "metadata": {},
     "output_type": "execute_result"
    }
   ],
   "source": [
    "df = read_data(\"./data/SR1_M87_2017_095_hi_hops_netcal_StokesI.csv\")\n",
    "df\n"
   ]
  },
  {
   "cell_type": "code",
   "execution_count": 20,
   "metadata": {},
   "outputs": [
    {
     "data": {
      "text/plain": [
       "6458"
      ]
     },
     "execution_count": 20,
     "metadata": {},
     "output_type": "execute_result"
    }
   ],
   "source": [
    "coords, data_list = process_data(df)\n",
    "len(data_list)"
   ]
  },
  {
   "cell_type": "markdown",
   "metadata": {},
   "source": [
    "Don't combine u and v into. They are 2D coordinates in fourier transform\n",
    "vis = amp * np.exp(1j * phase)\n",
    "turn phase into radians\n",
    "interpolation to get sample value\n",
    "80 pixel x 80 pixel"
   ]
  },
  {
   "cell_type": "markdown",
   "metadata": {},
   "source": [
    "Find FOV\n",
    "    => Hyperparameter\n",
    "    => 100 microasc"
   ]
  },
  {
   "cell_type": "markdown",
   "metadata": {},
   "source": [
    "# Add regularizers Here\n",
    "    # need it for good restorations L2 Norm penalty\n",
    "    # First (25) reg with variable p instead of 2\n",
    "    # Write optimization loop (Gradient Descent?)\n",
    "    # Reorg above\n",
    "    # Hardcode Gradient Descent of data term in terms of function\n",
    "    # Gradient by finding images pixel by pixel => Combine after to get final image NOOO\n",
    "    # Does pytorch autodiff work with fft?\n",
    "\n",
    "    # How long does it take to compute one gradient\n",
    "    # Can use Central difference to approx gradient\n",
    "    # h is.. check video, like 10^-6\n",
    "    # forward difference will be faster but less accurate\n",
    "    # Try both?\n",
    "\n",
    "    # regularizers smooths out the image, doesn't like \"rough\" images\n",
    "    # Make pixel next to each other similar to each other"
   ]
  },
  {
   "cell_type": "code",
   "execution_count": null,
   "metadata": {},
   "outputs": [],
   "source": [
    "y = train_df['complex'].values\n",
    "y = y.reshape(-1, 1)\n",
    "train_df['constant'] = 1\n",
    "columns = ['U(lambda)', 'V(lambda)', 'Isigma(Jy)']\n",
    "x = train_df[columns].values\n",
    "\n",
    "#initialize vector of weights\n",
    "w = np.zeros([x.shape[0], 2])\n",
    "print(w.shape)"
   ]
  },
  {
   "cell_type": "code",
   "execution_count": null,
   "metadata": {},
   "outputs": [],
   "source": [
    "A = np.array([[4, 3, 2],\n",
    "              [1, 2, 3],\n",
    "              [0, -1, 5]])\n",
    "B = np.empty(np.shape(A))"
   ]
  },
  {
   "cell_type": "markdown",
   "metadata": {},
   "source": [
    "How slow is finite differences\n",
    "Try to implement and understand the derivatives one works"
   ]
  },
  {
   "cell_type": "code",
   "execution_count": null,
   "metadata": {},
   "outputs": [],
   "source": [
    "def f(x, y, z):\n",
    "    return 2 * x**3 + y**4 - z\n",
    "\n",
    "x = np.linspace(1, 4, 11)\n",
    "y = np.linspace(4, 7, 22)\n",
    "z = np.linspace(7, 9, 33)\n",
    "\n",
    "xg, yg ,zg = np.meshgrid(x, y, z, indexing='ij', sparse=True)\n",
    "\n",
    "data = f(xg, yg, zg)\n",
    "interp = RegularGridInterpolator((x, y, z), data, bounds_error=False, method=\"cubic\")\n",
    "pts = np.array([[2.1, 6.2, 8.3],\n",
    "                [3.3, 5.2, 7.1],\n",
    "                [2.5, 5.5, 8.5],\n",
    "                [1.00000001, 4.0000000000000001, 7.00008]])\n",
    "for pt in pts:\n",
    "    print(interp(pt))\n",
    "    print(f(pt[0],pt[1],pt[2]))\n",
    "    print(\"---------------------\")"
   ]
  },
  {
   "cell_type": "markdown",
   "metadata": {},
   "source": [
    "Runge Phenomenon and Gibbs"
   ]
  },
  {
   "cell_type": "code",
   "execution_count": null,
   "metadata": {},
   "outputs": [],
   "source": [
    "x = np.array([[0,1,2],[4,5,6]])\n",
    "y = np.array([[0,1,2],[4,5,6]])"
   ]
  }
 ],
 "metadata": {
  "interpreter": {
   "hash": "becf8088f74075664c4b68580e6274238340099ff43245eeb40a8d9143c8ef9d"
  },
  "kernelspec": {
   "display_name": "Python 3.8.3 64-bit ('3.8.3': pyenv)",
   "name": "python3"
  },
  "language_info": {
   "codemirror_mode": {
    "name": "ipython",
    "version": 3
   },
   "file_extension": ".py",
   "mimetype": "text/x-python",
   "name": "python",
   "nbconvert_exporter": "python",
   "pygments_lexer": "ipython3",
   "version": "3.11.4"
  },
  "orig_nbformat": 4
 },
 "nbformat": 4,
 "nbformat_minor": 2
}

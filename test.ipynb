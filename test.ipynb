{
 "cells": [
  {
   "cell_type": "code",
   "execution_count": 1,
   "metadata": {},
   "outputs": [],
   "source": [
    "import pandas as pd\n",
    "import numpy as np\n",
    "import cmath\n",
    "import math\n",
    "from scipy.optimize import fmin, minimize\n",
    "from astropy import units as u\n",
    "from scipy.interpolate import RegularGridInterpolator\n",
    "import matplotlib.pyplot as plt\n",
    "import copy\n",
    "%matplotlib inline"
   ]
  },
  {
   "cell_type": "code",
   "execution_count": 2,
   "metadata": {},
   "outputs": [],
   "source": [
    "class data:\n",
    "    u: float\n",
    "    v: float\n",
    "    phase: float\n",
    "    amp: float\n",
    "    sigma: float\n",
    "    vis_data: complex\n",
    "    def __init__(self, u, v, phase, amp, sigma):\n",
    "        self.u = u\n",
    "        self.v = v\n",
    "        self.phase = phase\n",
    "        self.amp = amp\n",
    "        self.sigma = sigma\n",
    "        self.vis_data = amp * np.exp(1j * math.radians(phase))\n",
    "\n",
    "    def __repr__(self):\n",
    "        return f\"[u: {self.u}, v: {self.v}]\"\n",
    "\n",
    "    def __str__(self):\n",
    "        return f\"[u: {self.u}, v: {self.v}]\""
   ]
  },
  {
   "cell_type": "markdown",
   "metadata": {},
   "source": [
    "image is a 2d numpy array\n",
    "image is 2d of numbers (greyscale image)"
   ]
  },
  {
   "cell_type": "code",
   "execution_count": 3,
   "metadata": {},
   "outputs": [],
   "source": [
    "# Assumption image is 80x80 pixels\n",
    "# Pass in array of u,v coords then return array of interpolated values\n",
    "def interpolate(image, coords, FOV):\n",
    "    \"\"\"\n",
    "    image is a 80x80 pixel image that represents our reconstructed image\n",
    "    coords is a list of u,v coordinates that we obtained from our data\n",
    "    FOV is the Field of view from the telescopes. For the EHT data, our FOV is 100 micro ascs.\n",
    "    \"\"\"\n",
    "\n",
    "    ft_image = np.fft.fftshift(np.fft.fft2(image))\n",
    "\n",
    "    k_FOV = (1)/FOV\n",
    "\n",
    "    kx = np.fft.fftshift(np.fft.fftfreq(ft_image.shape[0], d = 1/(k_FOV*ft_image.shape[0])))\n",
    "    ky = np.fft.fftshift(np.fft.fftfreq(ft_image.shape[1], d = 1/(k_FOV*ft_image.shape[1])))\n",
    "\n",
    "    interp_real = RegularGridInterpolator((kx, ky), ft_image.real, bounds_error=False, method=\"linear\")\n",
    "    interp_imag = RegularGridInterpolator((kx, ky), ft_image.imag, bounds_error=False, method=\"linear\")\n",
    "\n",
    "    real = interp_real(coords)\n",
    "    imag = interp_imag(coords)\n",
    "\n",
    "    return real + imag * 1j"
   ]
  },
  {
   "cell_type": "code",
   "execution_count": 4,
   "metadata": {},
   "outputs": [
    {
     "name": "stdout",
     "output_type": "stream",
     "text": [
      "Manual calc:  4.84813681109536e-12\n",
      "Automa calc:  4.84813681109536e-12\n"
     ]
    },
    {
     "data": {
      "text/plain": [
       "4.84813681109536e-10"
      ]
     },
     "execution_count": 4,
     "metadata": {},
     "output_type": "execute_result"
    }
   ],
   "source": [
    "\"\"\"\n",
    "uas = µas = micro arcsecond = 1e-6 * (1 deg / 60 / 60)\n",
    "Check FOVs\n",
    "    Why FOV\n",
    "    Why 2pi/FOV\n",
    "    How is FOV computed\n",
    "    mess around with FOVs\n",
    "    etc\n",
    "    \n",
    "Check if uas to rad is working right - it works\n",
    "\"\"\"\n",
    "1/(2*math.pi/(100*u.uas.to(u.rad)))\n",
    "print(\"Manual calc: \",1e-6/60/60*math.pi/180)\n",
    "print(\"Automa calc: \",u.uas.to(u.rad))\n",
    "((100*u.uas.to(u.rad)))/(2*math.pi)\n",
    "((100*u.uas.to(u.rad)))/6400\n",
    "((100*u.uas.to(u.rad)))"
   ]
  },
  {
   "cell_type": "markdown",
   "metadata": {},
   "source": [
    "Testing Interpolate\n",
    "pip3 install --user scipy"
   ]
  },
  {
   "cell_type": "code",
   "execution_count": 5,
   "metadata": {},
   "outputs": [],
   "source": [
    "n = 80\n",
    "\n",
    "a = np.linspace(-50, 50, n)\n",
    "x, y = np.meshgrid(a, a)\n",
    "\n",
    "k = np.fft.fftfreq(n, a[1]-a[0])\n",
    "kx, ky = np.meshgrid(k, k)\n",
    "\n",
    "def Gaussian(sigma, x0=0, y0=0):\n",
    "    dx = x - x0\n",
    "    dy = y - y0\n",
    "    return np.exp(-0.5 * (dx*dx + dy*dy) / (sigma * sigma))\n",
    "\n",
    "def ring(nn=0.01):\n",
    "    return np.maximum(Gaussian(10, *randpos(1)) - Gaussian(8, *randpos(1)), 0) + nn * noise(2)\n",
    "\n",
    "def noise(alpha):\n",
    "    white_noise = np.random.rand(n, n)-0.5 + 1j*(np.random.rand(n, n)-0.5)\n",
    "    power_law = np.power(kx*kx + ky*ky + 1e-300, -0.5 * alpha)\n",
    "    power_law[0,0] = 0\n",
    "    img  = np.real(np.fft.ifft2(white_noise * power_law))\n",
    "    img += np.min(img)\n",
    "    img /= np.max(img)\n",
    "    return img\n",
    "\n",
    "def randpos(scale=1):\n",
    "    x = (np.random.rand() - 0.5) * 2 * scale\n",
    "    y = (np.random.rand() - 0.5) * 2 * scale\n",
    "    return x, y"
   ]
  },
  {
   "cell_type": "code",
   "execution_count": 6,
   "metadata": {},
   "outputs": [
    {
     "data": {
      "text/plain": [
       "(-0.5, 79.5, 79.5, -0.5)"
      ]
     },
     "execution_count": 6,
     "metadata": {},
     "output_type": "execute_result"
    },
    {
     "data": {
      "image/png": "[encoded data removed]",
      "text/plain": [
       "<Figure size 640x480 with 1 Axes>"
      ]
     },
     "metadata": {},
     "output_type": "display_data"
    }
   ],
   "source": [
    "sample = ring() # Sample is 80 by 80\n",
    "#sample = np.loadtxt(\"sample_image.csv\", delimiter=\",\")\n",
    "plt.figure()\n",
    "#cm = copy(plt.get_cmap('afmhot'))\n",
    "#cm.set_over('b')\n",
    "plt.imshow(sample, vmin=0, vmax=0.5)\n",
    "plt.axis('off')"
   ]
  },
  {
   "cell_type": "code",
   "execution_count": 6,
   "metadata": {},
   "outputs": [
    {
     "ename": "NameError",
     "evalue": "name 'sample' is not defined",
     "output_type": "error",
     "traceback": [
      "\u001b[0;31m---------------------------------------------------------------------------\u001b[0m",
      "\u001b[0;31mNameError\u001b[0m                                 Traceback (most recent call last)",
      "Cell \u001b[0;32mIn[6], line 1\u001b[0m\n\u001b[0;32m----> 1\u001b[0m np\u001b[38;5;241m.\u001b[39msavetxt(\u001b[38;5;124m\"\u001b[39m\u001b[38;5;124msample_image.csv\u001b[39m\u001b[38;5;124m\"\u001b[39m, \u001b[43msample\u001b[49m, delimiter\u001b[38;5;241m=\u001b[39m\u001b[38;5;124m\"\u001b[39m\u001b[38;5;124m,\u001b[39m\u001b[38;5;124m\"\u001b[39m)\n\u001b[1;32m      2\u001b[0m \u001b[38;5;66;03m#np.loadtxt(\"sample_image.csv\", delimiter=\",\")\u001b[39;00m\n",
      "\u001b[0;31mNameError\u001b[0m: name 'sample' is not defined"
     ]
    }
   ],
   "source": [
    "np.savetxt(\"sample_image.csv\", sample, delimiter=\",\")\n",
    "#np.loadtxt(\"sample_image.csv\", delimiter=\",\")"
   ]
  },
  {
   "cell_type": "code",
   "execution_count": 16,
   "metadata": {},
   "outputs": [
    {
     "name": "stdout",
     "output_type": "stream",
     "text": [
      "[-13.795688-3.53753369j]\n",
      "[0.+0.j]\n"
     ]
    },
    {
     "name": "stderr",
     "output_type": "stream",
     "text": [
      "/Library/Frameworks/Python.framework/Versions/3.11/lib/python3.11/site-packages/scipy/interpolate/_rgi.py:374: ComplexWarning: Casting complex values to real discards the imaginary part\n",
      "  xi = np.asarray(xi, dtype=float)\n"
     ]
    }
   ],
   "source": [
    "samp = np.array(sample)\n",
    "samp_blank = samp * 0\n",
    "samp_coords = [[1.81243945e-03+0.j, -1.65010891e-02-0.01426895j]]\n",
    "temp_1 = interpolate(samp, samp_coords, 100 * u.uas)\n",
    "print(temp_1)\n",
    "temp_2 = interpolate(samp_blank, samp_coords, 100 * u.uas)\n",
    "print(temp_2)"
   ]
  },
  {
   "cell_type": "code",
   "execution_count": 7,
   "metadata": {},
   "outputs": [],
   "source": [
    "# p is the exponent of the regularizing terms\n",
    "# The smaller p the more sensitive it is to noise\n",
    "# TSV = Total Squared Variation\n",
    "def calc_regularizer(image: np.array, tsv=False, p=None):\n",
    "    if tsv and p == None:\n",
    "        raise Exception(\"p value not set\")\n",
    "    reg = 0\n",
    "    if tsv:\n",
    "        image_lshift = np.copy(image, subok=True)\n",
    "        image_lshift = np.roll(image_lshift, -1,axis=1)\n",
    "        image_lshift[:,-1] = 0\n",
    "        image_upshift = np.copy(image, subok=True)\n",
    "        image_upshift = np.roll(image_upshift, -1, axis=0)\n",
    "        image_upshift[-1] = 0\n",
    "\n",
    "        term_1 = np.power(np.absolute(np.subtract(image_lshift, image)),p)\n",
    "        term_2 = np.power(np.absolute(np.subtract(image_upshift, image)),p)\n",
    "        reg = np.sum(np.add(term_1,term_2))\n",
    "    return reg"
   ]
  },
  {
   "cell_type": "code",
   "execution_count": 8,
   "metadata": {},
   "outputs": [],
   "source": [
    "def gradient_regularizer(image: np.array):\n",
    "    image_lshift = np.copy(image, subok=True)\n",
    "    image_lshift = np.roll(image_lshift, -1,axis=1)\n",
    "    image_lshift[:,-1] = 0\n",
    "    image_upshift = np.copy(image, subok=True)\n",
    "    image_upshift = np.roll(image_upshift, -1, axis=0)\n",
    "    image_upshift[-1] = 0\n",
    "    image_rshift = np.copy(image, subok=True)\n",
    "    image_rshift = np.roll(image_rshift, 1,axis=1)\n",
    "    image_rshift[:,0] = 0\n",
    "    image_dshift = np.copy(image, subok=True)\n",
    "    image_dshift = np.roll(image_dshift, 1, axis=0)\n",
    "    image_dshift[0] = 0\n",
    "    g_reg = 4 * image - image_lshift - image_upshift - image_rshift - image_dshift\n",
    "    return g_reg"
   ]
  },
  {
   "cell_type": "markdown",
   "metadata": {},
   "source": [
    "\n",
    "While\n",
    "Running\n",
    "\n",
    "Computation of dirtied image"
   ]
  },
  {
   "cell_type": "code",
   "execution_count": null,
   "metadata": {},
   "outputs": [],
   "source": [
    "testing\n"
   ]
  },
  {
   "cell_type": "markdown",
   "metadata": {},
   "source": [
    "Translate u and v to a position to grid\n",
    "    => Translate from gigalambda to grid\n",
    "    ImageMeta(width=100 * u.uas)\n",
    "    uvd  = width_in_as * 2 * pi\n",
    "    divide by kx_1\n",
    "    relates to integer indexes\n",
    "python fftshift to array\n",
    "    By default fft array is 0 is on the corner, negatives gets wrapped\n",
    "    fftshift will centralize the 0 to the middle\n",
    "python's RegularGridInterpolator will interpolate\n",
    "    Research whether they support complex values now\n",
    "    If not:\n",
    "        Interpolate Real part and imagineary part separately"
   ]
  },
  {
   "cell_type": "code",
   "execution_count": 9,
   "metadata": {},
   "outputs": [],
   "source": [
    "# Assumption image is 80px by 80px => 6400 variables\n",
    "def loss(image, data_list: list[data], coords, p = 2, reg_weight = 1, FOV = 100*u.uas.to(u.rad)): #Ask about u.rad\n",
    "    error_sum = 0\n",
    "    vis_images = interpolate(image, coords, FOV)\n",
    "\n",
    "    for i in range(len(data_list)):\n",
    "        vis_data = data_list[i].amp * np.exp(1j * math.radians(data_list[i].phase))\n",
    "        vis_image = vis_images[i]\n",
    "        error = (abs(vis_image-vis_data) / data_list[i].sigma) ** 2\n",
    "        error_sum += error\n",
    "    \n",
    "    return error_sum + reg_weight * calc_regularizer(image=image, tsv=True, p=2)"
   ]
  },
  {
   "cell_type": "code",
   "execution_count": 36,
   "metadata": {},
   "outputs": [
    {
     "data": {
      "text/plain": [
       "255"
      ]
     },
     "execution_count": 36,
     "metadata": {},
     "output_type": "execute_result"
    }
   ],
   "source": [
    "im = iio.imread('images/3597_blur_avg.png')\n",
    "# Converts picture to numpy array\n"
   ]
  },
  {
   "cell_type": "code",
   "execution_count": 29,
   "metadata": {},
   "outputs": [
    {
     "name": "stdout",
     "output_type": "stream",
     "text": [
      "blank: 17213605.65705288\n",
      "Sample: [1.90610288e+16 1.97446225e+16 2.72935700e+18 1.97446213e+16]\n",
      "Sample*1: [2.08225473e+08 2.14721914e+08 2.70272553e+10 2.14570228e+08]\n",
      "Sample*2: [7.80457854e+08 8.07122680e+08 1.08624494e+11 8.06819313e+08]\n",
      "Sample*3: [1.73391075e+09 1.79441590e+09 2.44808929e+11 1.79396086e+09]\n",
      "Sample*-1: [2.07422251e+08 2.14597754e+08 2.75943687e+10 2.14749446e+08]\n",
      "Sample*-2: [7.78851410e+08 8.06874358e+08 1.09758721e+11 8.07177748e+08]\n",
      "Sample*-3: [1.73150108e+09 1.79404342e+09 2.46510269e+11 1.79449851e+09]\n"
     ]
    }
   ],
   "source": [
    "sample_coords = []\n",
    "sample_data_list = []\n",
    "print(\"blank:\",loss(samp_blank, data_list, coords))\n",
    "print(\"Sample:\",loss(im, data_list, coords))\n",
    "print(\"Sample*1:\",loss(im*0.0001, data_list, coords))\n",
    "print(\"Sample*2:\",loss(im*0.0002, data_list, coords))\n",
    "print(\"Sample*3:\",loss(im*0.0003, data_list, coords))\n",
    "print(\"Sample*-1:\",loss(im*-0.0001, data_list, coords))\n",
    "print(\"Sample*-2:\",loss(im*-0.0002, data_list, coords))\n",
    "print(\"Sample*-3:\",loss(im*-0.0003, data_list, coords))"
   ]
  },
  {
   "cell_type": "markdown",
   "metadata": {},
   "source": [
    "Make sure that the ring is right size and position"
   ]
  },
  {
   "cell_type": "code",
   "execution_count": 10,
   "metadata": {},
   "outputs": [],
   "source": [
    "def gradient(data_list: list[data], coords, image, mode = 1): # 0 For central, -1 for backward, 1 for forward\n",
    "    image_copy = np.copy(image, subok=True)\n",
    "    upper_diff: float\n",
    "    lower_diff: float\n",
    "    h: float\n",
    "    gradient_arr = np.empty(np.shape(image),dtype=np.complex_)\n",
    "    if (mode == 0): # Central difference\n",
    "        for row in range(len(image)):\n",
    "            for col in range(len(image[row])):\n",
    "                image_copy[row,col] += 1e-6 / 2\n",
    "                upper_diff = loss(image_copy, data_list, coords)\n",
    "                image_copy[row,col] -= 1e-6\n",
    "                lower_diff = loss(image_copy, data_list, coords)\n",
    "                image_copy[row,col] = image[row,col] # Reset that pixel to original value\n",
    "                gradient_arr[row,col] = (upper_diff - lower_diff) / 1e-6\n",
    "    elif (mode == -1): # Backward difference\n",
    "        upper_diff = loss(image, data_list, coords)\n",
    "        for row in range(len(image)):\n",
    "            for col in range(len(image[row])):\n",
    "                image_copy[row,col] -= 1e-8 # Check with Misha \n",
    "                lower_diff = loss(image_copy, data_list, coords)\n",
    "                gradient_arr[row,col] = (upper_diff - lower_diff) / 1e-8\n",
    "                image_copy[row,col] = image[row,col]\n",
    "    elif (mode == 1) : # Forward difference is default\n",
    "        lower_diff = loss(image, data_list, coords)\n",
    "        for row in range(len(image)):\n",
    "            for col in range(len(image[row])):\n",
    "                image_copy[row,col] += 1e-8 # Check with Misha \n",
    "                upper_diff = loss(image_copy, data_list, coords)\n",
    "                gradient_arr[row,col] = (upper_diff - lower_diff) / 1e-8\n",
    "                image_copy[row,col] = image[row,col]\n",
    "    else:\n",
    "        raise ValueError('Incorrect mode for finite differences')\n",
    "    return gradient_arr\n",
    "    #Return a Gradient 2d array?"
   ]
  },
  {
   "cell_type": "code",
   "execution_count": 11,
   "metadata": {},
   "outputs": [],
   "source": [
    "def process_data(data_df):\n",
    "    coords = []\n",
    "    data_list = []\n",
    "    for i in range(len(data_df)):\n",
    "        data_list.append(data(data_df.loc[i, 'U(lambda)'], data_df.loc[i, 'V(lambda)'], data_df.loc[i, 'Iphase(d)'], data_df.loc[i, 'Iamp(Jy)'], data_df.loc[i, 'Isigma(Jy)']))\n",
    "        coords.append([data_df.loc[i, 'U(lambda)'], data_df.loc[i, 'V(lambda)']])\n",
    "    coords = np.array(coords)\n",
    "    return coords, data_list"
   ]
  },
  {
   "cell_type": "code",
   "execution_count": 12,
   "metadata": {},
   "outputs": [],
   "source": [
    "def read_data(filename: str()):\n",
    "    df = pd.read_csv(filename)\n",
    "    return df"
   ]
  },
  {
   "cell_type": "code",
   "execution_count": 13,
   "metadata": {},
   "outputs": [
    {
     "data": {
      "text/plain": [
       "6458"
      ]
     },
     "execution_count": 13,
     "metadata": {},
     "output_type": "execute_result"
    }
   ],
   "source": [
    "df = read_data(\"./data/SR1_M87_2017_095_hi_hops_netcal_StokesI.csv\")\n",
    "coords, data_list = process_data(df)\n",
    "len(data_list)"
   ]
  },
  {
   "cell_type": "code",
   "execution_count": 14,
   "metadata": {},
   "outputs": [
    {
     "data": {
      "image/png": "[encoded data removed]",
      "text/plain": [
       "<Figure size 640x480 with 1 Axes>"
      ]
     },
     "metadata": {},
     "output_type": "display_data"
    }
   ],
   "source": [
    "emp = np.zeros((80,80))\n",
    "plt.figure()\n",
    "plt.imshow(emp, vmin=0, vmax=0.5)\n",
    "plt.axis('off')\n",
    "plt.savefig('images/0.png')"
   ]
  },
  {
   "cell_type": "code",
   "execution_count": 15,
   "metadata": {},
   "outputs": [],
   "source": [
    "def gradient_2(data_list: list[data], coords, coeffs, image, FOV = 100*u.uas.to(u.rad)):\n",
    "    gradient_arr = np.empty(np.shape(image)) # Because we are in real space\n",
    "    vis_images = interpolate(image, coords, FOV)\n",
    "    for row in range(len(image)):\n",
    "        for col in range(len(image[row])):\n",
    "            gradient_sum = 0\n",
    "            for i in range(len(data_list)):\n",
    "                vis_data = data_list[i].vis_data\n",
    "                vis_image = vis_images[i]\n",
    "                term_1 = coeffs[row,col,i,0] * (np.conj(vis_image) - np.conj(vis_data))\n",
    "                term_2 = coeffs[row,col,i,1] * (vis_image - vis_data)\n",
    "                gradient_sum += (term_1 + term_2)/(data_list[i].sigma ** 2)\n",
    "            gradient_arr[row,col] = gradient_sum\n",
    "    return gradient_arr"
   ]
  },
  {
   "cell_type": "code",
   "execution_count": 16,
   "metadata": {},
   "outputs": [],
   "source": [
    "def preprocess_gradient(data_list: list[data], coords, image, FOV = 100*u.uas.to(u.rad)): # Add FOV here\n",
    "    r, c = np.shape(image)\n",
    "    preprocessed = np.empty([r,c,len(data_list),2], dtype=np.complex_)\n",
    "    for row in range(len(image)):\n",
    "        for col in range(len(image[row])):\n",
    "            for datum in range(len(data_list)):\n",
    "                term = ((2*np.pi*1j)/image.size)*(row*(data_list[datum].u) + col*(data_list[datum].v)) #.size for numpy array returns # of rows * # of cols\n",
    "                term_1 = np.exp(term)\n",
    "                term_2 = np.exp(-1*term)\n",
    "                preprocessed[row,col,datum,0] = term_1\n",
    "                preprocessed[row,col,datum,1] = term_2\n",
    "    return preprocessed"
   ]
  },
  {
   "cell_type": "markdown",
   "metadata": {},
   "source": [
    "coordinate descent method: Optimize with respect to a var, then freeze and optimize with another \n",
    "                           var... continue until reach a optimum\n",
    "                           or subset of vars\n",
    "Gauss-seidel Method: Use idea from here, don't actually try coding this\n",
    "Stochastic gradient descent: The later stages you use, the more of the data in your subset\n",
    "                             Start with a subset (representative, spread out over the data)\n",
    "                             Random subset? \n",
    "Is there a quick way to compute dirty version of image\n",
    "Gradient of Regularizers"
   ]
  },
  {
   "cell_type": "markdown",
   "metadata": {},
   "source": [
    "Github\n",
    "HPC Benchmark\n",
    "Stochastic gradient descent: The later stages you use, the more of the data in your subset\n",
    "    Start with a subset (representative, spread out over the data)\n",
    "    Random subset? \n",
    "    subset like 10%\n",
    "Gradient of Regularizer"
   ]
  },
  {
   "cell_type": "markdown",
   "metadata": {},
   "source": [
    "Replot image every few steps"
   ]
  },
  {
   "cell_type": "markdown",
   "metadata": {},
   "source": [
    "CK: Plot fft\n",
    "\n",
    "Misha: Run my loss function on garbage and reconstructed image\n",
    "    Plot with scaling of reconstructed image"
   ]
  },
  {
   "cell_type": "code",
   "execution_count": 17,
   "metadata": {},
   "outputs": [],
   "source": [
    "coeffs = preprocess_gradient(data_list, coords, emp)"
   ]
  },
  {
   "cell_type": "code",
   "execution_count": 18,
   "metadata": {},
   "outputs": [
    {
     "data": {
      "text/plain": [
       "array([[[[ 1.        +0.00000000e+00j,  1.        +0.00000000e+00j],\n",
       "         [ 1.        +0.00000000e+00j,  1.        +0.00000000e+00j],\n",
       "         [ 1.        +0.00000000e+00j,  1.        +0.00000000e+00j],\n",
       "         ...,\n",
       "         [ 1.        +0.00000000e+00j,  1.        +0.00000000e+00j],\n",
       "         [ 1.        +0.00000000e+00j,  1.        +0.00000000e+00j],\n",
       "         [ 1.        +0.00000000e+00j,  1.        +0.00000000e+00j]],\n",
       "\n",
       "        [[ 0.72896863-6.84547106e-01j,  0.72896863+6.84547106e-01j],\n",
       "         [-0.42577929-9.04827052e-01j, -0.42577929+9.04827052e-01j],\n",
       "         [ 0.79075635-6.12131026e-01j,  0.79075635+6.12131026e-01j],\n",
       "         ...,\n",
       "         [ 0.46619364+8.84682704e-01j,  0.46619364-8.84682704e-01j],\n",
       "         [-0.68724289+7.26427708e-01j, -0.68724289-7.26427708e-01j],\n",
       "         [ 0.32205916+9.46719545e-01j,  0.32205916-9.46719545e-01j]],\n",
       "\n",
       "        [[ 0.06279052-9.98026728e-01j,  0.06279052+9.98026728e-01j],\n",
       "         [-0.63742399+7.70513243e-01j, -0.63742399-7.70513243e-01j],\n",
       "         [ 0.25059122-9.68092993e-01j,  0.25059122+9.68092993e-01j],\n",
       "         ...,\n",
       "         [-0.56532697+8.24866906e-01j, -0.56532697-8.24866906e-01j],\n",
       "         [-0.05539443-9.98464550e-01j, -0.05539443+9.98464550e-01j],\n",
       "         [-0.79255579+6.09799404e-01j, -0.79255579-6.09799404e-01j]],\n",
       "\n",
       "        ...,\n",
       "\n",
       "        [[ 0.06279048-9.98026731e-01j,  0.06279048+9.98026731e-01j],\n",
       "         [-0.63742398+7.70513249e-01j, -0.63742398-7.70513249e-01j],\n",
       "         [ 0.89672795-4.42582167e-01j,  0.89672795+4.42582167e-01j],\n",
       "         ...,\n",
       "         [-0.34795852+9.37509929e-01j, -0.34795852-9.37509929e-01j],\n",
       "         [-0.9753672 -2.20587444e-01j, -0.9753672 +2.20587444e-01j],\n",
       "         [ 0.11558729+9.93297327e-01j,  0.11558729-9.93297327e-01j]],\n",
       "\n",
       "        [[-0.63742399-7.70513239e-01j, -0.63742399+7.70513239e-01j],\n",
       "         [ 0.96858317+2.48689860e-01j,  0.96858317-2.48689860e-01j],\n",
       "         [ 0.43817505-8.98889663e-01j,  0.43817505+8.98889663e-01j],\n",
       "         ...,\n",
       "         [-0.99161487+1.29228282e-01j, -0.99161487-1.29228282e-01j],\n",
       "         [ 0.830555  -5.56936610e-01j,  0.830555  +5.56936610e-01j],\n",
       "         [-0.90314805+4.29329247e-01j, -0.90314805-4.29329247e-01j]],\n",
       "\n",
       "        [[-0.99211471-1.25333197e-01j, -0.99211471+1.25333197e-01j],\n",
       "         [-0.18738136-9.82287242e-01j, -0.18738136+9.82287242e-01j],\n",
       "         [-0.20374855-9.79023253e-01j, -0.20374855+9.79023253e-01j],\n",
       "         ...,\n",
       "         [-0.57661058-8.17019121e-01j, -0.57661058+8.17019121e-01j],\n",
       "         [-0.16621883+9.86088890e-01j, -0.16621883-9.86088890e-01j],\n",
       "         [-0.69732149-7.16758493e-01j, -0.69732149+7.16758493e-01j]]],\n",
       "\n",
       "\n",
       "       [[[ 0.63742399+7.70513243e-01j,  0.63742399-7.70513243e-01j],\n",
       "         [-0.9921147 +1.25333234e-01j, -0.9921147 -1.25333234e-01j],\n",
       "         [-0.95941593+2.81994802e-01j, -0.95941593-2.81994802e-01j],\n",
       "         ...,\n",
       "         [-0.42577929-9.04827052e-01j, -0.42577929+9.04827052e-01j],\n",
       "         [-0.13959315-9.90208944e-01j, -0.13959315+9.90208944e-01j],\n",
       "         [ 0.96858316+2.48689887e-01j,  0.96858316-2.48689887e-01j]],\n",
       "\n",
       "        [[ 0.9921147 +1.25333234e-01j,  0.9921147 -1.25333234e-01j],\n",
       "         [ 0.5358268 +8.44327925e-01j,  0.5358268 -8.44327925e-01j],\n",
       "         [-0.58604648+8.10277440e-01j, -0.58604648-8.10277440e-01j],\n",
       "         ...,\n",
       "         [ 0.60198924-7.98504195e-01j,  0.60198924+7.98504195e-01j],\n",
       "         [ 0.81524961+5.79109719e-01j,  0.81524961-5.79109719e-01j],\n",
       "         [ 0.0765015 +9.97069466e-01j,  0.0765015 -9.97069466e-01j]],\n",
       "\n",
       "        [[ 0.80901699-5.87785253e-01j,  0.80901699+5.87785253e-01j],\n",
       "         [ 0.53582679-8.44327926e-01j,  0.53582679+8.44327926e-01j],\n",
       "         [ 0.03257599+9.99469262e-01j,  0.03257599-9.99469262e-01j],\n",
       "         ...,\n",
       "         [ 0.98706641+1.60311892e-01j,  0.98706641-1.60311892e-01j],\n",
       "         [-0.98095584+1.94230874e-01j, -0.98095584-1.94230874e-01j],\n",
       "         [-0.91930714+3.93540824e-01j, -0.91930714-3.93540824e-01j]],\n",
       "\n",
       "        ...,\n",
       "\n",
       "        [[ 0.80901698-5.87785274e-01j,  0.80901698+5.87785274e-01j],\n",
       "         [ 0.53582676-8.44327947e-01j,  0.53582676+8.44327947e-01j],\n",
       "         [-0.73552922+6.77493005e-01j, -0.73552922-6.77493005e-01j],\n",
       "         ...,\n",
       "         [ 0.99643788-8.43300286e-02j,  0.99643788+8.43300286e-02j],\n",
       "         [-0.08227308+9.96609824e-01j, -0.08227308-9.96609824e-01j],\n",
       "         [-0.1350671 +9.90836454e-01j, -0.1350671 -9.90836454e-01j]],\n",
       "\n",
       "        [[ 0.18738132-9.82287250e-01j,  0.18738132+9.82287250e-01j],\n",
       "         [-0.9921147 -1.25333236e-01j, -0.9921147 +1.25333236e-01j],\n",
       "         [-0.16690991+9.85972150e-01j, -0.16690991-9.85972150e-01j],\n",
       "         ...,\n",
       "         [ 0.53913832+8.42217234e-01j,  0.53913832-8.42217234e-01j],\n",
       "         [-0.6674234 -7.44678456e-01j, -0.6674234 +7.44678456e-01j],\n",
       "         [-0.98154383+1.91237293e-01j, -0.98154383-1.91237293e-01j]],\n",
       "\n",
       "        [[-0.53582682-8.44327911e-01j, -0.53582682+8.44327911e-01j],\n",
       "         [ 0.30901701+9.51056512e-01j,  0.30901701-9.51056512e-01j],\n",
       "         [ 0.47155907+8.81834476e-01j,  0.47155907-8.81834476e-01j],\n",
       "         ...,\n",
       "         [-0.49375216+8.69602670e-01j, -0.49375216-8.69602670e-01j],\n",
       "         [ 0.99963705+2.69401187e-02j,  0.99963705-2.69401187e-02j],\n",
       "         [-0.49716327-8.67657010e-01j, -0.49716327+8.67657010e-01j]]],\n",
       "\n",
       "\n",
       "       [[[-0.18738131+9.82287251e-01j, -0.18738131-9.82287251e-01j],\n",
       "         [ 0.96858316-2.48689888e-01j,  0.96858316+2.48689888e-01j],\n",
       "         [ 0.84095786-5.41100612e-01j,  0.84095786+5.41100612e-01j],\n",
       "         ...,\n",
       "         [-0.63742399+7.70513243e-01j, -0.63742399-7.70513243e-01j],\n",
       "         [-0.9610275 +2.76452774e-01j, -0.9610275 -2.76452774e-01j],\n",
       "         [ 0.87630668+4.81753674e-01j,  0.87630668-4.81753674e-01j]],\n",
       "\n",
       "        [[ 0.5358268 +8.44327925e-01j,  0.5358268 -8.44327925e-01j],\n",
       "         [-0.63742399-7.70513243e-01j, -0.63742399+7.70513243e-01j],\n",
       "         [ 0.3337683 -9.42655145e-01j,  0.3337683 +9.42655145e-01j],\n",
       "         ...,\n",
       "         [-0.97882275-2.04709603e-01j, -0.97882275+2.04709603e-01j],\n",
       "         [ 0.45963636-8.88107210e-01j,  0.45963636+8.88107210e-01j],\n",
       "         [-0.17386303+9.84769845e-01j, -0.17386303-9.84769845e-01j]],\n",
       "\n",
       "        [[ 0.96858316+2.48689887e-01j,  0.96858316-2.48689887e-01j],\n",
       "         [-0.42577929+9.04827053e-01j, -0.42577929-9.04827053e-01j],\n",
       "         [-0.31309906-9.49720475e-01j, -0.31309906+9.49720475e-01j],\n",
       "         ...,\n",
       "         [-0.2752179 -9.61381874e-01j, -0.2752179 +9.61381874e-01j],\n",
       "         [ 0.32926387+9.44237950e-01j,  0.32926387-9.44237950e-01j],\n",
       "         [-0.98829504+1.52554625e-01j, -0.98829504-1.52554625e-01j]],\n",
       "\n",
       "        ...,\n",
       "\n",
       "        [[ 0.96858317+2.48689869e-01j,  0.96858317-2.48689869e-01j],\n",
       "         [-0.42577928+9.04827057e-01j, -0.42577928-9.04827057e-01j],\n",
       "         [ 0.51462894-8.57412999e-01j,  0.51462894+8.57412999e-01j],\n",
       "         ...,\n",
       "         [-0.50056671-8.65697969e-01j, -0.50056671+8.65697969e-01j],\n",
       "         [ 0.99833672-5.76523682e-02j,  0.99833672+5.76523682e-02j],\n",
       "         [-0.37723473+9.26117682e-01j, -0.37723473-9.26117682e-01j]],\n",
       "\n",
       "        [[ 0.87630669-4.81753664e-01j,  0.87630669+4.81753664e-01j],\n",
       "         [ 1.        -2.70070174e-08j,  1.        +2.70070174e-08j],\n",
       "         [-0.11790299-9.93025118e-01j, -0.11790299+9.93025118e-01j],\n",
       "         ...,\n",
       "         [ 0.532507  -8.46425597e-01j,  0.532507  +8.46425597e-01j],\n",
       "         [-0.64421953+7.64840635e-01j, -0.64421953-7.64840635e-01j],\n",
       "         [-0.99826561-5.88708040e-02j, -0.99826561+5.88708040e-02j]],\n",
       "\n",
       "        [[ 0.30901698-9.51056522e-01j,  0.30901698+9.51056522e-01j],\n",
       "         [-0.42577933-9.04827034e-01j, -0.42577933+9.04827034e-01j],\n",
       "         [-0.70109402-7.13068839e-01j, -0.70109402+7.13068839e-01j],\n",
       "         ...,\n",
       "         [ 0.99706947+7.65015028e-02j,  0.99706947-7.65015028e-02j],\n",
       "         [-0.11286614-9.93610203e-01j, -0.11286614+9.93610203e-01j],\n",
       "         [-0.26576644-9.64037446e-01j, -0.26576644+9.64037446e-01j]]],\n",
       "\n",
       "\n",
       "       ...,\n",
       "\n",
       "\n",
       "       [[[ 0.18738132-9.82287250e-01j,  0.18738132+9.82287250e-01j],\n",
       "         [ 0.96858316-2.48689894e-01j,  0.96858316+2.48689894e-01j],\n",
       "         [ 0.99977854-2.10446627e-02j,  0.99977854+2.10446627e-02j],\n",
       "         ...,\n",
       "         [-0.63742396+7.70513270e-01j, -0.63742396-7.70513270e-01j],\n",
       "         [ 0.97767862+2.10105982e-01j,  0.97767862-2.10105982e-01j],\n",
       "         [ 0.87630666+4.81753711e-01j,  0.87630666-4.81753711e-01j]],\n",
       "\n",
       "        [[-0.53582679-8.44327929e-01j, -0.53582679+8.44327929e-01j],\n",
       "         [-0.63742401-7.70513228e-01j, -0.63742401+7.70513228e-01j],\n",
       "         [ 0.77769914-6.28636662e-01j,  0.77769914+6.28636662e-01j],\n",
       "         ...,\n",
       "         [-0.97882275-2.04709611e-01j, -0.97882275+2.04709611e-01j],\n",
       "         [-0.82452948+5.65818995e-01j, -0.82452948-5.65818995e-01j],\n",
       "         [-0.17386303+9.84769845e-01j, -0.17386303-9.84769845e-01j]],\n",
       "\n",
       "        [[-0.96858316-2.48689893e-01j, -0.96858316+2.48689893e-01j],\n",
       "         [-0.42577925+9.04827070e-01j, -0.42577925-9.04827070e-01j],\n",
       "         [ 0.23016253-9.73152203e-01j,  0.23016253+9.73152203e-01j],\n",
       "         ...,\n",
       "         [-0.2752179 -9.61381874e-01j, -0.2752179 +9.61381874e-01j],\n",
       "         [ 0.15562542-9.87816140e-01j,  0.15562542+9.87816140e-01j],\n",
       "         [-0.98829504+1.52554607e-01j, -0.98829504-1.52554607e-01j]],\n",
       "\n",
       "        ...,\n",
       "\n",
       "        [[-0.96858316-2.48689887e-01j, -0.96858316+2.48689887e-01j],\n",
       "         [-0.42577922+9.04827085e-01j, -0.42577922-9.04827085e-01j],\n",
       "         [ 0.88721537-4.61355489e-01j,  0.88721537+4.61355489e-01j],\n",
       "         ...,\n",
       "         [-0.50056674-8.65697951e-01j, -0.50056674+8.65697951e-01j],\n",
       "         [-0.90724892-4.20594111e-01j, -0.90724892+4.20594111e-01j],\n",
       "         [-0.37723474+9.26117677e-01j, -0.37723474-9.26117677e-01j]],\n",
       "\n",
       "        [[-0.87630668+4.81753675e-01j, -0.87630668-4.81753675e-01j],\n",
       "         [ 1.        +2.52615336e-08j,  1.        -2.52615336e-08j],\n",
       "         [ 0.41916118-9.07911838e-01j,  0.41916118+9.07911838e-01j],\n",
       "         ...,\n",
       "         [ 0.53250697-8.46425620e-01j,  0.53250697+8.46425620e-01j],\n",
       "         [ 0.92903158-3.70000439e-01j,  0.92903158+3.70000439e-01j],\n",
       "         [-0.99826561-5.88708357e-02j, -0.99826561+5.88708357e-02j]],\n",
       "\n",
       "        [[-0.30901699+9.51056516e-01j, -0.30901699-9.51056516e-01j],\n",
       "         [-0.42577928-9.04827056e-01j, -0.42577928+9.04827056e-01j],\n",
       "         [-0.22430664-9.74518615e-01j, -0.22430664+9.74518615e-01j],\n",
       "         ...,\n",
       "         [ 0.99706947+7.65015108e-02j,  0.99706947-7.65015108e-02j],\n",
       "         [-0.36969177+9.29154451e-01j, -0.36969177-9.29154451e-01j],\n",
       "         [-0.26576645-9.64037443e-01j, -0.26576645+9.64037443e-01j]]],\n",
       "\n",
       "\n",
       "       [[[ 0.87630668-4.81753674e-01j,  0.87630668+4.81753674e-01j],\n",
       "         [-0.92977647+3.68124586e-01j, -0.92977647-3.68124586e-01j],\n",
       "         [-0.95326897+3.02122935e-01j, -0.95326897-3.02122935e-01j],\n",
       "         ...,\n",
       "         [ 0.96858317+2.48689860e-01j,  0.96858317-2.48689860e-01j],\n",
       "         [ 0.07157158-9.97435466e-01j,  0.07157158+9.97435466e-01j],\n",
       "         [ 0.72896862+6.84547116e-01j,  0.72896862-6.84547116e-01j]],\n",
       "\n",
       "        [[ 0.30901699-9.51056516e-01j,  0.30901699+9.51056516e-01j],\n",
       "         [ 0.72896862+6.84547110e-01j,  0.72896862-6.84547110e-01j],\n",
       "         [-0.56886467+8.22431143e-01j, -0.56886467-8.22431143e-01j],\n",
       "         ...,\n",
       "         [ 0.23153571+9.72826406e-01j,  0.23153571-9.72826406e-01j],\n",
       "         [ 0.6753777 +7.37472010e-01j,  0.6753777 -7.37472010e-01j],\n",
       "         [-0.41330313+9.10593501e-01j, -0.41330313-9.10593501e-01j]],\n",
       "\n",
       "        [[-0.42577929-9.04827052e-01j, -0.42577929+9.04827052e-01j],\n",
       "         [ 0.30901698-9.51056520e-01j,  0.30901698+9.51056520e-01j],\n",
       "         [ 0.05360227+9.98562365e-01j,  0.05360227-9.98562365e-01j],\n",
       "         ...,\n",
       "         [-0.75270222+6.58361127e-01j, -0.75270222-6.58361127e-01j],\n",
       "         [-0.99986862-1.62093191e-02j, -0.99986862+1.62093191e-02j],\n",
       "         [-0.99518473-9.80171309e-02j, -0.99518473+9.80171309e-02j]],\n",
       "\n",
       "        ...,\n",
       "\n",
       "        [[-0.42577931-9.04827043e-01j, -0.42577931+9.04827043e-01j],\n",
       "         [ 0.30901695-9.51056531e-01j,  0.30901695+9.51056531e-01j],\n",
       "         [-0.72110871+6.92821929e-01j, -0.72110871-6.92821929e-01j],\n",
       "         ...,\n",
       "         [-0.57017599+8.21522577e-01j, -0.57017599-8.21522577e-01j],\n",
       "         [-0.28983031+9.57078047e-01j, -0.28983031-9.57078047e-01j],\n",
       "         [-0.59569934+8.03207504e-01j, -0.59569934-8.03207504e-01j]],\n",
       "\n",
       "        [[-0.92977649-3.68124533e-01j, -0.92977649+3.68124533e-01j],\n",
       "         [-0.99211469+1.25333297e-01j, -0.99211469-1.25333297e-01j],\n",
       "         [-0.1461235 +9.89266356e-01j, -0.1461235 -9.89266356e-01j],\n",
       "         ...,\n",
       "         [-0.99259924-1.21436223e-01j, -0.99259924+1.21436223e-01j],\n",
       "         [-0.49606419-8.68285851e-01j, -0.49606419+8.68285851e-01j],\n",
       "         [-0.95226269-3.05279835e-01j, -0.95226269+3.05279835e-01j]],\n",
       "\n",
       "        [[-0.92977648+3.68124573e-01j, -0.92977648-3.68124573e-01j],\n",
       "         [ 0.53582686+8.44327882e-01j,  0.53582686-8.44327882e-01j],\n",
       "         [ 0.49001255+8.71715380e-01j,  0.49001255-8.71715380e-01j],\n",
       "         ...,\n",
       "         [-0.35531094-9.34748169e-01j, -0.35531094+9.34748169e-01j],\n",
       "         [ 0.97166349+2.36368502e-01j,  0.97166349-2.36368502e-01j],\n",
       "         [-0.01767052-9.99843864e-01j, -0.01767052+9.99843864e-01j]]],\n",
       "\n",
       "\n",
       "       [[[ 0.92977648+3.68124561e-01j,  0.92977648-3.68124561e-01j],\n",
       "         [ 0.87630668-4.81753679e-01j,  0.87630668+4.81753679e-01j],\n",
       "         [ 0.82938434-5.58678453e-01j,  0.82938434+5.58678453e-01j],\n",
       "         ...,\n",
       "         [-0.18738133-9.82287248e-01j, -0.18738133+9.82287248e-01j],\n",
       "         [-0.99766042+6.83643385e-02j, -0.99766042-6.83643385e-02j],\n",
       "         [ 0.53582676+8.44327950e-01j,  0.53582676-8.44327950e-01j]],\n",
       "\n",
       "        [[ 0.92977649-3.68124544e-01j,  0.92977649+3.68124544e-01j],\n",
       "         [-0.80901701-5.87785233e-01j, -0.80901701+5.87785233e-01j],\n",
       "         [ 0.31385652-9.49470423e-01j,  0.31385652+9.49470423e-01j],\n",
       "         ...,\n",
       "         [ 0.78165655-6.23709097e-01j,  0.78165655+6.23709097e-01j],\n",
       "         [ 0.63597328-7.71711079e-01j,  0.63597328+7.71711079e-01j],\n",
       "         [-0.62677382+7.79201240e-01j, -0.62677382-7.79201240e-01j]],\n",
       "\n",
       "        [[ 0.4257793 -9.04827049e-01j,  0.4257793 +9.04827049e-01j],\n",
       "         [-0.18738127+9.82287258e-01j, -0.18738127-9.82287258e-01j],\n",
       "         [-0.33301627-9.42921082e-01j, -0.33301627+9.42921082e-01j],\n",
       "         ...,\n",
       "         [ 0.91618797+4.00748807e-01j,  0.91618797-4.00748807e-01j],\n",
       "         [ 0.1235242 +9.92341560e-01j,  0.1235242 -9.92341560e-01j],\n",
       "         [-0.93954329-3.42430150e-01j, -0.93954329+3.42430150e-01j]],\n",
       "\n",
       "        ...,\n",
       "\n",
       "        [[ 0.42577928-9.04827058e-01j,  0.42577928+9.04827058e-01j],\n",
       "         [-0.1873813 +9.82287254e-01j, -0.1873813 -9.82287254e-01j],\n",
       "         [ 0.496471  -8.68053306e-01j,  0.496471  +8.68053306e-01j],\n",
       "         ...,\n",
       "         [ 0.98610498+1.66123371e-01j,  0.98610498-1.66123371e-01j],\n",
       "         [ 0.98816557+1.53391029e-01j,  0.98816557-1.53391029e-01j],\n",
       "         [-0.77673392+6.29828884e-01j, -0.77673392-6.29828884e-01j]],\n",
       "\n",
       "        [[-0.30901701-9.51056512e-01j, -0.30901701+9.51056512e-01j],\n",
       "         [ 0.96858315-2.48689920e-01j,  0.96858315+2.48689920e-01j],\n",
       "         [-0.13877476-9.90323970e-01j, -0.13877476+9.90323970e-01j],\n",
       "         ...,\n",
       "         [ 0.31274941+9.49835675e-01j,  0.31274941-9.49835675e-01j],\n",
       "         [-0.79053725+6.12413956e-01j, -0.79053725-6.12413956e-01j],\n",
       "         [-0.84642558-5.32507034e-01j, -0.84642558+5.32507034e-01j]],\n",
       "\n",
       "        [[-0.87630669-4.81753663e-01j, -0.87630669+4.81753663e-01j],\n",
       "         [-0.63742403-7.70513210e-01j, -0.63742403+7.70513210e-01j],\n",
       "         [-0.71594505-6.98156633e-01j, -0.71594505+6.98156633e-01j],\n",
       "         ...,\n",
       "         [-0.6945014 +7.19491350e-01j, -0.6945014 -7.19491350e-01j],\n",
       "         [ 0.09841664-9.95145299e-01j,  0.09841664+9.95145299e-01j],\n",
       "         [ 0.23153567-9.72826416e-01j,  0.23153567+9.72826416e-01j]]]])"
      ]
     },
     "execution_count": 18,
     "metadata": {},
     "output_type": "execute_result"
    }
   ],
   "source": [
    "coeffs"
   ]
  },
  {
   "cell_type": "code",
   "execution_count": 19,
   "metadata": {},
   "outputs": [
    {
     "name": "stderr",
     "output_type": "stream",
     "text": [
      "/var/folders/_b/trlmhkgj5xq968yccj4vtg1c0000gn/T/ipykernel_34038/2184829813.py:13: ComplexWarning: Casting complex values to real discards the imaginary part\n",
      "  gradient_arr[row,col] = gradient_sum\n"
     ]
    }
   ],
   "source": [
    "emp = np.zeros((80,80))\n",
    "x = gradient_2(data_list, coords, coeffs, emp)\n",
    "#x = gradient(data_list, coords, emp)\n",
    "np.savetxt(\"gradient_2.txt\", np.real(x), delimiter=\",\")"
   ]
  },
  {
   "cell_type": "code",
   "execution_count": 23,
   "metadata": {},
   "outputs": [],
   "source": [
    "emp = np.zeros((80,80))\n",
    "x = gradient(data_list, coords, emp)\n",
    "np.savetxt(\"gradient.txt\", np.real(x), delimiter=\",\")"
   ]
  },
  {
   "cell_type": "code",
   "execution_count": 28,
   "metadata": {},
   "outputs": [
    {
     "data": {
      "text/plain": [
       "2.6648284214025542e+28"
      ]
     },
     "execution_count": 28,
     "metadata": {},
     "output_type": "execute_result"
    }
   ],
   "source": [
    "loss(x, data_list, coords)\n",
    "# loss(emp, data_list, coords)"
   ]
  },
  {
   "cell_type": "code",
   "execution_count": 31,
   "metadata": {},
   "outputs": [
    {
     "data": {
      "text/plain": [
       "((-15681667.625904083+0j), (4393377.900123596+0j))"
      ]
     },
     "execution_count": 31,
     "metadata": {},
     "output_type": "execute_result"
    }
   ],
   "source": [
    "np.min(x), np.max(x)"
   ]
  },
  {
   "cell_type": "code",
   "execution_count": 22,
   "metadata": {},
   "outputs": [],
   "source": [
    "def gradient_descent(image, data_list, coords, coeffs, subset_percent = 10):\n",
    "    image_copy = np.copy(image, subok=True)\n",
    "    # coeffs = preprocess_gradient(data_list, coords, image_copy)\n",
    "    # loss needs same subset as gradient_2\n",
    "    i = 0\n",
    "    grad = None\n",
    "    t = 10000000\n",
    "    while grad is None or np.any(np.abs(grad) > 0.0000001): # Didn't finish before so never negative?\n",
    "        plt.figure()\n",
    "        plt.imshow(image_copy, vmin=0, vmax=0.5)\n",
    "        plt.axis('off')\n",
    "        plt.savefig('images/'+str(i)+'.png')\n",
    "\n",
    "        #selection = np.random.choice(np.arange(len(data_list)), size=len(coords)*subset_percent//100, replace=False) # selection is full of indicies\n",
    "        #subset = [data_list[index] for index in selection]\n",
    "        prev_loss = loss(image_copy, data_list, coords)\n",
    "\n",
    "        grad = gradient_2(data_list, coords, coeffs, image_copy) + gradient_regularizer(image_copy)\n",
    "        new_image = image_copy - t * grad\n",
    "        new_loss = loss(new_image, data_list, coords)\n",
    "        \n",
    "        while new_loss > prev_loss: # Only run when new_loss > prev_loss\n",
    "            new_image = image_copy - t * grad\n",
    "            new_loss = loss(new_image, data_list, coords)\n",
    "            t /= 2\n",
    "\n",
    "        loss_file = open(\"losses_2.txt\",\"a\")\n",
    "        loss_file.write(\"--------------------------\")\n",
    "        loss_file.write(\"t-val\" + str(t) + \"\\n\")\n",
    "        loss_file.write(\"prev_loss:\" + str(prev_loss) + \"\\n\")\n",
    "        loss_file.write(\"new_loss:\" + str(new_loss) + \"\\n\")\n",
    "        loss_file.close()\n",
    "\n",
    "        image_copy -= t * 2 * grad\n",
    "        i += 1\n",
    "        \"\"\"if i == 100:\n",
    "            return\"\"\""
   ]
  },
  {
   "cell_type": "code",
   "execution_count": null,
   "metadata": {},
   "outputs": [],
   "source": [
    "gradient_descent(emp, data_list, coords, coeffs)"
   ]
  },
  {
   "cell_type": "markdown",
   "metadata": {},
   "source": [
    "Don't combine u and v into. They are 2D coordinates in fourier transform\n",
    "vis = amp * np.exp(1j * phase)\n",
    "turn phase into radians\n",
    "interpolation to get sample value\n",
    "80 pixel x 80 pixel"
   ]
  },
  {
   "cell_type": "markdown",
   "metadata": {},
   "source": [
    "Find FOV\n",
    "    => Hyperparameter\n",
    "    => 100 microasc"
   ]
  },
  {
   "cell_type": "markdown",
   "metadata": {},
   "source": [
    "# Add regularizers Here\n",
    "    # need it for good restorations L2 Norm penalty\n",
    "    # First (25) reg with variable p instead of 2\n",
    "    # Write optimization loop (Gradient Descent?)\n",
    "    # Reorg above\n",
    "    # Hardcode Gradient Descent of data term in terms of function\n",
    "    # Gradient by finding images pixel by pixel => Combine after to get final image NOOO\n",
    "    # Does pytorch autodiff work with fft?\n",
    "\n",
    "    # How long does it take to compute one gradient\n",
    "    # Can use Central difference to approx gradient\n",
    "    # h is.. check video, like 10^-6\n",
    "    # forward difference will be faster but less accurate\n",
    "    # Try both?\n",
    "\n",
    "    # regularizers smooths out the image, doesn't like \"rough\" images\n",
    "    # Make pixel next to each other similar to each other"
   ]
  },
  {
   "cell_type": "code",
   "execution_count": null,
   "metadata": {},
   "outputs": [],
   "source": [
    "y = train_df['complex'].values\n",
    "y = y.reshape(-1, 1)\n",
    "train_df['constant'] = 1\n",
    "columns = ['U(lambda)', 'V(lambda)', 'Isigma(Jy)']\n",
    "x = train_df[columns].values\n",
    "\n",
    "#initialize vector of weights\n",
    "w = np.zeros([x.shape[0], 2])\n",
    "print(w.shape)"
   ]
  },
  {
   "cell_type": "code",
   "execution_count": null,
   "metadata": {},
   "outputs": [],
   "source": [
    "A = np.array([[4, 3, 2],\n",
    "              [1, 2, 3],\n",
    "              [0, -1, 5]])\n",
    "B = np.empty(np.shape(A))"
   ]
  },
  {
   "cell_type": "markdown",
   "metadata": {},
   "source": [
    "How slow is finite differences\n",
    "Try to implement and understand the derivatives one works"
   ]
  },
  {
   "cell_type": "code",
   "execution_count": null,
   "metadata": {},
   "outputs": [],
   "source": [
    "def f(x, y, z):\n",
    "    return 2 * x**3 + y**4 - z\n",
    "\n",
    "x = np.linspace(1, 4, 11)\n",
    "y = np.linspace(4, 7, 22)\n",
    "z = np.linspace(7, 9, 33)\n",
    "\n",
    "xg, yg ,zg = np.meshgrid(x, y, z, indexing='ij', sparse=True)\n",
    "\n",
    "data = f(xg, yg, zg)\n",
    "interp = RegularGridInterpolator((x, y, z), data, bounds_error=False, method=\"cubic\")\n",
    "pts = np.array([[2.1, 6.2, 8.3],\n",
    "                [3.3, 5.2, 7.1],\n",
    "                [2.5, 5.5, 8.5],\n",
    "                [1.00000001, 4.0000000000000001, 7.00008]])\n",
    "for pt in pts:\n",
    "    print(interp(pt))\n",
    "    print(f(pt[0],pt[1],pt[2]))\n",
    "    print(\"---------------------\")"
   ]
  },
  {
   "cell_type": "markdown",
   "metadata": {},
   "source": [
    "Runge Phenomenon and Gibbs"
   ]
  },
  {
   "cell_type": "code",
   "execution_count": null,
   "metadata": {},
   "outputs": [],
   "source": [
    "x = np.array([[0,1,2],[4,5,6]])\n",
    "y = np.array([[0,1,2],[4,5,6]])"
   ]
  },
  {
   "cell_type": "markdown",
   "metadata": {},
   "source": [
    "Computer n^2 shifts\n",
    "Plot loss vs shift\n",
    "    Density plot?\n",
    "It would be a 2 arg function\n",
    "\n",
    "\n",
    "\n",
    "Check amplitude of image vs data_list\n",
    "Find min shift, interpolate, Check if amplitude\n",
    "Check loss function for bugs\n",
    "Fix Regs\n",
    "\n",
    "\n",
    "Multiply image by amplitudes and plot losses"
   ]
  },
  {
   "cell_type": "code",
   "execution_count": 33,
   "metadata": {},
   "outputs": [
    {
     "data": {
      "text/plain": [
       "True"
      ]
     },
     "execution_count": 33,
     "metadata": {},
     "output_type": "execute_result"
    }
   ],
   "source": [
    "2.1977982534870438e-07 > 0.0000001"
   ]
  },
  {
   "cell_type": "code",
   "execution_count": 35,
   "metadata": {},
   "outputs": [
    {
     "data": {
      "text/plain": [
       "False"
      ]
     },
     "execution_count": 35,
     "metadata": {},
     "output_type": "execute_result"
    }
   ],
   "source": [
    "1e-7 == 0.0000001"
   ]
  }
 ],
 "metadata": {
  "interpreter": {
   "hash": "becf8088f74075664c4b68580e6274238340099ff43245eeb40a8d9143c8ef9d"
  },
  "kernelspec": {
   "display_name": "Python 3.8.3 64-bit ('3.8.3': pyenv)",
   "name": "python3"
  },
  "language_info": {
   "codemirror_mode": {
    "name": "ipython",
    "version": 3
   },
   "file_extension": ".py",
   "mimetype": "text/x-python",
   "name": "python",
   "nbconvert_exporter": "python",
   "pygments_lexer": "ipython3",
   "version": "3.11.4"
  },
  "orig_nbformat": 4
 },
 "nbformat": 4,
 "nbformat_minor": 2
}

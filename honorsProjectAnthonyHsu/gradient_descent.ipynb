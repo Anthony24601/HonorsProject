{
 "cells": [
  {
   "cell_type": "markdown",
   "metadata": {},
   "source": [
    "Grad Descent"
   ]
  },
  {
   "cell_type": "code",
   "execution_count": null,
   "metadata": {},
   "outputs": [],
   "source": [
    "def gradient_descent(image, data_list, coords, coeffs):\n",
    "    image_copy = np.copy(image, subok=True)\n",
    "    # coeffs = preprocess_gradient(data_list, coords, image_copy)\n",
    "    # loss needs same subset as gradient_2\n",
    "    i = 0\n",
    "    grad = None\n",
    "    t = 1\n",
    "    while grad is None or np.any(np.abs(grad) > 0.0000001): #fix abs\n",
    "        plt.figure()\n",
    "        plt.imshow(image_copy, vmin=0, vmax=0.5)\n",
    "        plt.axis('off')\n",
    "        plt.savefig('images/'+str(i)+'.png')\n",
    "        prev_loss = loss(image_copy, data_list, coords)\n",
    "        grad = gradient_2(data_list, coords, coeffs, image_copy) + gradient_regularizer(image_copy) # Include different amplitudes\n",
    "        new_image = image_copy - t * grad\n",
    "        new_loss = loss(new_image, data_list, coords)\n",
    "        \n",
    "        while new_loss > prev_loss: # Only run when new_loss > prev_loss\n",
    "            new_image = image_copy - t * grad\n",
    "            new_loss = loss(new_image, data_list, coords)\n",
    "            t /= 2\n",
    "\n",
    "        print(\"t-val\" + str(t))\n",
    "        print(\"prev_loss:\" + str(prev_loss))\n",
    "        print(\"new_loss:\" + str(new_loss))\n",
    "\n",
    "        image_copy -= t * 2 * grad\n",
    "        i += 1"
   ]
  }
 ],
 "metadata": {
  "language_info": {
   "name": "python"
  }
 },
 "nbformat": 4,
 "nbformat_minor": 2
}

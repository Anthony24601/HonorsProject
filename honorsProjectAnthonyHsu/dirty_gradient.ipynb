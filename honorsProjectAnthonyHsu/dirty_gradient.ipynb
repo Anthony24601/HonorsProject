{
 "cells": [
  {
   "cell_type": "code",
   "execution_count": 2,
   "metadata": {},
   "outputs": [],
   "source": [
    "%run ./utility.ipynb"
   ]
  },
  {
   "cell_type": "markdown",
   "metadata": {},
   "source": [
    "# Gradient Calculations: \"Dirtying\" the Image"
   ]
  },
  {
   "cell_type": "markdown",
   "metadata": {},
   "source": [
    "## Method two: Dirtying the Image\n",
    "Here, we use a different method of computing gradients in order to speed up the gradient calculation process. By doing so, we should also see an increase in speed for the gradient descent.\n",
    "\n",
    "First we start with the Gradient calculation. Consider the following loss term \n",
    "\n",
    "$$L_{data}(I) = \\sum_a\\frac{|I(u_a,v_a)-O_a|^2}{\\sigma_a^2}$$"
   ]
  },
  {
   "cell_type": "markdown",
   "metadata": {},
   "source": [
    "Here a represents which data point, O_a represents the data point itself, i and j are pixel coordinates, $I_{ij}$ is the image. By doing this, we get the gradient to be: \n",
    "\n",
    "$$G_{ij} = \\frac{\\partial L_{data}}{\\partial I_{ij}} = \\sum_a \\frac{1}{\\sigma_a^2}(\\frac{\\partial I(u_a,v_a)}{\\partial I_{ij}}(I^*(u_a,v_a)-O_a^*) + (I(u_a,v_a)-O_a)\\frac{\\partial I^*(u_a,v_a)}{\\partial I_{ij}})$$"
   ]
  },
  {
   "cell_type": "markdown",
   "metadata": {},
   "source": [
    "Ideally we can compute the partial derivates as \n",
    "\n",
    "$$\\frac{\\partial I(u_a,v_a)}{\\partial I_{ij}} = exp(\\frac{2\\pi i}{N}(iu_a+jv_a)), \\frac{\\partial I^*(u_a,v_a)}{\\partial I_{ij}} = exp(-\\frac{2\\pi i}{N}(iu_a+jv_a))$$\n",
    "\n",
    "N is the size of the image in pixels"
   ]
  },
  {
   "cell_type": "markdown",
   "metadata": {},
   "source": [
    "We can further define things like so:\n",
    "\n",
    "We introduce the so-called \"dirty\" image from observations as \n",
    "\n",
    "$$DO_{ij} = \\sum_a \\frac{1}{\\sigma^2_a}\\frac{\\partial I^*(u_a,v_a)}{\\partial I_{ij}}O_a$$"
   ]
  },
  {
   "cell_type": "markdown",
   "metadata": {},
   "source": [
    "\n",
    "Here $I^*(u_a,v_a)$ is the fourier domain of the image at an observed data point.\n",
    "\n",
    "We also define the \"dirtying\" of the image I as \n",
    "\n",
    "$$DI_{ij} = \\sum_a \\frac{1}{\\sigma^2_a}\\frac{\\partial I^*(u_a,v_a)}{\\partial I_{ij}}I(u_a,v_a)$$\n",
    "\n",
    "This then gives us that \n",
    "\n",
    "$$G_{ij} = 2Re(DI_{ij}-DO_{ij})$$"
   ]
  },
  {
   "cell_type": "code",
   "execution_count": 3,
   "metadata": {},
   "outputs": [],
   "source": [
    "sample = np.loadtxt(\"images/data.csv\", delimiter=\",\")\n",
    "coords, data_list = do_sample(25)\n",
    "emp = np.zeros((80,80))"
   ]
  },
  {
   "cell_type": "markdown",
   "metadata": {},
   "source": [
    "Here we preprocess and compute $\\frac{\\partial I(u_a,v_a)}{\\partial I_{ij}}, \\frac{\\partial I^*(u_a,v_a)}{\\partial I_{ij}}$"
   ]
  },
  {
   "cell_type": "code",
   "execution_count": 4,
   "metadata": {},
   "outputs": [],
   "source": [
    "def preprocess_gradient(data_list, coords, image):\n",
    "    \"\"\"\n",
    "    Precomputed the coefficients decribed in dirty gradient\n",
    "    Args:\n",
    "        data_list is a list of data objects\n",
    "        coords is a list of u,v coordinates that we obtained from our data\n",
    "        image is a 80x80 pixel image that represents our reconstructed image\n",
    "    Returns:\n",
    "        a 4d list of coefficients\n",
    "    \"\"\"\n",
    "    r, c = np.shape(image)\n",
    "    preprocessed = np.empty([r,c,len(data_list),2], dtype=np.complex_)\n",
    "    for row in range(len(image)):\n",
    "        for col in range(len(image[row])):\n",
    "            for datum in range(len(data_list)):\n",
    "                term = ((2*np.pi*1j)/image.size)*(row*coords[datum][0] + col*coords[datum][1]) #.size for numpy array returns # of rows * # of cols\n",
    "                term_1 = np.exp(term)\n",
    "                term_2 = np.exp(-1*term)\n",
    "                preprocessed[row,col,datum,0] = term_1\n",
    "                preprocessed[row,col,datum,1] = term_2\n",
    "    return preprocessed"
   ]
  },
  {
   "cell_type": "code",
   "execution_count": 5,
   "metadata": {},
   "outputs": [],
   "source": [
    "coeffs = preprocess_gradient(data_list, coords, emp)"
   ]
  },
  {
   "cell_type": "markdown",
   "metadata": {},
   "source": [
    "Now, we can use the formula above to compute the gradient of the image directly"
   ]
  },
  {
   "cell_type": "code",
   "execution_count": 12,
   "metadata": {},
   "outputs": [],
   "source": [
    "def dirty_gradient(data_list: list[data], coords, coeffs, image, FOV = 100*u.uas.to(u.rad)):\n",
    "    \"\"\"\n",
    "    Calculates a gradient based on dirting the image\n",
    "    Args:\n",
    "        data_list is a list of data objects\n",
    "        coords is a list of u,v coordinates that we obtained from our data\n",
    "        coeffs is the precomputed coefficients\n",
    "        image is a 80x80 pixel image that represents our reconstructed image\n",
    "        FOV is the Field of view from the telescopes. For the EHT data, our FOV is 100 micro ascs.\n",
    "    Returns:\n",
    "        the gradient of the loss function\n",
    "    \"\"\"\n",
    "    gradient_arr = np.empty(np.shape(image)) # Because we are in real space\n",
    "    vis_images = interpolate(image, coords, FOV)\n",
    "    for row in range(len(image)):\n",
    "        for col in range(len(image[row])):\n",
    "            gradient_sum = 0\n",
    "            for i in range(len(data_list)):\n",
    "                vis_data = data_list[i].vis_data\n",
    "                vis_image = vis_images[i] # Ask about this on Wednesday\n",
    "                term_1 = coeffs[row,col,i,0] * (np.conj(vis_image) - np.conj(vis_data))\n",
    "                term_2 = coeffs[row,col,i,1] * (vis_image - vis_data)\n",
    "                gradient_sum += (term_1 + term_2)/(data_list[i].sigma ** 2)\n",
    "            gradient_arr[row,col] = gradient_sum.real\n",
    "    return gradient_arr\n",
    "\n",
    "\n",
    "# Why is it made of fourier harmonics\n",
    "# Setting Visibilities of 1 for the purposes of this work"
   ]
  },
  {
   "cell_type": "code",
   "execution_count": 15,
   "metadata": {},
   "outputs": [
    {
     "data": {
      "text/plain": [
       "(-0.5, 79.5, 79.5, -0.5)"
      ]
     },
     "execution_count": 15,
     "metadata": {},
     "output_type": "execute_result"
    },
    {
     "data": {
      "image/png": "[encoded data removed]",
      "text/plain": [
       "<Figure size 640x480 with 1 Axes>"
      ]
     },
     "metadata": {},
     "output_type": "display_data"
    }
   ],
   "source": [
    "x = dirty_gradient(data_list, coords, coeffs, sample, FOV = 1)\n",
    "plt.figure()\n",
    "plt.imshow(x)\n",
    "plt.axis('off')"
   ]
  },
  {
   "cell_type": "markdown",
   "metadata": {},
   "source": [
    "Below is the gradient descent routine done in the fine gradient code"
   ]
  },
  {
   "cell_type": "code",
   "execution_count": 51,
   "metadata": {},
   "outputs": [],
   "source": [
    "def gradient_descent(image, data_list, coords, coeffs = None, FOV = 100*u.uas.to(u.rad), stopper = None, dirty = False):\n",
    "    \"\"\"\n",
    "    Performs gradient descent to reconstruct the image\n",
    "    Args:\n",
    "        image is a 80x80 pixel image that represents our reconstructed image\n",
    "        data_list is a list of data objects\n",
    "        coords is a list of u,v coordinates that we obtained from our data\n",
    "        coeffs is the precomputed coefficients\n",
    "        FOV is the Field of view from the telescopes. For the EHT data, our FOV is 100 micro ascs.\n",
    "        stopper allows the descent to stop at 20 iterations\n",
    "        dirty changes the gradient mode to dirty kernel\n",
    "    Returns:\n",
    "        the reconstructed image\n",
    "    \"\"\"\n",
    "    image_copy = np.copy(image, subok=True) # Uses copy of the image due to lists being mutable in python\n",
    "    i = 0\n",
    "    grad = None\n",
    "    # Can also use max here, min just makes it finish quicker\n",
    "    while grad is None or np.min(np.abs(grad)) > 0.00001:\n",
    "        t = 10000000 # Initial Step size which resets each iteration\n",
    "        prev_loss = loss(image_copy, data_list, coords, FOV=FOV)\n",
    "\n",
    "        if dirty:\n",
    "            grad = dirty_gradient(data_list, coords, coeffs, image_copy)\n",
    "        else:\n",
    "            grad = gradient_finite_differences(data_list, coords, image_copy, FOV=FOV)\n",
    "\n",
    "        new_image = image_copy - t * grad.real\n",
    "        new_loss = loss(new_image, data_list, coords, FOV=FOV)\n",
    "        \n",
    "        while new_loss > prev_loss: # Only run when new_loss > prev_loss\n",
    "            new_image = image_copy - t * grad.real\n",
    "            new_loss = loss(new_image, data_list, coords, FOV=FOV)\n",
    "            t /= 2\n",
    "\n",
    "        image_copy -= t * 2 * grad.real # Multiply by 2 to undo last divide in the while loop\n",
    "        i += 1\n",
    "        if stopper != None:\n",
    "            if i == stopper: # Hard stop here for notebook purposes\n",
    "                return image_copy\n",
    "        print(\"loss:\",new_loss)\n",
    "    return image_copy"
   ]
  },
  {
   "cell_type": "code",
   "execution_count": 53,
   "metadata": {},
   "outputs": [
    {
     "data": {
      "text/plain": [
       "(-0.5, 79.5, 79.5, -0.5)"
      ]
     },
     "execution_count": 53,
     "metadata": {},
     "output_type": "execute_result"
    },
    {
     "data": {
      "image/png": "[encoded data removed]",
      "text/plain": [
       "<Figure size 640x480 with 1 Axes>"
      ]
     },
     "metadata": {},
     "output_type": "display_data"
    }
   ],
   "source": [
    "plt.figure()\n",
    "plt.imshow(x)\n",
    "plt.axis('off')"
   ]
  },
  {
   "cell_type": "markdown",
   "metadata": {},
   "source": [
    "### Continuing Further\n",
    "\n",
    "Now lets say that DFT (Discrete fourier transform) is defined as \n",
    "\n",
    "\n",
    "$$I(u,v) = \\frac{1}{N}\\sum^{N-1}_{i,j = 0} exp(-\\frac{2\\pi i}{N}(iu+jv))I_{ij}$$\n",
    "\n",
    "\n",
    "$$I_{ij} = \\frac{1}{N}\\sum^{N-1}_{i,j = 0} exp(\\frac{2\\pi i}{N}(iu+jv))I(u,v)$$\n",
    "\n",
    "The interpolation scheme computes $I(u_a,v_a)$ as $I(u_a,v_a) = \\sum_{u,v = 0}^{N-1} W(u_a,v_a|u,v)I(u,v)$ where $W(u_a,v_a|u,v)$ stands for the weights of $u_a,v_a$ at u and v. The interpolation scheme will compute with only a few weights being non-zero for each a (assuming the interpolation is done in a local way). Putting this expression into $I(u,v)$ we get \n",
    "\n",
    "$$\\frac{\\partial I(u_a,v_a)}{\\partial I_{ij}} = \\frac{1}{N}\\sum^{N-1}_{u,v = 0} W(u_a,v_a|u,v) exp(-\\frac{2\\pi i}{N}(iu+jv))$$\n",
    "\n",
    "We this, we see that the partial derivative $\\frac{\\partial I(u_a,v_a)}{\\partial I_{ij}}$ is the interpolation of the Fourier transform kernel."
   ]
  },
  {
   "cell_type": "markdown",
   "metadata": {},
   "source": [
    "Now, we can rewrite our formula for the Dirty Image.\n",
    "\n",
    "$$DI(u,v) = \\frac{1}{N}\\sum_{i,j} exp(-\\frac{2\\pi i}{N}(iu+jv))DI_{ij}$$\n",
    "\n",
    "$$ = \\frac{1}{N}\\sum_{i,j} exp(-\\frac{2\\pi i}{N}(iu+jv)) \\sum_a \\frac{1}{\\sigma^2_a}\\frac{\\partial I^*(u_a,v_a)}{\\partial I_{ij}}I(u_a,v_a)$$\n",
    "\n",
    "$$ = \\frac{1}{N}\\sum_{i,j} exp(-\\frac{2\\pi i}{N}(iu+jv)) \\sum_a \\frac{1}{\\sigma^2_a}\\frac{1}{N}\\sum^{N-1}_{u',v' = 0} W(u_a,v_a|u',v') exp(-\\frac{2\\pi i}{N}(iu'+jv'))I(u_a,v_a)$$\n",
    "\n",
    "$$ = \\sum_a \\frac{1}{\\sigma^2_a}W(u_a,v_a|u,v)I(u_a,v_a) $$\n",
    "\n",
    "$$ = \\sum_a \\frac{1}{\\sigma^2_a}W(u_a,v_a|u,v)\\sum^{N-1}_{u',v' = 0} W(u_a,v_a|u',v')I(u',v')$$\n",
    "\n",
    "Now lets finally introduce the \"dirty kernel\" DK.\n",
    "\n",
    "$$DK(u,v|u',v') = \\sum_a \\frac{1}{\\sigma^2_a}W(u_a,v_a|u,v)W(u_a,v_a|u',v')$$\n",
    "\n",
    "This transforms the dirty image equation to be \n",
    "\n",
    "$$DI(u,v) = \\sum^{N-1}_{u',v' = 0} DK(u,v|u',v') I(u',v')$$"
   ]
  },
  {
   "cell_type": "markdown",
   "metadata": {},
   "source": [
    "Notice here that for each $(u,v)$ there are only a few points $(u',v')$ close by where $DK(u,v|u',v') \\neq 0$. Thus for each point $(u,v)$ in the Fourier domain, we can create a small list of $(u',v')$ points with tabulated $DK$ values.\n",
    "\n",
    "Another important note is that we can dirty the image quickly since the dirty kernel is able to be precomputed. We can do so since it only depends on observational data. The time complexity of going from the image to the fourier domain using DFT is about $O(N^2lnN)$ whereas the time complexity of going from image to dirty image by using the dirty kernel method is about $O(N^2)$. "
   ]
  },
  {
   "cell_type": "markdown",
   "metadata": {},
   "source": [
    "The code below was written by Misha Stepanov in order to quickly calculate DI, DO, and DK."
   ]
  },
  {
   "cell_type": "code",
   "execution_count": 16,
   "metadata": {},
   "outputs": [
    {
     "name": "stdout",
     "output_type": "stream",
     "text": [
      "6458\n"
     ]
    }
   ],
   "source": [
    "import numpy as np\n",
    "N = 80;  coeff = 4.84813681109536e-10;  Breg = 10000.;  Nreg = 100.\n",
    "\n",
    "# reading data\n",
    "list_of_strings = []\n",
    "with open('./data/SR1_M87_2017_095_hi_hops_netcal_StokesI.csv', 'r') as f:\n",
    "  for line in f:\n",
    "    list_of_strings.append(line)\n",
    "list_of_strings.pop(0)\n",
    "Na = len(list_of_strings)\n",
    "print(len(list_of_strings))\n",
    "UVa, sigma = np.zeros((2*Na, 2)), np.zeros(2*Na)\n",
    "Oa = np.zeros(2*Na).astype(complex)\n",
    "for a in range(Na):\n",
    "  current_string = (list_of_strings[-1]).split(\",\") # Split on commas\n",
    "  list_of_strings.pop()\n",
    "  UVa[a, 0], UVa[a, 1] = float(current_string[3]), float(current_string[4])\n",
    "  Oa[a] = float(current_string[5])*np.exp(1j*float(current_string[6])*np.pi/180.)\n",
    "  sigma[a] = float(current_string[7])\n",
    "  UVa[a + Na], Oa[a + Na], sigma[a + Na] = -UVa[a], np.conj(Oa[a]), sigma[a]\n",
    "del list_of_strings, current_string\n",
    "\n",
    "# local cubic interpolation\n",
    "def cubf1(x, y):                              #      8  11\n",
    "  cf1 = (1. + x - x*x)*(1. + 2.*y)*(1. - y)   #   8  2  3  10\n",
    "  cf2 = (1. + y - y*y)*(1. + 2.*x)*(1. - x)   #   4  0  1  6\n",
    "  return 0.5*(cf1 + cf2)*(1. - x)*(1. - y)    #      5  7\n",
    "def cubf2(x, y):  return -0.5*x*(1. - x)*(1. - x)*(1. + 2.*y)*(1. - y)*(1. - y)\n",
    "IND = np.array([[-2, -2], [-1, -2], [-2, -1], [-1, -1], [-3, -2], [-2, -3], \\\n",
    "  [0, -2], [-1, -3], [-3, -1], [-2, 0], [0, -1], [-1, 0]]).astype(int)\n",
    "def cubfun12(x, y):  return np.array([cubf1(x, y), cubf1(1. - x, y), \\\n",
    "    cubf1(x, 1. - y), cubf1(1. - x, 1. - y), cubf2(x, y), cubf2(y, x), \\\n",
    "    cubf2(1. - x, y), cubf2(y, 1. - x), cubf2(x, 1. - y), cubf2(1. - y, x), \\\n",
    "    cubf2(1. - x, 1. - y), cubf2(1. - y, 1. - x)])\n",
    "\n",
    "\"\"\"\n",
    "Calculate DO\n",
    "Compare G = -2DO\n",
    "\"\"\"\n",
    "\n",
    "# computing DO, the dirty image from observations\n",
    "DOuv = np.zeros((N, N)).astype(complex)\n",
    "for a in range(2*Na):\n",
    "  m = np.mod(coeff*UVa[a], N);  x, y = m - np.floor(m)\n",
    "  m1, m2 = np.floor(np.mod(m + np.array([2., 2.]), N)).astype(int)\n",
    "  C, CUBFUN = Oa[a] / sigma[a]**2, cubfun12(x, y)\n",
    "  for c in range(12):  DOuv[m1 + IND[c, 0], m2 + IND[c, 1]] += C*CUBFUN[c]\n",
    "DO = N*np.real(np.fft.ifft2(DOuv))\n",
    "del DOuv\n",
    "\n",
    "# computing DK, the dirty kernel\n",
    "DK49, DK = np.zeros((N, N, 7, 7)), []\n",
    "for a in range(2*Na):\n",
    "  m = np.mod(coeff*UVa[a], N);  x, y = m - np.floor(m)\n",
    "  m1, m2 = np.floor(np.mod(m + np.array([2., 2.]), N)).astype(int)\n",
    "  C, CUBFUN = 1. / sigma[a]**2, cubfun12(x, y)\n",
    "  for c in range(12):\n",
    "    for cp in range(12):\n",
    "      DK49[m1 + IND[c, 0], m2 + IND[c, 1], 3 + IND[cp, 0] - IND[c, 0], \\\n",
    "           3 + IND[cp, 1] - IND[c, 1]] += CUBFUN[c]*CUBFUN[cp]*C\n",
    "for u in range(N):\n",
    "  for v in range(N):\n",
    "    for du in range(7):\n",
    "      for dv in range(7):\n",
    "        if (DK49[u, v, du, dv] != 0.):\n",
    "          DK.append([u, v, ((u + du) % N) - 3, ((v + dv) % N) - 3, \\\n",
    "            DK49[u, v, du, dv]])\n",
    "del DK49, IND, CUBFUN\n",
    "\n",
    "# computing DI, the dirtying of the image I\n",
    "I12, Iuv = np.zeros((2, N, N)), np.zeros((N, N)).astype(complex)\n",
    "DI, DIuv = np.zeros((N, N)), np.zeros((N, N)).astype(complex)\n",
    "def calc_DI():\n",
    "  global Iuv, DI, DIuv\n",
    "  Iuv, DIuv = np.fft.fft2(I), np.zeros((N, N)).astype(complex)\n",
    "  for q in DK:  DIuv[q[0], q[1]] += q[4]*Iuv[q[2], q[3]]\n",
    "  DI = np.real(np.fft.ifft2(DIuv))\n",
    "  return\n",
    "\n",
    "# computing G, the gradient of the loss function\n",
    "def neighbor(Iat, Inear):  return np.sign(Iat - Inear)\n",
    "def calc_G():\n",
    "  global G\n",
    "  calc_DI()\n",
    "  G = 2.*(DI - DO)\n",
    "  for i in range(N):\n",
    "    for j in range(N):\n",
    "      if (I[i, j] < 0.):  G[i, j] -= Breg\n",
    "      if (I[i, j] > 0.):  G[i, j] += Nreg\n",
    "  return\n",
    "\n",
    "I, dt = (0.*DO), 0.00001\n",
    "\n",
    "calc_DI()"
   ]
  },
  {
   "cell_type": "markdown",
   "metadata": {},
   "source": [
    "Below is what the gradient looks like after running the dirty kernel code. What is remarkable is its similarity to the gradient calculated in the finite differences notebook in a fraction of the time. I am using a 2021 MacBook Pro with an M1 chip and the dirty kernel code took 2.5 seconds while the finite differences code took 34.4 seconds."
   ]
  },
  {
   "cell_type": "code",
   "execution_count": 17,
   "metadata": {},
   "outputs": [
    {
     "data": {
      "text/plain": [
       "Text(0.5, 1.0, 'coeff = 1/1/FOV')"
      ]
     },
     "execution_count": 17,
     "metadata": {},
     "output_type": "execute_result"
    },
    {
     "data": {
      "image/png": "[encoded data removed]",
      "text/plain": [
       "<Figure size 640x480 with 1 Axes>"
      ]
     },
     "metadata": {},
     "output_type": "display_data"
    }
   ],
   "source": [
    "plt.figure()\n",
    "plt.imshow(-2*DO)\n",
    "plt.axis('off')\n",
    "plt.title(\"coeff = FOV\")"
   ]
  }
 ],
 "metadata": {
  "kernelspec": {
   "display_name": "Python 3",
   "language": "python",
   "name": "python3"
  },
  "language_info": {
   "codemirror_mode": {
    "name": "ipython",
    "version": 3
   },
   "file_extension": ".py",
   "mimetype": "text/x-python",
   "name": "python",
   "nbconvert_exporter": "python",
   "pygments_lexer": "ipython3",
   "version": "3.11.4"
  }
 },
 "nbformat": 4,
 "nbformat_minor": 2
}

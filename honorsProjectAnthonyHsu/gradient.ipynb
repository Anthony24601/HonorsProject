{
 "cells": [
  {
   "cell_type": "markdown",
   "metadata": {},
   "source": [
    "Here we start with calculating the gradient of an image. We will do this in a few ways. The first way is to use finite differences\n",
    "..."
   ]
  },
  {
   "cell_type": "code",
   "execution_count": null,
   "metadata": {},
   "outputs": [],
   "source": [
    "def gradient(data_list: list[data], coords, image, central = False, backward = False):\n",
    "    image_copy = np.copy(image, subok=True)\n",
    "    upper_diff: float\n",
    "    lower_diff: float\n",
    "    h: float\n",
    "    gradient_arr = np.empty(np.shape(image),dtype=np.complex_)\n",
    "    if central: # Central difference\n",
    "        for row in range(len(image)):\n",
    "            for col in range(len(image[row])):\n",
    "                image_copy[row,col] += 1e-6 / 2\n",
    "                upper_diff = loss(image_copy, data_list, coords)\n",
    "                image_copy[row,col] -= 1e-6\n",
    "                lower_diff = loss(image_copy, data_list, coords)\n",
    "                image_copy[row,col] = image[row,col] # Reset that pixel to original value\n",
    "                gradient_arr[row,col] = (upper_diff - lower_diff) / 1e-6\n",
    "    elif backward: # Backward difference\n",
    "        upper_diff = loss(image, data_list, coords)\n",
    "        for row in range(len(image)):\n",
    "            for col in range(len(image[row])):\n",
    "                image_copy[row,col] -= 1e-8 # Check with Misha \n",
    "                lower_diff = loss(image_copy, data_list, coords)\n",
    "                gradient_arr[row,col] = (upper_diff - lower_diff) / 1e-8\n",
    "                image_copy[row,col] = image[row,col]\n",
    "    else: # Forward difference is default\n",
    "        lower_diff = loss(image, data_list, coords)\n",
    "        for row in range(len(image)):\n",
    "            for col in range(len(image[row])):\n",
    "                image_copy[row,col] += 1e-8 # Check with Misha \n",
    "                upper_diff = loss(image_copy, data_list, coords)\n",
    "                gradient_arr[row,col] = (upper_diff - lower_diff) / 1e-8\n",
    "                image_copy[row,col] = image[row,col]\n",
    "    return gradient_arr\n",
    "    #Return a Gradient 2d array"
   ]
  },
  {
   "cell_type": "markdown",
   "metadata": {},
   "source": [
    "Here we calculate gradient using some preprocessing and derivatives. We also reduce time by using a selection approach"
   ]
  },
  {
   "cell_type": "code",
   "execution_count": null,
   "metadata": {},
   "outputs": [],
   "source": [
    "def gradient_2(data_list: list[data], coords, coeffs, image, subset_percent = 10, FOV = 100*u.uas.to(u.rad)):\n",
    "    gradient_arr = np.empty(np.shape(image)) # Because we are in real space\n",
    "    vis_images = interpolate(image, coords, FOV)\n",
    "    selection = np.random.choice(np.arange(len(data_list)), size=len(coords)*subset_percent//100, replace=False) # selection is full of indicies\n",
    "    for row in range(len(image)):\n",
    "        for col in range(len(image[row])):\n",
    "            gradient_sum = 0\n",
    "            for i in selection:\n",
    "                vis_data = data_list[i].vis_data\n",
    "                vis_image = vis_images[i]\n",
    "                term_1 = coeffs[row,col,i,0] * (np.conj(vis_image) - np.conj(vis_data))\n",
    "                term_2 = coeffs[row,col,i,1] * (vis_image - vis_data)\n",
    "                gradient_sum += (term_1 + term_2)/(data_list[i].sigma ** 2)\n",
    "            gradient_arr[row,col] = gradient_sum\n",
    "    return gradient_arr"
   ]
  },
  {
   "cell_type": "code",
   "execution_count": null,
   "metadata": {},
   "outputs": [],
   "source": [
    "def preprocess_gradient(data_list: list[data], coords, image):\n",
    "    r, c = np.shape(image)\n",
    "    preprocessed = np.empty([r,c,len(data_list),2], dtype=np.complex_)\n",
    "    for row in range(len(image)):\n",
    "        for col in range(len(image[row])):\n",
    "            for datum in range(len(data_list)):\n",
    "                term = ((2*np.pi*1j)/image.size)*(row*data_list[datum].u + col*data_list[datum].v) #.size for numpy array returns # of rows * # of cols\n",
    "                term_1 = np.exp(term)\n",
    "                term_2 = np.exp(-1*term)\n",
    "                preprocessed[row,col,datum,0] = term_1\n",
    "                preprocessed[row,col,datum,1] = term_2\n",
    "    return preprocessed"
   ]
  }
 ],
 "metadata": {
  "language_info": {
   "name": "python"
  }
 },
 "nbformat": 4,
 "nbformat_minor": 2
}

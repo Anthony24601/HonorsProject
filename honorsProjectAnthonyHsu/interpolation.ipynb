{
 "cells": [
  {
   "cell_type": "markdown",
   "metadata": {},
   "source": [
    "# Interpolation\n",
    "In this notebook, we will talk about interpolating coordinate values from an image."
   ]
  },
  {
   "cell_type": "code",
   "execution_count": null,
   "metadata": {},
   "outputs": [],
   "source": [
    "def interpolate(image, coords, FOV):\n",
    "    ft_image = np.fft.fftshift(np.fft.fft2(image))\n",
    "\n",
    "    kx_1 = 2*math.pi/FOV\n",
    "\n",
    "    kx = np.linspace(ft_image.shape[0]//-2, (ft_image.shape[0])//2 - 1, ft_image.shape[0]) * kx_1\n",
    "    ky = np.linspace(ft_image.shape[0]//-2, (ft_image.shape[1])//2 - 1, ft_image.shape[1]) * kx_1\n",
    "    \n",
    "    interp_real = RegularGridInterpolator((kx, ky), ft_image.real, bounds_error=False, method=\"linear\")\n",
    "    interp_imag = RegularGridInterpolator((kx, ky), ft_image.imag, bounds_error=False, method=\"linear\")\n",
    "\n",
    "    real = interp_real(coords)\n",
    "    imag = interp_imag(coords)\n",
    "    return real + imag * 1j"
   ]
  },
  {
   "cell_type": "markdown",
   "metadata": {},
   "source": [
    "image is a 80x80 pixel image that represents our reconstructed image\n",
    "coords is a list of u,v coordinates that we obtained from our data\n",
    "FOV is the Field of view from the telescopes. For the EHT data, our FOV is 100 micro ascs.\n",
    "\n",
    "First we take the image and get it's fourier transform. We do this since our data is in the Fourier Domain and it allows us for a more direct comparison.\n",
    "\n",
    "Next we want to interpolate the complex value at each coordinate. RegularGridInterpolator however cannot interpolate complex numbers so we interpolate the real and imaginary parts separately and then combined them for the final result.\n",
    "Here we use a linear method for interpolation due to it's local interpolation scheme. The other schemes that RegularGridInterpolator offers uses a C^2-smooth split which is a non-local scheme. Since we wanted to optimize the computation time, we chose the linear method."
   ]
  },
  {
   "cell_type": "markdown",
   "metadata": {},
   "source": [
    "Image in x and y gets transformed into Fourier domain in kx and ky. The formula to transform it is: \n",
    "\n",
    "When we transform we need to also translate one unit from the image to one unit of the fourier image.\n",
    "Thats why we multiply kx and ky by kx_1. \n",
    "\n",
    "\n",
    "# Check kx_1 with CK and Misha\n",
    "\n",
    "\n",
    "\n",
    "The more grid points we have, the bigger the image. Thus the size of our Fourier Domain is the Number of pixels of the image by kx_1\n",
    "If our FOV is very small, then the width of the fourier grid becomes large."
   ]
  }
 ],
 "metadata": {
  "language_info": {
   "name": "python"
  }
 },
 "nbformat": 4,
 "nbformat_minor": 2
}

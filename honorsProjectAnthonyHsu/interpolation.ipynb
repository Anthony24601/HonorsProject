{
 "cells": [
  {
   "cell_type": "code",
   "execution_count": 1,
   "metadata": {},
   "outputs": [],
   "source": [
    "%run ./data.ipynb"
   ]
  },
  {
   "cell_type": "markdown",
   "metadata": {},
   "source": [
    "# Interpolation and Regularizers\n",
    "In this notebook, we will talk about interpolating coordinate values from an image as well as calculating the regularizer\n",
    "for gradient descent."
   ]
  },
  {
   "cell_type": "code",
   "execution_count": 2,
   "metadata": {},
   "outputs": [],
   "source": [
    "def interpolate(image, coords, FOV):\n",
    "    ft_image = np.fft.fftshift(np.fft.fft2(image))\n",
    "\n",
    "    kx_1 = 2*math.pi/FOV\n",
    "\n",
    "    kx = np.linspace(ft_image.shape[0]//-2, (ft_image.shape[0])//2 - 1, ft_image.shape[0]) * kx_1\n",
    "    ky = np.linspace(ft_image.shape[0]//-2, (ft_image.shape[1])//2 - 1, ft_image.shape[1]) * kx_1\n",
    "    \n",
    "    interp_real = RegularGridInterpolator((kx, ky), ft_image.real, bounds_error=False, method=\"linear\")\n",
    "    interp_imag = RegularGridInterpolator((kx, ky), ft_image.imag, bounds_error=False, method=\"linear\")\n",
    "\n",
    "    real = interp_real(coords)\n",
    "    imag = interp_imag(coords)\n",
    "    return real + imag * 1j"
   ]
  },
  {
   "cell_type": "markdown",
   "metadata": {},
   "source": [
    "image is a 80x80 pixel image that represents our reconstructed image\n",
    "coords is a list of u,v coordinates that we obtained from our data\n",
    "FOV is the Field of view from the telescopes. For the EHT data, our FOV is 100 micro ascs.\n",
    "\n",
    "First we take the image and get it's fourier transform. We do this since our data is in the Fourier Domain and it allows us for a more direct comparison.\n",
    "\n",
    "Next we want to interpolate the complex value at each coordinate. RegularGridInterpolator however cannot interpolate complex numbers so we interpolate the real and imaginary parts separately and then combined them for the final result.\n",
    "Here we use a linear method for interpolation due to it's local interpolation scheme. The other schemes that RegularGridInterpolator offers uses a C^2-smooth split which is a non-local scheme. Since we wanted to optimize the computation time, we chose the linear method."
   ]
  },
  {
   "cell_type": "markdown",
   "metadata": {},
   "source": [
    "Image in x and y gets transformed into Fourier domain in kx and ky. The formula to transform it is: \n",
    "\n",
    "When we transform we need to also translate one unit from the image to one unit of the fourier image.\n",
    "Thats why we multiply kx and ky by kx_1. \n",
    "\n",
    "\n",
    "# Check kx_1 with CK and Misha\n",
    "\n",
    "\n",
    "\n",
    "The more grid points we have, the bigger the image. Thus the size of our Fourier Domain is the Number of pixels of the image by kx_1\n",
    "If our FOV is very small, then the width of the fourier grid becomes large."
   ]
  },
  {
   "cell_type": "markdown",
   "metadata": {},
   "source": [
    "Here we start to calculate regularizers. We do so in order to smooth image..."
   ]
  },
  {
   "cell_type": "code",
   "execution_count": 3,
   "metadata": {},
   "outputs": [],
   "source": [
    "# p is the exponent of the regularizing terms\n",
    "# The smaller p the more sensitive it is to noise\n",
    "# TSV = Total Squared Variation\n",
    "def calc_regularizer(image: np.array, tsv=False, p=None):\n",
    "    if tsv and p == None:\n",
    "        raise Exception(\"p value not set\")\n",
    "    reg = 0\n",
    "    if tsv:\n",
    "        image_lshift = np.copy(image, subok=True)\n",
    "        image_lshift = np.roll(image_lshift, -1,axis=1)\n",
    "        image_lshift[:,-1] = 0\n",
    "        image_upshift = np.copy(image, subok=True)\n",
    "        image_upshift = np.roll(image_upshift, -1, axis=0)\n",
    "        image_upshift[-1] = 0\n",
    "\n",
    "        term_1 = np.power(np.absolute(np.subtract(image_lshift, image)),p)\n",
    "        term_2 = np.power(np.absolute(np.subtract(image_upshift, image)),p)\n",
    "        reg = np.sum(np.add(term_1,term_2))\n",
    "    return reg"
   ]
  },
  {
   "cell_type": "markdown",
   "metadata": {},
   "source": [
    "This is a regularizer for a gradient.\n",
    "...\n",
    "Show math"
   ]
  },
  {
   "cell_type": "code",
   "execution_count": 4,
   "metadata": {},
   "outputs": [],
   "source": [
    "def gradient_regularizer(image: np.array):\n",
    "    image_lshift = np.copy(image, subok=True)\n",
    "    image_lshift = np.roll(image_lshift, -1,axis=1)\n",
    "    image_lshift[:,-1] = 0\n",
    "    image_upshift = np.copy(image, subok=True)\n",
    "    image_upshift = np.roll(image_upshift, -1, axis=0)\n",
    "    image_upshift[-1] = 0\n",
    "    image_rshift = np.copy(image, subok=True)\n",
    "    image_rshift = np.roll(image_rshift, 1,axis=1)\n",
    "    image_rshift[:,0] = 0\n",
    "    image_dshift = np.copy(image, subok=True)\n",
    "    image_dshift = np.roll(image_dshift, 1, axis=0)\n",
    "    image_dshift[0] = 0\n",
    "    g_reg = 4 * image - image_lshift - image_upshift - image_rshift - image_dshift\n",
    "    return g_reg"
   ]
  }
 ],
 "metadata": {
  "kernelspec": {
   "display_name": "Python 3",
   "language": "python",
   "name": "python3"
  },
  "language_info": {
   "codemirror_mode": {
    "name": "ipython",
    "version": 3
   },
   "file_extension": ".py",
   "mimetype": "text/x-python",
   "name": "python",
   "nbconvert_exporter": "python",
   "pygments_lexer": "ipython3",
   "version": "3.11.4"
  }
 },
 "nbformat": 4,
 "nbformat_minor": 2
}

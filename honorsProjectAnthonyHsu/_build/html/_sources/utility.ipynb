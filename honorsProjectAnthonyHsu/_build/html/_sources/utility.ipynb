{
 "cells": [
  {
   "cell_type": "markdown",
   "metadata": {},
   "source": [
    "# Utility\n",
    "\n",
    "This is the Utility File with all of the functions put in so that all the Juypter Notebooks can use any of these functions"
   ]
  },
  {
   "cell_type": "code",
   "execution_count": 1,
   "metadata": {},
   "outputs": [],
   "source": [
    "import pandas as pd\n",
    "import numpy as np\n",
    "import cmath\n",
    "import math\n",
    "from scipy.optimize import fmin, minimize\n",
    "from astropy import units as u\n",
    "from scipy.interpolate import RegularGridInterpolator\n",
    "import matplotlib.pyplot as plt\n",
    "import copy\n",
    "%matplotlib inline"
   ]
  },
  {
   "cell_type": "code",
   "execution_count": 2,
   "metadata": {},
   "outputs": [],
   "source": [
    "class data:\n",
    "    u: float\n",
    "    v: float\n",
    "    phase: float\n",
    "    amp: float\n",
    "    sigma: float\n",
    "    vis_data: complex\n",
    "    def __init__(self, u, v, phase, amp, sigma):\n",
    "        self.u = u\n",
    "        self.v = v\n",
    "        self.phase = phase\n",
    "        self.amp = amp\n",
    "        self.sigma = sigma\n",
    "        self.vis_data = amp * np.exp(1j * math.radians(phase))\n",
    "\n",
    "    def __repr__(self):\n",
    "        return f\"[u: {self.u}, v: {self.v}]\"\n",
    "\n",
    "    def __str__(self):\n",
    "        return f\"[u: {self.u}, v: {self.v}]\""
   ]
  },
  {
   "cell_type": "code",
   "execution_count": 3,
   "metadata": {},
   "outputs": [],
   "source": [
    "def process_data(data_df):\n",
    "    coords = []\n",
    "    data_list = []\n",
    "    for i in range(len(data_df)):\n",
    "        data_list.append(data(data_df.loc[i, 'U(lambda)'], data_df.loc[i, 'V(lambda)'], data_df.loc[i, 'Iphase(d)'], data_df.loc[i, 'Iamp(Jy)'], data_df.loc[i, 'Isigma(Jy)']))\n",
    "        coords.append([data_df.loc[i, 'U(lambda)'], data_df.loc[i, 'V(lambda)']])\n",
    "    coords = np.array(coords)\n",
    "    return coords, data_list"
   ]
  },
  {
   "cell_type": "code",
   "execution_count": 4,
   "metadata": {},
   "outputs": [],
   "source": [
    "def read_data(filename: str()):\n",
    "    df = pd.read_csv(filename)\n",
    "    return df"
   ]
  },
  {
   "cell_type": "code",
   "execution_count": 5,
   "metadata": {},
   "outputs": [],
   "source": [
    "df = read_data(\"./data/SR1_M87_2017_095_hi_hops_netcal_StokesI.csv\")\n",
    "coords, data_list = process_data(df)"
   ]
  },
  {
   "cell_type": "code",
   "execution_count": null,
   "metadata": {},
   "outputs": [],
   "source": [
    "# Assumption image is 80x80 pixels\n",
    "# Pass in array of u,v coords then return array of interpolated values\n",
    "def interpolate(image, coords, FOV):\n",
    "    \"\"\"\n",
    "    image is a 80x80 pixel image that represents our reconstructed image\n",
    "    coords is a list of u,v coordinates that we obtained from our data\n",
    "    FOV is the Field of view from the telescopes. For the EHT data, our FOV is 100 micro ascs.\n",
    "    \"\"\"\n",
    "\n",
    "    ft_image = np.fft.fftshift(np.fft.fft2(image))\n",
    "\n",
    "    k_FOV = 1/FOV\n",
    "\n",
    "    kx = np.fft.fftshift(np.fft.fftfreq(ft_image.shape[0], d = 1/(k_FOV*ft_image.shape[0])))\n",
    "    ky = np.fft.fftshift(np.fft.fftfreq(ft_image.shape[1], d = 1/(k_FOV*ft_image.shape[1])))\n",
    "\n",
    "    interp_real = RegularGridInterpolator((kx, ky), ft_image.real, bounds_error=False, method=\"linear\")\n",
    "    interp_imag = RegularGridInterpolator((kx, ky), ft_image.imag, bounds_error=False, method=\"linear\")\n",
    "\n",
    "    real = interp_real(coords)\n",
    "    imag = interp_imag(coords)\n",
    "\n",
    "    return real + imag * 1j"
   ]
  },
  {
   "cell_type": "code",
   "execution_count": null,
   "metadata": {},
   "outputs": [],
   "source": [
    "# p is the exponent of the regularizing terms\n",
    "# The smaller p the more sensitive it is to noise\n",
    "# TSV = Total Squared Variation\n",
    "def calc_regularizer(image: np.array, tsv=False, p=None):\n",
    "    if tsv and p == None:\n",
    "        raise Exception(\"p value not set\")\n",
    "    reg = 0\n",
    "    if tsv:\n",
    "        image_lshift = np.copy(image, subok=True)\n",
    "        image_lshift = np.roll(image_lshift, -1,axis=1)\n",
    "        image_lshift[:,-1] = image_lshift[:,-2] \n",
    "        image_upshift = np.copy(image, subok=True)\n",
    "        image_upshift = np.roll(image_upshift, -1, axis=0)\n",
    "        image_upshift[-1] = image_upshift[-2] \n",
    "\n",
    "        term_1 = np.power(np.absolute(np.subtract(image_lshift, image)),p)\n",
    "        term_2 = np.power(np.absolute(np.subtract(image_upshift, image)),p)\n",
    "        reg = np.sum(np.add(term_1,term_2))\n",
    "    return -1 * reg"
   ]
  },
  {
   "cell_type": "code",
   "execution_count": null,
   "metadata": {},
   "outputs": [],
   "source": [
    "def gradient_regularizer(image: np.array):\n",
    "    image_lshift = np.copy(image, subok=True)\n",
    "    image_lshift = np.roll(image_lshift, -1,axis=1)\n",
    "    image_lshift[:,-1] = image_lshift[:,-2] \n",
    "    image_upshift = np.copy(image, subok=True)\n",
    "    image_upshift = np.roll(image_upshift, -1, axis=0)\n",
    "    image_upshift[-1] = image_upshift[-2] \n",
    "    image_rshift = np.copy(image, subok=True)\n",
    "    image_rshift = np.roll(image_rshift, 1,axis=1)\n",
    "    image_rshift[:,0] = image_rshift[:,1] \n",
    "    image_dshift = np.copy(image, subok=True)\n",
    "    image_dshift = np.roll(image_dshift, 1, axis=0)\n",
    "    image_dshift[0] = image_lshift[1] \n",
    "    g_reg = 4 * image - image_lshift - image_upshift - image_rshift - image_dshift\n",
    "    return g_reg"
   ]
  },
  {
   "cell_type": "code",
   "execution_count": null,
   "metadata": {},
   "outputs": [],
   "source": [
    "def do_sample(n):\n",
    "    coords = []\n",
    "    data_list = []\n",
    "    ft_image = np.fft.fftshift(np.fft.fft2(sample))\n",
    "    for i in range(n):\n",
    "        coords.append((int(np.random.rand()*10-5), int(np.random.rand()*10-5)))\n",
    "        data_list.append((coords[i],ft_image[coords[i][0]+40][coords[i][1]+40]))\n",
    "    return coords, data_list"
   ]
  },
  {
   "cell_type": "code",
   "execution_count": null,
   "metadata": {},
   "outputs": [],
   "source": [
    "# Assumption image is 80px by 80px => 6400 variables\n",
    "def simple_loss(image, data_list: list[data], coords, p = 2, reg_weight = 1, FOV = 1): #Ask about u.rad\n",
    "    error_sum = 0\n",
    "    vis_images = interpolate(image, coords, FOV)\n",
    "\n",
    "    for i in range(len(data_list)):\n",
    "        vis_data = data_list[i][1]\n",
    "        vis_image = vis_images[i]\n",
    "        error = (abs(vis_image-vis_data)) ** 2\n",
    "        error_sum += error\n",
    "    \n",
    "    return error_sum"
   ]
  },
  {
   "cell_type": "code",
   "execution_count": null,
   "metadata": {},
   "outputs": [],
   "source": [
    "def calculate_losses():\n",
    "    loss_arr = np.zeros((len(sample),len(sample[0])))\n",
    "    for i in range(len(sample)):\n",
    "        image_1 = np.roll(sample, i, axis=1) # Right shifts\n",
    "        for j in range(len(sample[i])):\n",
    "            image_2 = np.roll(image_1, j, axis = 0) # Up shifts\n",
    "            loss_arr[i][j] = simple_loss(image_2, data_list, coords, reg_weight=0)\n",
    "\n",
    "    # Note here for why we shift\n",
    "    loss_arr1 = np.roll(loss_arr, 40, axis=1)\n",
    "    loss_arr2 = np.roll(loss_arr1, 40, axis=0)\n",
    "\n",
    "    plt.figure()\n",
    "    plt.imshow(loss_arr2)\n",
    "    plt.axis('off')\n",
    "    return loss_arr"
   ]
  },
  {
   "cell_type": "code",
   "execution_count": null,
   "metadata": {},
   "outputs": [],
   "source": [
    "def gradient_finite_differences(data_list: list[data], coords, image, mode = 1): # 0 For central, -1 for backward, 1 for forward\n",
    "    image_copy = np.copy(image, subok=True)\n",
    "    upper_diff: float\n",
    "    lower_diff: float\n",
    "    h: float\n",
    "    gradient_arr = np.empty(np.shape(image),dtype=np.complex_)\n",
    "    if (mode == 0): # Central difference\n",
    "        for row in range(len(image)):\n",
    "            for col in range(len(image[row])):\n",
    "                image_copy[row,col] += 1e-6 / 2\n",
    "                upper_diff = loss(image_copy, data_list, coords)\n",
    "                image_copy[row,col] -= 1e-6\n",
    "                lower_diff = loss(image_copy, data_list, coords)\n",
    "                image_copy[row,col] = image[row,col] # Reset that pixel to original value\n",
    "                gradient_arr[row,col] = (upper_diff - lower_diff) / 1e-6\n",
    "    elif (mode == -1): # Backward difference\n",
    "        upper_diff = loss(image, data_list, coords)\n",
    "        for row in range(len(image)):\n",
    "            for col in range(len(image[row])):\n",
    "                image_copy[row,col] -= 1e-8\n",
    "                lower_diff = loss(image_copy, data_list, coords)\n",
    "                gradient_arr[row,col] = (upper_diff - lower_diff) / 1e-8\n",
    "                image_copy[row,col] = image[row,col]\n",
    "    elif (mode == 1) : # Forward difference is default\n",
    "        lower_diff = loss(image, data_list, coords)\n",
    "        for row in range(len(image)):\n",
    "            for col in range(len(image[row])):\n",
    "                image_copy[row,col] += 1e-8 \n",
    "                upper_diff = loss(image_copy, data_list, coords)\n",
    "                gradient_arr[row,col] = (upper_diff - lower_diff) / 1e-8\n",
    "                image_copy[row,col] = image[row,col]\n",
    "    else:\n",
    "        raise ValueError('Incorrect mode for finite differences')\n",
    "    return gradient_arr.real"
   ]
  }
 ],
 "metadata": {
  "kernelspec": {
   "display_name": "Python 3",
   "language": "python",
   "name": "python3"
  },
  "language_info": {
   "codemirror_mode": {
    "name": "ipython",
    "version": 3
   },
   "file_extension": ".py",
   "mimetype": "text/x-python",
   "name": "python",
   "nbconvert_exporter": "python",
   "pygments_lexer": "ipython3",
   "version": "3.11.4"
  }
 },
 "nbformat": 4,
 "nbformat_minor": 2
}

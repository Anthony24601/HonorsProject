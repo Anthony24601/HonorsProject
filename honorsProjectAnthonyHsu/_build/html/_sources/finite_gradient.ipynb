{
 "cells": [
  {
   "cell_type": "code",
   "execution_count": 8,
   "metadata": {},
   "outputs": [],
   "source": [
    "%run ./utility.ipynb"
   ]
  },
  {
   "cell_type": "markdown",
   "metadata": {},
   "source": [
    "# Gradient Calculations: Finite Differences\n",
    "\n",
    "We have two different methods of computing gradients and in this notebook we will explore the first one. \n",
    "\n",
    "## Gradient's Background\n",
    "A gradient is the direction of greatest change when looking at a scalar function. It is usually described as a generalized derivative or the rate of change. In our model, the gradient will be positive or negative depending on if a pixel's value must in increased or decreased. Additionally, each pixel will have its own gradient. \n",
    "\n",
    "Here's an intuitive way of looking at gradients: Image you are standing in Tucson at Alvernon and Grant and we are interested in the function f that tells you your elevation. The gradient of f will always tell you which direction you should travel in in order to rise in elevation the quickest.\n",
    "\n",
    "Since gradients are consistent (meaning if initial conditions are constant and the function doesn't change then we always get the same result), we can use gradients to find local maximums and minimums by simply following the gradient until either the gradient is 0 or we never finish (in the event of infinity end behaviors).\n",
    "\n",
    "Why are gradient's important? In the real world, gradients are used in many fields like physics, robotics, and optimizations. We use it all the time in order to quanify the net rate of change in multi-variable functions!"
   ]
  },
  {
   "cell_type": "markdown",
   "metadata": {},
   "source": [
    "## Method one: Finite Differences Methods\n",
    "\n",
    "The Finite Differences Method are a numerical analysis technique for solving differential equations by approximating derivatves using finite differences. Using these finite differences we can approximate a gradient of a function which we will denote as $\\nabla f$.\n",
    "\n",
    "So what is Finite Differences exactly? It is a mathematical expression of the form $f(x+b)-f(x+a)$.\n",
    "\n",
    "There are three basic types that are commonly considered for this method: Forward, Backward, and Central.\n",
    "\n",
    "Forward differences is calcuated by $\\nabla f = \\frac{f(x+h)-f(x)}{h}$\n",
    "\n",
    "Backward differences is calcuated by $\\nabla f = \\frac{f(x) - f(x-h)}{h}$\n",
    "\n",
    "Central differences is calcuated by $\\nabla f = \\frac{f(x+\\frac{h}{2})-f(x-\\frac{h}{2})}{h}$"
   ]
  },
  {
   "cell_type": "markdown",
   "metadata": {},
   "source": [
    "### The Function Implemented\n",
    "\n",
    "Below we have all three methods implemented controlled by a mode flag.\n",
    "\n",
    "For Gradient Descent, we consider $f$ to be our loss function and h to be a minute difference from a pixel's value. We iterate over every pixel and calculate the loss needed for equation used ($f(x+h)$, $f(x-h)$, or $f(x+\\frac{h}{2})-f(x-\\frac{h}{2})$). This gives us the gradient for each pixel.\n"
   ]
  },
  {
   "cell_type": "code",
   "execution_count": 9,
   "metadata": {},
   "outputs": [],
   "source": [
    "def gradient_finite_differences(data_list: list[data], coords, image, mode = 1, FOV = 100*u.uas.to(u.rad)):\n",
    "    \"\"\"\n",
    "    Calculates a gradient based on finite differences\n",
    "    Args:\n",
    "        data_list is a list of data objects\n",
    "        coords is a list of u,v coordinates that we obtained from our data\n",
    "        image is a 80x80 pixel image that represents our reconstructed image\n",
    "        mode is the type of difference used: 0 For central, -1 for backward, 1 for forward\n",
    "        FOV is the Field of view from the telescopes. For the EHT data, our FOV is 100 micro ascs.\n",
    "    Returns:\n",
    "        the gradient of the loss function\n",
    "    \"\"\"\n",
    "    image_copy = np.copy(image, subok=True)\n",
    "    upper_diff: float\n",
    "    lower_diff: float\n",
    "    h: float\n",
    "    gradient_arr = np.empty(np.shape(image),dtype=np.complex_)\n",
    "    if (mode == 0): # Central difference\n",
    "        for row in range(len(image)):\n",
    "            for col in range(len(image[row])):\n",
    "                image_copy[row,col] += 1e-6 / 2\n",
    "                upper_diff = loss(image_copy, data_list, coords, FOV=FOV)\n",
    "                image_copy[row,col] -= 1e-6\n",
    "                lower_diff = loss(image_copy, data_list, coords, FOV=FOV)\n",
    "                image_copy[row,col] = image[row,col] # Reset that pixel to original value\n",
    "                gradient_arr[row,col] = (upper_diff - lower_diff) / 1e-6\n",
    "    elif (mode == -1): # Backward difference\n",
    "        upper_diff = loss(image, data_list, coords, FOV=FOV)\n",
    "        for row in range(len(image)):\n",
    "            for col in range(len(image[row])):\n",
    "                image_copy[row,col] -= 1e-8\n",
    "                lower_diff = loss(image_copy, data_list, coords, FOV=FOV)\n",
    "                gradient_arr[row,col] = (upper_diff - lower_diff) / 1e-8\n",
    "                image_copy[row,col] = image[row,col]\n",
    "    elif (mode == 1) : # Forward difference is default\n",
    "        lower_diff = loss(image, data_list, coords, FOV=FOV)\n",
    "        for row in range(len(image)):\n",
    "            for col in range(len(image[row])):\n",
    "                image_copy[row,col] += 1e-8 \n",
    "                upper_diff = loss(image_copy, data_list, coords, FOV=FOV)\n",
    "                gradient_arr[row,col] = (upper_diff - lower_diff) / 1e-8\n",
    "                image_copy[row,col] = image[row,col]\n",
    "    else:\n",
    "        raise ValueError('Incorrect mode for finite differences')\n",
    "    return gradient_arr.real"
   ]
  },
  {
   "cell_type": "markdown",
   "metadata": {},
   "source": [
    "Final Note: Why do we use 1e-6 and 1e-8.\n",
    "\n",
    "When we want to estimate our loss function we consider the equation below \n",
    "\n",
    "$$\\kappa(f'_h) = max_{\\delta x} \\frac{|\\frac{f(x+\\delta x + h) - f (x+\\delta x)}{h} -f'(x)|}{|f'(x)|}|\\frac{x}{\\delta x}|$$\n",
    "$$\\sim \\frac{|f(x+h) - f(x) -f'(x)h|}{\\epsilon_{machine}h|f'(x)|}$$\n",
    "$$\\sim\\frac{\\epsilon_{machine}f +(\\frac{fh^2}{L^2})}{\\frac{\\epsilon_{machine}hf}{L}}$$\n",
    "$$ = \\frac{L}{h} + \\frac{h}{\\epsilon_{machine}L}$$\n",
    "\n",
    "Here, L is a characteristic scale of x and $\\epsilon_{machine}$ is the error of the machine. By minimizing $\\kappa(f'_h)$ with respect to h, we find that $h \\sim \\sqrt{\\epsilon_{machine}}L$. With $L\\sim 1$, $h \\sim \\sqrt{\\epsilon_{machine}}$.\n",
    "\n",
    "This is because of the maximum precision for floats in python. Floats in Python use IEEE Double Precision format which gives allows for it to compare up to $10^{-16}$ precision between two values. In forward and backward differences, the $h$ value uses the square root of $10^{-16}$ which is $10^{-8}$. In central differences, the $h$ value uses a cubic root which means it uses roughly $10^{-6}$"
   ]
  },
  {
   "cell_type": "markdown",
   "metadata": {},
   "source": [
    "### Demo Walkthrough\n",
    "\n",
    "Start with an empty or blank image"
   ]
  },
  {
   "cell_type": "code",
   "execution_count": 10,
   "metadata": {},
   "outputs": [
    {
     "data": {
      "text/plain": [
       "(-0.5, 79.5, 79.5, -0.5)"
      ]
     },
     "execution_count": 10,
     "metadata": {},
     "output_type": "execute_result"
    },
    {
     "data": {
      "image/png": "[encoded data removed]",
      "text/plain": [
       "<Figure size 640x480 with 1 Axes>"
      ]
     },
     "metadata": {},
     "output_type": "display_data"
    }
   ],
   "source": [
    "emp = np.zeros((80,80))\n",
    "plt.figure()\n",
    "plt.imshow(emp)\n",
    "plt.axis('off')"
   ]
  },
  {
   "cell_type": "markdown",
   "metadata": {},
   "source": [
    "Next we get the sample data points from our synthetic data. Afterwards we will run our gradient code."
   ]
  },
  {
   "cell_type": "code",
   "execution_count": 11,
   "metadata": {},
   "outputs": [
    {
     "data": {
      "text/plain": [
       "(-0.5, 79.5, 79.5, -0.5)"
      ]
     },
     "execution_count": 11,
     "metadata": {},
     "output_type": "execute_result"
    },
    {
     "data": {
      "image/png": "[encoded data removed]",
      "text/plain": [
       "<Figure size 640x480 with 1 Axes>"
      ]
     },
     "metadata": {},
     "output_type": "display_data"
    }
   ],
   "source": [
    "sample = np.loadtxt(\"images/data.csv\", delimiter=\",\")\n",
    "coords, data_list = do_sample(50)\n",
    "x = gradient_finite_differences(data_list, coords, emp, FOV = 1)\n",
    "plt.figure()\n",
    "plt.imshow(x)\n",
    "plt.axis('off')"
   ]
  },
  {
   "cell_type": "markdown",
   "metadata": {},
   "source": [
    "Above is the image representation of the gradient, darker areas represent smaller gradients and lighter areas represent bigger gradients.\n",
    "\n",
    "It is specifically a gradient when we start our \"image\" as an empty or blank image. The gradient above shows which pixels are different than what we would expect given a data set (whether some should be brighter, darker or stay the same). "
   ]
  },
  {
   "cell_type": "markdown",
   "metadata": {},
   "source": [
    "## Gradient Descent\n",
    "\n",
    "Now that we have computed a gradient, we can now start doing gradient descent. Gradient Descent is an optimization algorithm for finding local minimum within a differentiable function. We can use this to find values of parameters that minimize some sort of cost function. Here, the parameters as simply each pixel in our image, and the cost functions that we are trying to minimize is the loss function.\n",
    "\n",
    "Heres how it works. We first calcualte the loss at the current position. The algorithm then iteratively calculates the next image by using the gradient at the current position. We scale the gradient so that we can obtain a loss less than the current loss and then subtract the scaled gradient from the image. This is called a single step. We subtract the gradient because we are looking to minimise the function rather than maximizing it.\n",
    "\n",
    "We take a bunch of these steps until we hit some stopping condition (here it is np.min(np.abs(grad)) $\\leq$ 0.0000001)."
   ]
  },
  {
   "cell_type": "code",
   "execution_count": 15,
   "metadata": {},
   "outputs": [],
   "source": [
    "def gradient_descent(image, data_list, coords, coeffs = None, FOV = 100*u.uas.to(u.rad), stopper = None, dirty = False):\n",
    "    \"\"\"\n",
    "    Performs gradient descent to reconstruct the image\n",
    "    Args:\n",
    "        image is a 80x80 pixel image that represents our reconstructed image\n",
    "        data_list is a list of data objects\n",
    "        coords is a list of u,v coordinates that we obtained from our data\n",
    "        coeffs is the precomputed coefficients\n",
    "        FOV is the Field of view from the telescopes. For the EHT data, our FOV is 100 micro ascs.\n",
    "        stopper allows the descent to stop at 20 iterations\n",
    "        dirty changes the gradient mode to dirty kernel\n",
    "    Returns:\n",
    "        the reconstructed image\n",
    "    \"\"\"\n",
    "    image_copy = np.copy(image, subok=True) # Uses copy of the image due to lists being mutable in python\n",
    "    i = 0\n",
    "    grad = None\n",
    "    # Can also use max here, min just makes it finish quicker\n",
    "    while grad is None or np.min(np.abs(grad)) > 0.00001:\n",
    "        t = 10000000 # Initial Step size which resets each iteration\n",
    "        prev_loss = loss(image_copy, data_list, coords, FOV=FOV)\n",
    "\n",
    "        if dirty:\n",
    "            grad = dirty_gradient(data_list, coords, coeffs, image_copy)\n",
    "        else:\n",
    "            grad = gradient_finite_differences(data_list, coords, image_copy, FOV=FOV)\n",
    "\n",
    "        new_image = image_copy - t * grad.real\n",
    "        new_loss = loss(new_image, data_list, coords, FOV=FOV)\n",
    "        \n",
    "        while new_loss > prev_loss: # Only run when new_loss > prev_loss\n",
    "            new_image = image_copy - t * grad.real\n",
    "            new_loss = loss(new_image, data_list, coords, FOV=FOV)\n",
    "            t /= 2\n",
    "\n",
    "        image_copy -= t * 2 * grad.real # Multiply by 2 to undo last divide in the while loop\n",
    "        i += 1\n",
    "        if stopper != None:\n",
    "            if i == stopper: # Hard stop here for notebook purposes\n",
    "                return image_copy\n",
    "        print(\"loss:\",new_loss)\n",
    "    return image_copy"
   ]
  },
  {
   "cell_type": "markdown",
   "metadata": {},
   "source": [
    "Here is what the gradient descent's output looks like after just 15 iterations. The code should be ran using\n",
    "\n",
    "    reconstructed_img = gradient_descent(emp, data_list, coords)\n",
    "\n",
    "You will notices that the loss decreases very rapidly"
   ]
  },
  {
   "cell_type": "code",
   "execution_count": 17,
   "metadata": {},
   "outputs": [
    {
     "name": "stdout",
     "output_type": "stream",
     "text": [
      "loss: 50569.24578204717\n",
      "loss: 10132.076422877873\n",
      "loss: 4932.176237956565\n",
      "loss: 2606.046063932426\n",
      "loss: 1423.9289402106745\n",
      "loss: 795.1454581374797\n",
      "loss: 650.1442192726562\n",
      "loss: 296.4801596874979\n",
      "loss: 140.24900308428278\n",
      "loss: 68.89210288625621\n",
      "loss: 35.06335075191141\n",
      "loss: 18.393499087321747\n",
      "loss: 9.867659872544014\n",
      "loss: 5.359568041092771\n"
     ]
    },
    {
     "data": {
      "text/plain": [
       "Text(0.5, 1.0, 'Reconstructed Image')"
      ]
     },
     "execution_count": 17,
     "metadata": {},
     "output_type": "execute_result"
    },
    {
     "data": {
      "image/png": "[encoded data removed]",
      "text/plain": [
       "<Figure size 640x480 with 1 Axes>"
      ]
     },
     "metadata": {},
     "output_type": "display_data"
    }
   ],
   "source": [
    "reconstructed_img = gradient_descent(emp, data_list, coords, FOV = 1, stopper = 15)\n",
    "plt.figure()\n",
    "plt.imshow(reconstructed_img, vmin=0, vmax=np.max(sample))\n",
    "plt.axis('off')\n",
    "plt.title(\"Reconstructed Image\")\n",
    "\n",
    "# Use a graph here"
   ]
  },
  {
   "cell_type": "markdown",
   "metadata": {},
   "source": [
    "After another 20 iterations, you should see this:"
   ]
  },
  {
   "cell_type": "code",
   "execution_count": 20,
   "metadata": {},
   "outputs": [
    {
     "data": {
      "text/plain": [
       "Text(0.5, 1.0, 'Reconstructed Image')"
      ]
     },
     "execution_count": 20,
     "metadata": {},
     "output_type": "execute_result"
    },
    {
     "data": {
      "image/png": "[encoded data removed]",
      "text/plain": [
       "<Figure size 640x480 with 1 Axes>"
      ]
     },
     "metadata": {},
     "output_type": "display_data"
    }
   ],
   "source": [
    "reconstructed_img = np.loadtxt(\"./images/reconstructed_img.csv\", delimiter=\",\")\n",
    "plt.figure()\n",
    "plt.imshow(reconstructed_img, vmin=0, vmax=np.max(sample))\n",
    "plt.axis('off')\n",
    "plt.title(\"Reconstructed Image\")"
   ]
  },
  {
   "cell_type": "markdown",
   "metadata": {},
   "source": [
    "Here is the original image that the data was taken from"
   ]
  },
  {
   "cell_type": "code",
   "execution_count": 14,
   "metadata": {},
   "outputs": [
    {
     "data": {
      "text/plain": [
       "Text(0.5, 1.0, 'True Image')"
      ]
     },
     "execution_count": 14,
     "metadata": {},
     "output_type": "execute_result"
    },
    {
     "data": {
      "image/png": "[encoded data removed]",
      "text/plain": [
       "<Figure size 640x480 with 1 Axes>"
      ]
     },
     "metadata": {},
     "output_type": "display_data"
    }
   ],
   "source": [
    "plt.figure()\n",
    "plt.imshow(sample, vmin=0, vmax=np.max(sample))\n",
    "plt.axis('off')\n",
    "plt.title(\"True Image\")"
   ]
  },
  {
   "cell_type": "markdown",
   "metadata": {},
   "source": [
    "As you can see here, the reconstructed image doesn't replicate the original image directly but it will still reconstruct some of the big important features that EHT Analysis uses. Here we can see the general shape of the reconstructed image matches up with the original image"
   ]
  },
  {
   "cell_type": "markdown",
   "metadata": {},
   "source": [
    "zig zagging of gradient descent\n",
    "\n",
    "Run gradient on actual data for comparison with dirty kernel"
   ]
  }
 ],
 "metadata": {
  "kernelspec": {
   "display_name": "Python 3",
   "language": "python",
   "name": "python3"
  },
  "language_info": {
   "codemirror_mode": {
    "name": "ipython",
    "version": 3
   },
   "file_extension": ".py",
   "mimetype": "text/x-python",
   "name": "python",
   "nbconvert_exporter": "python",
   "pygments_lexer": "ipython3",
   "version": "3.11.4"
  }
 },
 "nbformat": 4,
 "nbformat_minor": 2
}

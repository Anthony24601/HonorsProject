{
 "cells": [
  {
   "cell_type": "code",
   "execution_count": 1,
   "metadata": {},
   "outputs": [],
   "source": [
    "%run ./utility.ipynb"
   ]
  },
  {
   "cell_type": "code",
   "execution_count": 2,
   "metadata": {},
   "outputs": [],
   "source": [
    "n = 256\n",
    "\n",
    "a = np.linspace(-50, 50, n)\n",
    "x, y = np.meshgrid(a, a)\n",
    "\n",
    "k = np.fft.fftfreq(n, a[1]-a[0])\n",
    "kx, ky = np.meshgrid(k, k)\n",
    "\n",
    "def Gaussian(sigma, x0=0, y0=0):\n",
    "    dx = x - x0\n",
    "    dy = y - y0\n",
    "    return np.exp(-0.5 * (dx*dx + dy*dy) / (sigma * sigma))\n",
    "\n",
    "def ring(nn=0.01):\n",
    "    return np.maximum(Gaussian(10, *randpos(1)) - Gaussian(8, *randpos(1)), 0) + nn * noise(2)\n",
    "\n",
    "def noise(alpha):\n",
    "    white_noise = np.random.rand(n, n)-0.5 + 1j*(np.random.rand(n, n)-0.5)\n",
    "    power_law = np.power(kx*kx + ky*ky + 1e-300, -0.5 * alpha)\n",
    "    power_law[0,0] = 0\n",
    "    img  = np.real(np.fft.ifft2(white_noise * power_law))\n",
    "    img += np.min(img)\n",
    "    img /= np.max(img)\n",
    "    return img\n",
    "\n",
    "def randpos(scale=1):\n",
    "    x = (np.random.rand() - 0.5) * 2 * scale\n",
    "    y = (np.random.rand() - 0.5) * 2 * scale\n",
    "    return x, y"
   ]
  },
  {
   "cell_type": "markdown",
   "metadata": {},
   "source": [
    "Below is how we create a 256 by 256 sample image of a blackhole ring"
   ]
  },
  {
   "cell_type": "code",
   "execution_count": 3,
   "metadata": {},
   "outputs": [
    {
     "data": {
      "text/plain": [
       "array([[0.13027453, 0.13130417, 0.13328103, ..., 0.12920494, 0.12900278,\n",
       "        0.12918611],\n",
       "       [0.13034549, 0.13136868, 0.13294787, ..., 0.12869911, 0.12849274,\n",
       "        0.12940884],\n",
       "       [0.12929012, 0.13069017, 0.13216779, ..., 0.12911053, 0.12795423,\n",
       "        0.1286343 ],\n",
       "       ...,\n",
       "       [0.13181733, 0.13204872, 0.13177572, ..., 0.13227486, 0.13188108,\n",
       "        0.13130049],\n",
       "       [0.12995662, 0.13078814, 0.13238065, ..., 0.13104806, 0.13072683,\n",
       "        0.13010552],\n",
       "       [0.12973815, 0.13143764, 0.13339032, ..., 0.12969032, 0.12944706,\n",
       "        0.12917118]])"
      ]
     },
     "execution_count": 3,
     "metadata": {},
     "output_type": "execute_result"
    }
   ],
   "source": [
    "ring()"
   ]
  },
  {
   "cell_type": "markdown",
   "metadata": {},
   "source": [
    "Here, we load a precreated sample image"
   ]
  },
  {
   "cell_type": "code",
   "execution_count": 4,
   "metadata": {},
   "outputs": [
    {
     "data": {
      "text/plain": [
       "(-0.5, 255.5, 255.5, -0.5)"
      ]
     },
     "execution_count": 4,
     "metadata": {},
     "output_type": "execute_result"
    },
    {
     "data": {
      "image/png": "[encoded data removed]",
      "text/plain": [
       "<Figure size 640x480 with 1 Axes>"
      ]
     },
     "metadata": {},
     "output_type": "display_data"
    }
   ],
   "source": [
    "sample = np.loadtxt(\"sample_image.csv\", delimiter=\",\")\n",
    "plt.figure()\n",
    "plt.imshow(sample, vmin=0, vmax=0.5)\n",
    "plt.axis('off')"
   ]
  },
  {
   "cell_type": "markdown",
   "metadata": {},
   "source": [
    "To test interpolate on a sample image, we test with arbitrarily chosen coordinates"
   ]
  },
  {
   "cell_type": "code",
   "execution_count": 5,
   "metadata": {},
   "outputs": [
    {
     "name": "stdout",
     "output_type": "stream",
     "text": [
      "[-167.49085714-175.33813211j]\n",
      "[0.+0.j]\n"
     ]
    },
    {
     "name": "stderr",
     "output_type": "stream",
     "text": [
      "/Library/Frameworks/Python.framework/Versions/3.11/lib/python3.11/site-packages/scipy/interpolate/_rgi.py:374: ComplexWarning: Casting complex values to real discards the imaginary part\n",
      "  xi = np.asarray(xi, dtype=float)\n"
     ]
    }
   ],
   "source": [
    "samp = np.array(sample)\n",
    "samp_blank = samp * 0\n",
    "samp_coords = [[1.81243945e-03+0.j, -1.65010891e-02-0.01426895j]]\n",
    "temp_1 = interpolate(samp, samp_coords, 100 * u.uas)\n",
    "print(temp_1)\n",
    "temp_2 = interpolate(samp_blank, samp_coords, 100 * u.uas)\n",
    "print(temp_2)"
   ]
  },
  {
   "cell_type": "markdown",
   "metadata": {},
   "source": [
    "Code to test loss"
   ]
  },
  {
   "cell_type": "code",
   "execution_count": 6,
   "metadata": {},
   "outputs": [
    {
     "ename": "NameError",
     "evalue": "name 'loss' is not defined",
     "output_type": "error",
     "traceback": [
      "\u001b[0;31m---------------------------------------------------------------------------\u001b[0m",
      "\u001b[0;31mNameError\u001b[0m                                 Traceback (most recent call last)",
      "Cell \u001b[0;32mIn[6], line 3\u001b[0m\n\u001b[1;32m      1\u001b[0m sample_coords \u001b[38;5;241m=\u001b[39m []\n\u001b[1;32m      2\u001b[0m sample_data_list \u001b[38;5;241m=\u001b[39m []\n\u001b[0;32m----> 3\u001b[0m \u001b[38;5;28mprint\u001b[39m(\u001b[43mloss\u001b[49m(samp, sample_data_list, sample_coords))\n\u001b[1;32m      4\u001b[0m \u001b[38;5;28mprint\u001b[39m(loss(samp_blank, sample_data_list, sample_coords))\n",
      "\u001b[0;31mNameError\u001b[0m: name 'loss' is not defined"
     ]
    }
   ],
   "source": [
    "sample_coords = []\n",
    "sample_data_list = []\n",
    "print(loss(samp, sample_data_list, sample_coords))\n",
    "print(loss(samp_blank, sample_data_list, sample_coords))"
   ]
  }
 ],
 "metadata": {
  "kernelspec": {
   "display_name": "Python 3",
   "language": "python",
   "name": "python3"
  },
  "language_info": {
   "codemirror_mode": {
    "name": "ipython",
    "version": 3
   },
   "file_extension": ".py",
   "mimetype": "text/x-python",
   "name": "python",
   "nbconvert_exporter": "python",
   "pygments_lexer": "ipython3",
   "version": "3.11.4"
  }
 },
 "nbformat": 4,
 "nbformat_minor": 2
}
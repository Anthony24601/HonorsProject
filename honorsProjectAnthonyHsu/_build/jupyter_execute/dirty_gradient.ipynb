{
 "cells": [
  {
   "cell_type": "code",
   "execution_count": 1,
   "metadata": {},
   "outputs": [],
   "source": [
    "%run ./utility.ipynb"
   ]
  },
  {
   "cell_type": "markdown",
   "metadata": {},
   "source": [
    "# Gradient Calculations: \"Dirtying\" the Image"
   ]
  },
  {
   "cell_type": "markdown",
   "metadata": {},
   "source": [
    "## Method two: Dirtying the Image\n",
    "\n",
    "Here, we use a different method of computing gradients in order to speed up the gradient calculation process. By doing so, we should also see an increase in speed for the gradient descent."
   ]
  },
  {
   "cell_type": "markdown",
   "metadata": {},
   "source": []
  },
  {
   "cell_type": "markdown",
   "metadata": {},
   "source": []
  },
  {
   "cell_type": "code",
   "execution_count": 2,
   "metadata": {},
   "outputs": [],
   "source": [
    "sample = np.loadtxt(\"images/data.csv\", delimiter=\",\")\n",
    "coords, data_list = do_sample(25)\n",
    "emp = np.zeros((80,80))"
   ]
  },
  {
   "cell_type": "markdown",
   "metadata": {},
   "source": [
    "Here we calculate gradient using some preprocessing and derivatives. We also reduce time by using a selection approach."
   ]
  },
  {
   "cell_type": "code",
   "execution_count": 3,
   "metadata": {},
   "outputs": [],
   "source": [
    "def preprocess_gradient(data_list, coords, image):\n",
    "    r, c = np.shape(image)\n",
    "    preprocessed = np.empty([r,c,len(data_list),2], dtype=np.complex_)\n",
    "    for row in range(len(image)):\n",
    "        for col in range(len(image[row])):\n",
    "            for datum in range(len(data_list)):\n",
    "                term = ((2*np.pi*1j)/image.size)*(row*coords[datum][0] + col*coords[datum][1]) #.size for numpy array returns # of rows * # of cols\n",
    "                term_1 = np.exp(term)\n",
    "                term_2 = np.exp(-1*term)\n",
    "                preprocessed[row,col,datum,0] = term_1\n",
    "                preprocessed[row,col,datum,1] = term_2\n",
    "    return preprocessed"
   ]
  },
  {
   "cell_type": "code",
   "execution_count": 4,
   "metadata": {},
   "outputs": [],
   "source": [
    "coeffs = preprocess_gradient(data_list, coords, emp)"
   ]
  },
  {
   "cell_type": "code",
   "execution_count": 5,
   "metadata": {},
   "outputs": [],
   "source": [
    "def dirty_gradient(data_list: list[data], coords, coeffs, image, subset_percent = 10, FOV = 100*u.uas.to(u.rad)):\n",
    "    gradient_arr = np.empty(np.shape(image)) # Because we are in real space\n",
    "    vis_images = interpolate(image, coords, FOV)\n",
    "    selection = np.random.choice(np.arange(len(data_list)), size=len(coords)*subset_percent//100, replace=False) # selection is full of indicies\n",
    "    for row in range(len(image)):\n",
    "        for col in range(len(image[row])):\n",
    "            gradient_sum = 0\n",
    "            for i in selection:\n",
    "                vis_data = data_list[i].vis_data\n",
    "                vis_image = vis_images[i]\n",
    "                term_1 = coeffs[row,col,i,0] * (np.conj(vis_image) - np.conj(vis_data))\n",
    "                term_2 = coeffs[row,col,i,1] * (vis_image - vis_data)\n",
    "                gradient_sum += (term_1 + term_2)/(data_list[i].sigma ** 2)\n",
    "            gradient_arr[row,col] = gradient_sum\n",
    "    return gradient_arr"
   ]
  },
  {
   "cell_type": "code",
   "execution_count": 6,
   "metadata": {},
   "outputs": [],
   "source": [
    "def dirty_gradient_simple(data_list: list[data], coords, coeffs, image, subset_percent = 10, FOV = 100*u.uas.to(u.rad)):\n",
    "    gradient_arr = np.empty(np.shape(image)) # Because we are in real space\n",
    "    vis_images = interpolate(image, coords, FOV)\n",
    "    # selection = np.random.choice(np.arange(len(data_list)), size=len(coords)*subset_percent//100, replace=False) # selection is full of indicies\n",
    "    for row in range(len(image)):\n",
    "        for col in range(len(image[row])):\n",
    "            gradient_sum = 0\n",
    "            for i in range(len(data_list)):\n",
    "                vis_data = data_list[i][1]\n",
    "                vis_image = vis_images[i]\n",
    "                term_1 = coeffs[row,col,i,0] * (np.conj(vis_image) - np.conj(vis_data))\n",
    "                term_2 = coeffs[row,col,i,1] * (vis_image - vis_data)\n",
    "                gradient_sum += (term_1 + term_2)/(1 ** 2) # What should I set sigma to?\n",
    "            gradient_arr[row,col] = gradient_sum\n",
    "    return gradient_arr"
   ]
  },
  {
   "cell_type": "code",
   "execution_count": 7,
   "metadata": {},
   "outputs": [
    {
     "name": "stderr",
     "output_type": "stream",
     "text": [
      "/var/folders/_b/trlmhkgj5xq968yccj4vtg1c0000gn/T/ipykernel_69440/1027418742.py:14: ComplexWarning: Casting complex values to real discards the imaginary part\n",
      "  gradient_arr[row,col] = gradient_sum\n"
     ]
    },
    {
     "data": {
      "text/plain": [
       "(-0.5, 79.5, 79.5, -0.5)"
      ]
     },
     "execution_count": 7,
     "metadata": {},
     "output_type": "execute_result"
    },
    {
     "data": {
      "image/png": "[encoded data removed]",
      "text/plain": [
       "<Figure size 640x480 with 1 Axes>"
      ]
     },
     "metadata": {},
     "output_type": "display_data"
    }
   ],
   "source": [
    "x = dirty_gradient_simple(data_list, coords, coeffs, emp)\n",
    "plt.figure()\n",
    "plt.imshow(x)\n",
    "plt.axis('off')"
   ]
  },
  {
   "cell_type": "code",
   "execution_count": 8,
   "metadata": {},
   "outputs": [],
   "source": [
    "def gradient_descent(image, data_list, coords, coeffs):\n",
    "    image_copy = np.copy(image, subok=True) # Uses copy of the image due to lists being mutable in python\n",
    "    i = 0\n",
    "    grad = None\n",
    "    # Can also use max here, min just makes it finish quicker\n",
    "    while grad is None or np.min(np.abs(grad)) > 0.0000001:\n",
    "\n",
    "        t = 10000000 # Initial Step size which resets each iteration\n",
    "        prev_loss = simple_loss(image_copy, data_list, coords)\n",
    "        grad = dirty_gradient_simple(data_list, coords, coeffs, image_copy)\n",
    "\n",
    "        new_image = image_copy - t * grad.real\n",
    "        new_loss = simple_loss(new_image, data_list, coords)\n",
    "        \n",
    "        while new_loss > prev_loss: # Only run when new_loss > prev_loss\n",
    "            new_image = image_copy - t * grad.real\n",
    "            new_loss = simple_loss(new_image, data_list, coords)\n",
    "            t /= 2\n",
    "\n",
    "        image_copy -= t * 2 * grad.real # Multiply by 2 to undo last divide in the while loop\n",
    "        i += 1\n",
    "        if i == 1000: # Hard stop here for notebook purposes\n",
    "            return image_copy\n",
    "    return image_copy"
   ]
  },
  {
   "cell_type": "code",
   "execution_count": 9,
   "metadata": {},
   "outputs": [],
   "source": [
    "#x = gradient_descent(emp,data_list,coords,coeffs)"
   ]
  },
  {
   "cell_type": "code",
   "execution_count": 10,
   "metadata": {},
   "outputs": [
    {
     "data": {
      "text/plain": [
       "(-0.5, 79.5, 79.5, -0.5)"
      ]
     },
     "execution_count": 10,
     "metadata": {},
     "output_type": "execute_result"
    },
    {
     "data": {
      "image/png": "[encoded data removed]",
      "text/plain": [
       "<Figure size 640x480 with 1 Axes>"
      ]
     },
     "metadata": {},
     "output_type": "display_data"
    }
   ],
   "source": [
    "plt.figure()\n",
    "plt.imshow(x)\n",
    "plt.axis('off')"
   ]
  }
 ],
 "metadata": {
  "kernelspec": {
   "display_name": "Python 3",
   "language": "python",
   "name": "python3"
  },
  "language_info": {
   "codemirror_mode": {
    "name": "ipython",
    "version": 3
   },
   "file_extension": ".py",
   "mimetype": "text/x-python",
   "name": "python",
   "nbconvert_exporter": "python",
   "pygments_lexer": "ipython3",
   "version": "3.11.4"
  }
 },
 "nbformat": 4,
 "nbformat_minor": 2
}
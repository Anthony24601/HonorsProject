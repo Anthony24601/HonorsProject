{
 "cells": [
  {
   "cell_type": "markdown",
   "metadata": {},
   "source": [
    "# Intro and Setup Use Diff\n",
    "These are all the libraries that are needed"
   ]
  },
  {
   "cell_type": "code",
   "execution_count": 1,
   "metadata": {},
   "outputs": [],
   "source": [
    "import pandas as pd\n",
    "import numpy as np\n",
    "import cmath\n",
    "import math\n",
    "from scipy.optimize import fmin, minimize\n",
    "from astropy import units as u\n",
    "from scipy.interpolate import RegularGridInterpolator\n",
    "import matplotlib.pyplot as plt\n",
    "import copy\n",
    "%matplotlib inline"
   ]
  },
  {
   "cell_type": "markdown",
   "metadata": {},
   "source": [
    "## Data Details\n",
    "\n",
    "In order to capture the image and data of a black hole, we would need a telescope the size of the earth! Although we don't have one of those, the Event Horizon Telescope were still able to obtain some data about black holes by using a technology called Very Long Baseline Interferometry (VLBI). This involves having many telescope around the world. This in turn creates a virtual telescope and allows us to capture the image of the black hole's silouette. They are the only ones in the world to do so!\n",
    "\n",
    "Most of the optics like cameras and cellphones, they don't hit a limit called the Defraction Limit. This limit is the point at which two Airy patterns are no longer distinguishable from each other and is often known as the cutoff frequence of a lens. Since EHT wants to image things that are extremely far away, they are constantly working at the Defraction limit and are limited by the physics of light.\n",
    "\n",
    "Because of these limitations, EHT is only able to collect sparse data in the Fourier domain (rather than an actually picture image). Thus in order to obtain a picture, we must do a image reconstruction as an optimization problem in order to fill in the gaps. The data set from EHT (The Event Horizon Telescope) and from the HOPS pipeline (software from MIT), comes in multiple sets. From one data collection, we are given a hi band and low band sets, and here's why.\n",
    "\n",
    "Suppose that the sky signal is some radio wave $Sky = \\epsilon \\sin(\\omega t)$. The signal however is extremely small which make it hard to detect. In order to pick out this signal on earth, we use a local oscillator which generates another wave (i.e. $LO = A \\sin(\\omega't)$) where A is some amplitude. Once these two signals are multiplied together, we get something like so: $Sky \\times LO = A \\epsilon \\sin(\\omega t) \\times \\sin(\\omega' t) = A \\epsilon {\\sin[(\\omega + \\omega')t] + sin [(\\omega - \\omega')t]}$. \n",
    "\n",
    "Here we have $A \\epsilon$ be an amplitude such that the signals are big enough for our instruments to detect.\n",
    "The $\\omega + \\omega'$ and $\\omega - \\omega'$ results in two bands which the data is taken from. Theoretically the two bands should create the same image but that is not always the case."
   ]
  },
  {
   "cell_type": "markdown",
   "metadata": {},
   "source": [
    "## Some Details about the Table\n",
    "\n",
    "time is the time that it was taken. This time stamp is not used because we assume things are static.\n",
    "\n",
    "T1 and T2 are the two telescopes.\n",
    "\n",
    "U and V are the Fourier location of the Fourier domain. They are given in terms of wavelengths (lambda).\n",
    "\n",
    "Iamp is the Amplitude of the Fourier Coefficient \n",
    "\n",
    "IPhase is the Phase of the Fourier Coefficient in degrees \n",
    "\n",
    "ISigma is the estimated magnitude of the error or the noisiness of the data point"
   ]
  },
  {
   "cell_type": "markdown",
   "metadata": {},
   "source": [
    "Here, we will start to preprocess the data. First we will create a class to hold the information is a more accessible manner"
   ]
  },
  {
   "cell_type": "code",
   "execution_count": 2,
   "metadata": {},
   "outputs": [],
   "source": [
    "class data:\n",
    "    u: float\n",
    "    v: float\n",
    "    phase: float\n",
    "    amp: float\n",
    "    sigma: float\n",
    "    vis_data: complex\n",
    "    def __init__(self, u, v, phase, amp, sigma):\n",
    "        self.u = u\n",
    "        self.v = v\n",
    "        self.phase = phase\n",
    "        self.amp = amp\n",
    "        self.sigma = sigma\n",
    "        self.vis_data = amp * np.exp(1j * math.radians(phase))\n",
    "\n",
    "    def __repr__(self):\n",
    "        return f\"[u: {self.u}, v: {self.v}]\"\n",
    "\n",
    "    def __str__(self):\n",
    "        return f\"[u: {self.u}, v: {self.v}]\""
   ]
  },
  {
   "cell_type": "markdown",
   "metadata": {},
   "source": [
    "The next few cells read the data from a csv file"
   ]
  },
  {
   "cell_type": "code",
   "execution_count": 3,
   "metadata": {},
   "outputs": [],
   "source": [
    "def process_data(data_df):\n",
    "    \"\"\"\n",
    "    Processes the data in the dataframe into a coords list and data objects\n",
    "    Args:\n",
    "        data_df is a pandas data frame of the data\n",
    "    Returns:\n",
    "        a list of coordinates in u,v space\n",
    "        a list of data objects\n",
    "    \"\"\"\n",
    "\n",
    "    coords = []\n",
    "    data_list = []\n",
    "    for i in range(len(data_df)):\n",
    "        data_list.append(data(data_df.loc[i, 'U(lambda)'], data_df.loc[i, 'V(lambda)'], data_df.loc[i, 'Iphase(d)'], data_df.loc[i, 'Iamp(Jy)'], data_df.loc[i, 'Isigma(Jy)']))\n",
    "        coords.append([data_df.loc[i, 'U(lambda)'], data_df.loc[i, 'V(lambda)']])\n",
    "    coords = np.array(coords)\n",
    "    return coords, data_list"
   ]
  },
  {
   "cell_type": "code",
   "execution_count": 4,
   "metadata": {},
   "outputs": [],
   "source": [
    "def read_data(filename):\n",
    "    \"\"\"\n",
    "    reads the data from a file into a pandas dataframe\n",
    "    Args:\n",
    "        filename is a string that represents a csv file\n",
    "    Returns:\n",
    "        a pandas dataframe\n",
    "    \"\"\"\n",
    "    df = pd.read_csv(filename)\n",
    "    return df"
   ]
  },
  {
   "cell_type": "code",
   "execution_count": 5,
   "metadata": {},
   "outputs": [
    {
     "data": {
      "text/html": [
       "<div>\n",
       "<style scoped>\n",
       "    .dataframe tbody tr th:only-of-type {\n",
       "        vertical-align: middle;\n",
       "    }\n",
       "\n",
       "    .dataframe tbody tr th {\n",
       "        vertical-align: top;\n",
       "    }\n",
       "\n",
       "    .dataframe thead th {\n",
       "        text-align: right;\n",
       "    }\n",
       "</style>\n",
       "<table border=\"1\" class=\"dataframe\">\n",
       "  <thead>\n",
       "    <tr style=\"text-align: right;\">\n",
       "      <th></th>\n",
       "      <th>#time(UTC)</th>\n",
       "      <th>T1</th>\n",
       "      <th>T2</th>\n",
       "      <th>U(lambda)</th>\n",
       "      <th>V(lambda)</th>\n",
       "      <th>Iamp(Jy)</th>\n",
       "      <th>Iphase(d)</th>\n",
       "      <th>Isigma(Jy)</th>\n",
       "    </tr>\n",
       "  </thead>\n",
       "  <tbody>\n",
       "    <tr>\n",
       "      <th>0</th>\n",
       "      <td>0.768056</td>\n",
       "      <td>AA</td>\n",
       "      <td>LM</td>\n",
       "      <td>1.081710e+09</td>\n",
       "      <td>-3.833722e+09</td>\n",
       "      <td>0.014292</td>\n",
       "      <td>-118.9454</td>\n",
       "      <td>0.005847</td>\n",
       "    </tr>\n",
       "    <tr>\n",
       "      <th>1</th>\n",
       "      <td>0.768056</td>\n",
       "      <td>AA</td>\n",
       "      <td>PV</td>\n",
       "      <td>-4.399933e+09</td>\n",
       "      <td>-4.509480e+09</td>\n",
       "      <td>0.136734</td>\n",
       "      <td>5.8638</td>\n",
       "      <td>0.004968</td>\n",
       "    </tr>\n",
       "    <tr>\n",
       "      <th>2</th>\n",
       "      <td>0.768056</td>\n",
       "      <td>AA</td>\n",
       "      <td>AP</td>\n",
       "      <td>8.349088e+05</td>\n",
       "      <td>-1.722271e+06</td>\n",
       "      <td>1.119780</td>\n",
       "      <td>58.1095</td>\n",
       "      <td>0.005243</td>\n",
       "    </tr>\n",
       "    <tr>\n",
       "      <th>3</th>\n",
       "      <td>0.768056</td>\n",
       "      <td>AP</td>\n",
       "      <td>LM</td>\n",
       "      <td>1.080840e+09</td>\n",
       "      <td>-3.832004e+09</td>\n",
       "      <td>0.018448</td>\n",
       "      <td>-137.6802</td>\n",
       "      <td>0.044576</td>\n",
       "    </tr>\n",
       "    <tr>\n",
       "      <th>4</th>\n",
       "      <td>0.768056</td>\n",
       "      <td>AP</td>\n",
       "      <td>PV</td>\n",
       "      <td>-4.400757e+09</td>\n",
       "      <td>-4.507747e+09</td>\n",
       "      <td>0.139619</td>\n",
       "      <td>-57.1724</td>\n",
       "      <td>0.032591</td>\n",
       "    </tr>\n",
       "    <tr>\n",
       "      <th>...</th>\n",
       "      <td>...</td>\n",
       "      <td>...</td>\n",
       "      <td>...</td>\n",
       "      <td>...</td>\n",
       "      <td>...</td>\n",
       "      <td>...</td>\n",
       "      <td>...</td>\n",
       "      <td>...</td>\n",
       "    </tr>\n",
       "    <tr>\n",
       "      <th>6453</th>\n",
       "      <td>8.165278</td>\n",
       "      <td>AZ</td>\n",
       "      <td>LM</td>\n",
       "      <td>-1.078324e+09</td>\n",
       "      <td>1.029597e+09</td>\n",
       "      <td>0.315983</td>\n",
       "      <td>10.9377</td>\n",
       "      <td>0.030449</td>\n",
       "    </tr>\n",
       "    <tr>\n",
       "      <th>6454</th>\n",
       "      <td>8.165278</td>\n",
       "      <td>AZ</td>\n",
       "      <td>JC</td>\n",
       "      <td>3.392180e+09</td>\n",
       "      <td>9.968579e+08</td>\n",
       "      <td>0.058864</td>\n",
       "      <td>46.0474</td>\n",
       "      <td>0.090288</td>\n",
       "    </tr>\n",
       "    <tr>\n",
       "      <th>6455</th>\n",
       "      <td>8.165278</td>\n",
       "      <td>JC</td>\n",
       "      <td>LM</td>\n",
       "      <td>-4.470504e+09</td>\n",
       "      <td>3.273711e+07</td>\n",
       "      <td>0.108582</td>\n",
       "      <td>-178.7050</td>\n",
       "      <td>0.043965</td>\n",
       "    </tr>\n",
       "    <tr>\n",
       "      <th>6456</th>\n",
       "      <td>8.165278</td>\n",
       "      <td>JC</td>\n",
       "      <td>SM</td>\n",
       "      <td>1.745735e+04</td>\n",
       "      <td>-1.192282e+05</td>\n",
       "      <td>1.123722</td>\n",
       "      <td>-29.5589</td>\n",
       "      <td>0.091870</td>\n",
       "    </tr>\n",
       "    <tr>\n",
       "      <th>6457</th>\n",
       "      <td>8.165278</td>\n",
       "      <td>LM</td>\n",
       "      <td>SM</td>\n",
       "      <td>4.470522e+09</td>\n",
       "      <td>-3.285633e+07</td>\n",
       "      <td>0.104931</td>\n",
       "      <td>96.6936</td>\n",
       "      <td>0.028783</td>\n",
       "    </tr>\n",
       "  </tbody>\n",
       "</table>\n",
       "<p>6458 rows × 8 columns</p>\n",
       "</div>"
      ],
      "text/plain": [
       "      #time(UTC)  T1  T2     U(lambda)     V(lambda)  Iamp(Jy)  Iphase(d)  \\\n",
       "0       0.768056  AA  LM  1.081710e+09 -3.833722e+09  0.014292  -118.9454   \n",
       "1       0.768056  AA  PV -4.399933e+09 -4.509480e+09  0.136734     5.8638   \n",
       "2       0.768056  AA  AP  8.349088e+05 -1.722271e+06  1.119780    58.1095   \n",
       "3       0.768056  AP  LM  1.080840e+09 -3.832004e+09  0.018448  -137.6802   \n",
       "4       0.768056  AP  PV -4.400757e+09 -4.507747e+09  0.139619   -57.1724   \n",
       "...          ...  ..  ..           ...           ...       ...        ...   \n",
       "6453    8.165278  AZ  LM -1.078324e+09  1.029597e+09  0.315983    10.9377   \n",
       "6454    8.165278  AZ  JC  3.392180e+09  9.968579e+08  0.058864    46.0474   \n",
       "6455    8.165278  JC  LM -4.470504e+09  3.273711e+07  0.108582  -178.7050   \n",
       "6456    8.165278  JC  SM  1.745735e+04 -1.192282e+05  1.123722   -29.5589   \n",
       "6457    8.165278  LM  SM  4.470522e+09 -3.285633e+07  0.104931    96.6936   \n",
       "\n",
       "      Isigma(Jy)  \n",
       "0       0.005847  \n",
       "1       0.004968  \n",
       "2       0.005243  \n",
       "3       0.044576  \n",
       "4       0.032591  \n",
       "...          ...  \n",
       "6453    0.030449  \n",
       "6454    0.090288  \n",
       "6455    0.043965  \n",
       "6456    0.091870  \n",
       "6457    0.028783  \n",
       "\n",
       "[6458 rows x 8 columns]"
      ]
     },
     "execution_count": 5,
     "metadata": {},
     "output_type": "execute_result"
    }
   ],
   "source": [
    "df = read_data(\"./data/SR1_M87_2017_095_hi_hops_netcal_StokesI.csv\")\n",
    "coords, data_list = process_data(df)\n",
    "df"
   ]
  },
  {
   "cell_type": "markdown",
   "metadata": {},
   "source": [
    "Below is EHT's reconstruction of the data above"
   ]
  },
  {
   "cell_type": "code",
   "execution_count": 6,
   "metadata": {},
   "outputs": [
    {
     "data": {
      "text/plain": [
       "(-0.5, 179.5, 179.5, -0.5)"
      ]
     },
     "execution_count": 6,
     "metadata": {},
     "output_type": "execute_result"
    },
    {
     "data": {
      "image/png": "[encoded data removed]",
      "text/plain": [
       "<Figure size 640x480 with 1 Axes>"
      ]
     },
     "metadata": {},
     "output_type": "display_data"
    }
   ],
   "source": [
    "file = open(\"images/3597_blur_avg.txt\",\"r\")\n",
    "lines = file.readlines()\n",
    "image = np.empty([180,180])\n",
    "t = []\n",
    "for line in lines:\n",
    "    coord = line.strip().split()\n",
    "    x = int(float(coord[0]) * 1000000)\n",
    "    y = int(float(coord[1]) * 1000000)\n",
    "    z = int(float(coord[2]) * 10000000000)\n",
    "    image[x+90][y+90] = z\n",
    "plt.figure()\n",
    "plt.imshow(image)\n",
    "plt.axis('off')"
   ]
  },
  {
   "cell_type": "markdown",
   "metadata": {},
   "source": [
    "And here is what the data looks like in the Fourier Domain"
   ]
  },
  {
   "cell_type": "code",
   "execution_count": 7,
   "metadata": {},
   "outputs": [
    {
     "data": {
      "image/png": "[encoded data removed]",
      "text/plain": [
       "<Figure size 640x480 with 1 Axes>"
      ]
     },
     "metadata": {},
     "output_type": "display_data"
    }
   ],
   "source": [
    "FOV=180*u.uas.to(u.rad)\n",
    "kx_1 = (1)/FOV\n",
    "\n",
    "x,y = [], []\n",
    "for data in data_list:\n",
    "    x.append((data.u/kx_1))\n",
    "    y.append(data.v/kx_1)\n",
    "\n",
    "ft_image = np.fft.fftshift(np.fft.fft2(image))\n",
    "plt.figure()\n",
    "\n",
    "plt.scatter(x,y,color=\"red\",s=0.1)\n",
    "plt.xlabel(\"u ($10^9$)\")\n",
    "plt.ylabel(\"v ($10^9$)\")\n",
    "plt.gca().set_aspect(\"equal\")"
   ]
  }
 ],
 "metadata": {
  "kernelspec": {
   "display_name": "Python 3",
   "language": "python",
   "name": "python3"
  },
  "language_info": {
   "codemirror_mode": {
    "name": "ipython",
    "version": 3
   },
   "file_extension": ".py",
   "mimetype": "text/x-python",
   "name": "python",
   "nbconvert_exporter": "python",
   "pygments_lexer": "ipython3",
   "version": "3.11.4"
  }
 },
 "nbformat": 4,
 "nbformat_minor": 2
}
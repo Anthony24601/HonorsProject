{
 "cells": [
  {
   "cell_type": "markdown",
   "metadata": {},
   "source": [
    "Here is the loss function"
   ]
  },
  {
   "cell_type": "markdown",
   "metadata": {},
   "source": [
    "Cosher Phase shows up because of errors within the telescopes we modify it like so:\n",
    "\n",
    "G stands for Gain. It is a smooth function. also called telescope error\n",
    "we minimize the loss. This results in use minimizing both the image and G\n",
    "\n",
    "Other way is like so by taking into account the Cosher Phase:\n",
    "CP is the Cosher Phase\n",
    "and CP_I is from the image\n",
    "error independent quantities"
   ]
  }
 ],
 "metadata": {
  "language_info": {
   "name": "python"
  }
 },
 "nbformat": 4,
 "nbformat_minor": 2
}

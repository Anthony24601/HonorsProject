{
 "cells": [
  {
   "cell_type": "markdown",
   "metadata": {},
   "source": [
    "Here is the loss function"
   ]
  },
  {
   "cell_type": "markdown",
   "metadata": {},
   "source": [
    "Cosher Phase shows up because of errors within the telescopes we modify it like so:\n",
    "\n",
    "G stands for Gain. It is a smooth function. also called telescope error\n",
    "we minimize the loss. This results in use minimizing both the image and G\n",
    "\n",
    "Other way is like so by taking into account the Cosher Phase:\n",
    "CP is the Cosher Phase\n",
    "and CP_I is from the image\n",
    "error independent quantities"
   ]
  },
  {
   "cell_type": "code",
   "execution_count": null,
   "metadata": {},
   "outputs": [],
   "source": [
    "# Assumption image is 80px by 80px => 6400 variables\n",
    "def loss(image, data_list: list[data], coords, p = 2, reg_weight = 1, FOV = 100*u.uas.to(u.rad)):\n",
    "    error_sum = 0\n",
    "    vis_images = interpolate(image, coords, FOV)\n",
    "    \n",
    "    for i in range(len(data_list)):\n",
    "        vis_data = data_list[i].amp * np.exp(1j * math.radians(data_list[i].phase))\n",
    "        vis_image = vis_images[i]\n",
    "        error = (abs(vis_image-vis_data) / data_list[i].sigma) ** 2\n",
    "        error_sum += error\n",
    "    \n",
    "    return error_sum + reg_weight * calc_regularizer(image=image, tsv=True, p=2)"
   ]
  }
 ],
 "metadata": {
  "language_info": {
   "name": "python"
  }
 },
 "nbformat": 4,
 "nbformat_minor": 2
}

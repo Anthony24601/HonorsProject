{
 "cells": [
  {
   "cell_type": "markdown",
   "metadata": {},
   "source": [
    "These are all the libraries that are needed"
   ]
  },
  {
   "cell_type": "code",
   "execution_count": 2,
   "metadata": {},
   "outputs": [],
   "source": [
    "import pandas as pd\n",
    "import numpy as np\n",
    "import cmath\n",
    "import math\n",
    "from scipy.optimize import fmin, minimize\n",
    "from astropy import units as u\n",
    "from scipy.interpolate import RegularGridInterpolator\n",
    "import matplotlib.pyplot as plt\n",
    "import copy\n",
    "%matplotlib inline"
   ]
  },
  {
   "cell_type": "markdown",
   "metadata": {},
   "source": [
    "As the earth spins, we trace out a track in the Fourier domain in order to give us one snapshot of the black hole image. On earth we create a sinusoidal wave in order to amplify the data that we recieve from our snapshot. This create two different sine bands. One being hi and the other being low. We can use these two data sets to create two different images for the same day in practice. Theoretically they should create the same image\n",
    "\n",
    "# Paste images here\n"
   ]
  },
  {
   "cell_type": "markdown",
   "metadata": {},
   "source": [
    "The data should look like so"
   ]
  },
  {
   "cell_type": "markdown",
   "metadata": {},
   "source": [
    "Sky = epsilon sin(omega t)\n",
    "LO = A sin(omega' t)\n",
    "Sky LO = A epsilon sin(omega t)sin(omega' t) = A espilon { sin[(omega + omega')t] + sin [(omega - omega')t]}\n",
    "omega and omega' being lo and high band frequency"
   ]
  },
  {
   "cell_type": "markdown",
   "metadata": {},
   "source": [
    "time is the time that it was taken. This time stamp is not used because we assume things are static.\n",
    "T1 and T2 are the two telescopes.\n",
    "U and V are the fourier location of the fourier domain. When we plot each point in the fourier domain, we should obtain something like below #HEREEE They are given in terms of lambda.\n",
    "Iamp is the Amplitude of the Fourier Coefficient\n",
    "IPhase is the Phase of the Fourier Coefficient in degrees\n",
    "\n",
    "Z = Amp * e^{i*phase}\n",
    "\n",
    "These two numbers are used to reconstruct our complex visibility\n",
    "\n",
    "ISigma is the error or the noisiness of the data point"
   ]
  },
  {
   "cell_type": "markdown",
   "metadata": {},
   "source": [
    "Here, we will start to preprocess the data. First we will create a class to hold the information is a more accessible manner"
   ]
  },
  {
   "cell_type": "code",
   "execution_count": 3,
   "metadata": {},
   "outputs": [],
   "source": [
    "class data:\n",
    "    u: float\n",
    "    v: float\n",
    "    phase: float\n",
    "    amp: float\n",
    "    sigma: float\n",
    "    vis_data: complex\n",
    "    def __init__(self, u, v, phase, amp, sigma):\n",
    "        self.u = u\n",
    "        self.v = v\n",
    "        self.phase = phase\n",
    "        self.amp = amp\n",
    "        self.sigma = sigma\n",
    "        self.vis_data = amp * np.exp(1j * math.radians(phase))\n",
    "\n",
    "    def __repr__(self):\n",
    "        return f\"[u: {self.u}, v: {self.v}]\"\n",
    "\n",
    "    def __str__(self):\n",
    "        return f\"[u: {self.u}, v: {self.v}]\""
   ]
  },
  {
   "cell_type": "markdown",
   "metadata": {},
   "source": [
    "The next few cells read the data from a csv file"
   ]
  },
  {
   "cell_type": "code",
   "execution_count": 4,
   "metadata": {},
   "outputs": [],
   "source": [
    "def process_data(data_df):\n",
    "    coords = []\n",
    "    data_list = []\n",
    "    for i in range(len(data_df)):\n",
    "        data_list.append(data(data_df.loc[i, 'U(lambda)'], data_df.loc[i, 'V(lambda)'], data_df.loc[i, 'Iphase(d)'], data_df.loc[i, 'Iamp(Jy)'], data_df.loc[i, 'Isigma(Jy)']))\n",
    "        coords.append([data_df.loc[i, 'U(lambda)'], data_df.loc[i, 'V(lambda)']])\n",
    "    coords = np.array(coords)\n",
    "    return coords, data_list"
   ]
  },
  {
   "cell_type": "code",
   "execution_count": 5,
   "metadata": {},
   "outputs": [],
   "source": [
    "def read_data(filename: str()):\n",
    "    df = pd.read_csv(filename)\n",
    "    return df"
   ]
  },
  {
   "cell_type": "code",
   "execution_count": 6,
   "metadata": {},
   "outputs": [],
   "source": [
    "df = read_data(\"./data/SR1_M87_2017_095_hi_hops_netcal_StokesI.csv\")\n",
    "coords, data_list = process_data(df)"
   ]
  }
 ],
 "metadata": {
  "kernelspec": {
   "display_name": "Python 3",
   "language": "python",
   "name": "python3"
  },
  "language_info": {
   "codemirror_mode": {
    "name": "ipython",
    "version": 3
   },
   "file_extension": ".py",
   "mimetype": "text/x-python",
   "name": "python",
   "nbconvert_exporter": "python",
   "pygments_lexer": "ipython3",
   "version": "3.11.4"
  }
 },
 "nbformat": 4,
 "nbformat_minor": 2
}

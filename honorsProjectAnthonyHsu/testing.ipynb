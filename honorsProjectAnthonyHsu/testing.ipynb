{
 "cells": [
  {
   "cell_type": "code",
   "execution_count": null,
   "metadata": {},
   "outputs": [],
   "source": [
    "n = 256\n",
    "\n",
    "a = np.linspace(-50, 50, n)\n",
    "x, y = np.meshgrid(a, a)\n",
    "\n",
    "k = np.fft.fftfreq(n, a[1]-a[0])\n",
    "kx, ky = np.meshgrid(k, k)\n",
    "\n",
    "def Gaussian(sigma, x0=0, y0=0):\n",
    "    dx = x - x0\n",
    "    dy = y - y0\n",
    "    return np.exp(-0.5 * (dx*dx + dy*dy) / (sigma * sigma))\n",
    "\n",
    "def ring(nn=0.01):\n",
    "    return np.maximum(Gaussian(10, *randpos(1)) - Gaussian(8, *randpos(1)), 0) + nn * noise(2)\n",
    "\n",
    "def noise(alpha):\n",
    "    white_noise = np.random.rand(n, n)-0.5 + 1j*(np.random.rand(n, n)-0.5)\n",
    "    power_law = np.power(kx*kx + ky*ky + 1e-300, -0.5 * alpha)\n",
    "    power_law[0,0] = 0\n",
    "    img  = np.real(np.fft.ifft2(white_noise * power_law))\n",
    "    img += np.min(img)\n",
    "    img /= np.max(img)\n",
    "    return img\n",
    "\n",
    "def randpos(scale=1):\n",
    "    x = (np.random.rand() - 0.5) * 2 * scale\n",
    "    y = (np.random.rand() - 0.5) * 2 * scale\n",
    "    return x, y"
   ]
  },
  {
   "cell_type": "markdown",
   "metadata": {},
   "source": [
    "Below is how we create a 256 by 256 sample image of a blackhole ring"
   ]
  },
  {
   "cell_type": "code",
   "execution_count": null,
   "metadata": {},
   "outputs": [],
   "source": [
    "ring()"
   ]
  },
  {
   "cell_type": "markdown",
   "metadata": {},
   "source": [
    "Here, we load a precreated sample image"
   ]
  },
  {
   "cell_type": "code",
   "execution_count": null,
   "metadata": {},
   "outputs": [],
   "source": [
    "sample = np.loadtxt(\"sample_image.csv\", delimiter=\",\")\n",
    "plt.figure()\n",
    "plt.imshow(sample, vmin=0, vmax=0.5)\n",
    "plt.axis('off')"
   ]
  },
  {
   "cell_type": "markdown",
   "metadata": {},
   "source": [
    "To test interpolate on a sample image, we test with arbitrarily chosen coordinates"
   ]
  },
  {
   "cell_type": "code",
   "execution_count": null,
   "metadata": {},
   "outputs": [],
   "source": [
    "samp = np.array(sample)\n",
    "samp_blank = samp * 0\n",
    "samp_coords = [[1.81243945e-03+0.j, -1.65010891e-02-0.01426895j]]\n",
    "temp_1 = interpolate(samp, samp_coords, 100 * u.uas)\n",
    "print(temp_1)\n",
    "temp_2 = interpolate(samp_blank, samp_coords, 100 * u.uas)\n",
    "print(temp_2)"
   ]
  },
  {
   "cell_type": "markdown",
   "metadata": {},
   "source": [
    "Code to test loss"
   ]
  },
  {
   "cell_type": "code",
   "execution_count": null,
   "metadata": {},
   "outputs": [],
   "source": [
    "sample_coords = []\n",
    "sample_data_list = []\n",
    "print(loss(samp, sample_data_list, sample_coords))\n",
    "print(loss(samp_blank, sample_data_list, sample_coords))"
   ]
  }
 ],
 "metadata": {
  "language_info": {
   "name": "python"
  }
 },
 "nbformat": 4,
 "nbformat_minor": 2
}

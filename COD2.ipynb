{
 "cells": [
  {
   "cell_type": "code",
   "execution_count": 2,
   "metadata": {},
   "outputs": [],
   "source": [
    "import pandas as pd\n",
    "import numpy as np\n",
    "import tensorflow as tf\n",
    "import cmath\n",
    "import math\n",
    "from scipy.optimize import fmin, minimize\n",
    "from astropy import units as u\n",
    "from scipy.interpolate import RegularGridInterpolator\n",
    "import matplotlib.pyplot as plt\n",
    "import copy\n",
    "%matplotlib inline\n",
    "\n",
    "from PIL import Image"
   ]
  },
  {
   "cell_type": "code",
   "execution_count": 3,
   "metadata": {},
   "outputs": [],
   "source": [
    "class data:\n",
    "    u: float\n",
    "    v: float\n",
    "    phase: float\n",
    "    amp: float\n",
    "    sigma: float\n",
    "    vis_data: complex\n",
    "    def __init__(self, u, v, phase, amp, sigma):\n",
    "        self.u = u\n",
    "        self.v = v\n",
    "        self.phase = phase\n",
    "        self.amp = amp\n",
    "        self.sigma = sigma\n",
    "        self.vis_data = amp * np.exp(1j * math.radians(phase))\n",
    "\n",
    "    def __repr__(self):\n",
    "        return f\"[u: {self.u}, v: {self.v}]\"\n",
    "\n",
    "    def __str__(self):\n",
    "        return f\"[u: {self.u}, v: {self.v}]\""
   ]
  },
  {
   "cell_type": "code",
   "execution_count": 4,
   "metadata": {},
   "outputs": [],
   "source": [
    "# Assumption image is 80px by 80px => 6400 variables\n",
    "def loss(image, data_list: list[data], coords, p = 2, reg_weight = 1, FOV = 1): #Ask about u.rad\n",
    "    error_sum = 0\n",
    "    vis_images = interpolate(image, coords, FOV)\n",
    "\n",
    "    for i in range(len(data_list)):\n",
    "        vis_data = data_list[i][1]\n",
    "        vis_image = vis_images[i]\n",
    "        error = (abs(vis_image-vis_data)) ** 2\n",
    "        error_sum += error\n",
    "    \n",
    "    return error_sum"
   ]
  },
  {
   "cell_type": "code",
   "execution_count": 5,
   "metadata": {},
   "outputs": [],
   "source": [
    "# Assumption image is 80x80 pixels\n",
    "# Pass in array of u,v coords then return array of interpolated values\n",
    "def interpolate(image, coords, FOV):\n",
    "    \"\"\"\n",
    "    image is a 80x80 pixel image that represents our reconstructed image\n",
    "    coords is a list of u,v coordinates that we obtained from our data\n",
    "    FOV is the Field of view from the telescopes. For the EHT data, our FOV is 100 micro ascs.\n",
    "    \"\"\"\n",
    "\n",
    "    ft_image = np.fft.fftshift(np.fft.fft2(image))\n",
    "\n",
    "    k_FOV = (1)/FOV\n",
    "\n",
    "    kx = np.fft.fftshift(np.fft.fftfreq(ft_image.shape[0], d = 1/(k_FOV*ft_image.shape[0])))\n",
    "    ky = np.fft.fftshift(np.fft.fftfreq(ft_image.shape[1], d = 1/(k_FOV*ft_image.shape[1])))\n",
    "\n",
    "    interp_real = RegularGridInterpolator((kx, ky), ft_image.real, bounds_error=False, method=\"linear\")\n",
    "    interp_imag = RegularGridInterpolator((kx, ky), ft_image.imag, bounds_error=False, method=\"linear\")\n",
    "\n",
    "    real = interp_real(coords)\n",
    "    imag = interp_imag(coords)\n",
    "\n",
    "    return real + imag * 1j"
   ]
  },
  {
   "cell_type": "code",
   "execution_count": 6,
   "metadata": {},
   "outputs": [],
   "source": [
    "# p is the exponent of the regularizing terms\n",
    "# The smaller p the more sensitive it is to noise\n",
    "# TSV = Total Squared Variation\n",
    "def calc_regularizer(image: np.array, tsv=False, p=None):\n",
    "    if tsv and p == None:\n",
    "        raise Exception(\"p value not set\")\n",
    "    reg = 0\n",
    "    if tsv:\n",
    "        image_lshift = np.copy(image, subok=True)\n",
    "        image_lshift = np.roll(image_lshift, -1,axis=1)\n",
    "        image_lshift[:,-1] = 0\n",
    "        image_upshift = np.copy(image, subok=True)\n",
    "        image_upshift = np.roll(image_upshift, -1, axis=0)\n",
    "        image_upshift[-1] = 0\n",
    "\n",
    "        term_1 = np.power(np.absolute(np.subtract(image_lshift, image)),p)\n",
    "        term_2 = np.power(np.absolute(np.subtract(image_upshift, image)),p)\n",
    "        reg = np.sum(np.add(term_1,term_2))\n",
    "    return reg"
   ]
  },
  {
   "cell_type": "code",
   "execution_count": 7,
   "metadata": {},
   "outputs": [],
   "source": [
    "def process_data(data_df):\n",
    "    coords = []\n",
    "    data_list = []\n",
    "    for i in range(len(data_df)):\n",
    "        data_list.append(data(data_df.loc[i, 'U(lambda)'], data_df.loc[i, 'V(lambda)'], data_df.loc[i, 'Iphase(d)'], data_df.loc[i, 'Iamp(Jy)'], data_df.loc[i, 'Isigma(Jy)']))\n",
    "        coords.append([data_df.loc[i, 'U(lambda)'], data_df.loc[i, 'V(lambda)']])\n",
    "    coords = np.array(coords)\n",
    "    return coords, data_list"
   ]
  },
  {
   "cell_type": "code",
   "execution_count": 8,
   "metadata": {},
   "outputs": [],
   "source": [
    "def read_data(filename: str()):\n",
    "    df = pd.read_csv(filename)\n",
    "    return df"
   ]
  },
  {
   "cell_type": "code",
   "execution_count": 9,
   "metadata": {},
   "outputs": [],
   "source": [
    "n = 80\n",
    "\n",
    "a = np.linspace(-50, 50, n)\n",
    "x, y = np.meshgrid(a, a)\n",
    "\n",
    "k = np.fft.fftfreq(n, a[1]-a[0])\n",
    "kx, ky = np.meshgrid(k, k)\n",
    "\n",
    "def Gaussian(sigma, x0=0, y0=0):\n",
    "    dx = x - x0\n",
    "    dy = y - y0\n",
    "    return np.exp(-0.5 * (dx*dx + dy*dy) / (sigma * sigma))\n",
    "\n",
    "def ring(nn=0.01):\n",
    "    return np.maximum(Gaussian(10, *randpos(1)) - Gaussian(8, *randpos(1)), 0) + nn * noise(2)\n",
    "\n",
    "def noise(alpha):\n",
    "    white_noise = np.random.rand(n, n)-0.5 + 1j*(np.random.rand(n, n)-0.5)\n",
    "    power_law = np.power(kx*kx + ky*ky + 1e-300, -0.5 * alpha)\n",
    "    power_law[0,0] = 0\n",
    "    img  = np.real(np.fft.ifft2(white_noise * power_law))\n",
    "    img += np.min(img)\n",
    "    img /= np.max(img)\n",
    "    return img\n",
    "\n",
    "def randpos(scale=1):\n",
    "    x = (np.random.rand() - 0.5) * 2 * scale\n",
    "    y = (np.random.rand() - 0.5) * 2 * scale\n",
    "    return x, y"
   ]
  },
  {
   "cell_type": "code",
   "execution_count": 10,
   "metadata": {},
   "outputs": [
    {
     "data": {
      "text/plain": [
       "(-0.5, 79.5, 79.5, -0.5)"
      ]
     },
     "execution_count": 10,
     "metadata": {},
     "output_type": "execute_result"
    },
    {
     "data": {
      "image/png": "[encoded data removed]",
      "text/plain": [
       "<Figure size 640x480 with 1 Axes>"
      ]
     },
     "metadata": {},
     "output_type": "display_data"
    }
   ],
   "source": [
    "#sample = ring() # Sample is 80 by 80\n",
    "#np.savetxt(\"data.csv\", sample, delimiter=\",\")\n",
    "sample = np.loadtxt(\"data.csv\", delimiter=\",\")\n",
    "plt.figure()\n",
    "plt.imshow(sample)\n",
    "plt.axis('off')"
   ]
  },
  {
   "cell_type": "code",
   "execution_count": 31,
   "metadata": {},
   "outputs": [
    {
     "data": {
      "text/plain": [
       "(-0.5, 79.5, 79.5, -0.5)"
      ]
     },
     "execution_count": 31,
     "metadata": {},
     "output_type": "execute_result"
    },
    {
     "data": {
      "image/png": "[encoded data removed]",
      "text/plain": [
       "<Figure size 640x480 with 1 Axes>"
      ]
     },
     "metadata": {},
     "output_type": "display_data"
    }
   ],
   "source": [
    "ft_image = np.fft.fftshift(np.fft.fft2(sample))\n",
    "plt.figure()\n",
    "plt.imshow(np.log(np.abs(ft_image)))\n",
    "plt.scatter([35],[40], color = \"red\")\n",
    "plt.axis('off')"
   ]
  },
  {
   "cell_type": "code",
   "execution_count": 46,
   "metadata": {},
   "outputs": [],
   "source": [
    "coords = []\n",
    "data_list = []\n",
    "for i in range(25):\n",
    "    coords.append((int(np.random.rand()*10-5), int(np.random.rand()*10-5)))\n",
    "    data_list.append((coords[i],ft_image[coords[i][0]+40][coords[i][1]+40]))"
   ]
  },
  {
   "cell_type": "code",
   "execution_count": 47,
   "metadata": {},
   "outputs": [
    {
     "data": {
      "text/plain": [
       "[((2, 0), (32.21849839699435+21.12122492192262j)),\n",
       " ((0, -4), (-16.666885639518576-3.717810642145843j)),\n",
       " ((0, 0), (-130.7977532545254+0j)),\n",
       " ((-3, 2), (18.046523876827383-2.5971752659760363j)),\n",
       " ((4, 0), (-21.092399479624063+7.428119584083978j)),\n",
       " ((-4, -3), (11.503853927875113-0.807378246118693j)),\n",
       " ((0, 4), (-16.666885639518576+3.717810642145843j)),\n",
       " ((3, 3), (-16.073815037740104-0.5318295817126556j)),\n",
       " ((-4, -4), (-4.213479534444887-1.4852988761164416j)),\n",
       " ((3, 0), (9.345246066663234-12.763088241472762j)),\n",
       " ((0, 0), (-130.7977532545254+0j)),\n",
       " ((0, 2), (45.25288306329196-3.200855947045237j)),\n",
       " ((1, -3), (-21.359637680230904-2.2933676872188915j)),\n",
       " ((-3, -2), (18.59914527451261+7.6023610122723255j)),\n",
       " ((-3, 4), (10.97997772948687+0.8737280514156963j)),\n",
       " ((0, -4), (-16.666885639518576-3.717810642145843j)),\n",
       " ((2, -1), (-10.778371094544593-11.568945106256791j)),\n",
       " ((-4, -1), (16.740754111448133-2.3097206184670487j)),\n",
       " ((1, -2), (-24.68242315194496-6.537735288980759j)),\n",
       " ((-2, -2), (-15.377664925851446-3.2594612357815866j)),\n",
       " ((0, -4), (-16.666885639518576-3.717810642145843j)),\n",
       " ((1, 2), (-2.7294837506484555-4.48884531599002j)),\n",
       " ((-4, -1), (16.740754111448133-2.3097206184670487j)),\n",
       " ((-2, -3), (21.336866928904005+3.1863445993569925j)),\n",
       " ((0, -3), (13.348703633009006+8.048370773796997j))]"
      ]
     },
     "execution_count": 47,
     "metadata": {},
     "output_type": "execute_result"
    }
   ],
   "source": [
    "data_list"
   ]
  },
  {
   "cell_type": "markdown",
   "metadata": {},
   "source": [
    "Loads Image and data"
   ]
  },
  {
   "cell_type": "code",
   "execution_count": 36,
   "metadata": {},
   "outputs": [
    {
     "data": {
      "text/plain": [
       "35114.90608276224"
      ]
     },
     "execution_count": 36,
     "metadata": {},
     "output_type": "execute_result"
    }
   ],
   "source": [
    "loss(sample*0.1,data_list,coords)"
   ]
  },
  {
   "cell_type": "code",
   "execution_count": 37,
   "metadata": {},
   "outputs": [
    {
     "data": {
      "text/plain": [
       "43351.73590464473"
      ]
     },
     "execution_count": 37,
     "metadata": {},
     "output_type": "execute_result"
    }
   ],
   "source": [
    "emp = np.zeros((80,80))\n",
    "loss(emp,data_list,coords)"
   ]
  },
  {
   "cell_type": "code",
   "execution_count": 49,
   "metadata": {},
   "outputs": [],
   "source": [
    "loss_arr = np.zeros((len(sample),len(sample[0])))\n",
    "for i in range(len(sample)):\n",
    "    image_1 = np.roll(sample, i, axis=1) # Right shifts\n",
    "    for j in range(len(sample[i])):\n",
    "        image_2 = np.roll(image_1, j, axis = 0) # Up shifts\n",
    "        loss_arr[i][j] = loss(image_2, data_list, coords, reg_weight=0)"
   ]
  },
  {
   "cell_type": "code",
   "execution_count": 39,
   "metadata": {},
   "outputs": [
    {
     "data": {
      "text/plain": [
       "(80, 80)"
      ]
     },
     "execution_count": 39,
     "metadata": {},
     "output_type": "execute_result"
    }
   ],
   "source": [
    "loss_arr.shape"
   ]
  },
  {
   "cell_type": "code",
   "execution_count": 40,
   "metadata": {},
   "outputs": [],
   "source": [
    "shifted = np.roll(sample, 40, axis=1)\n",
    "shifted2 = np.roll(shifted, 40, axis=0)"
   ]
  },
  {
   "cell_type": "code",
   "execution_count": 50,
   "metadata": {},
   "outputs": [
    {
     "data": {
      "text/plain": [
       "(-0.5, 79.5, 79.5, -0.5)"
      ]
     },
     "execution_count": 50,
     "metadata": {},
     "output_type": "execute_result"
    },
    {
     "data": {
      "image/png": "[encoded data removed]",
      "text/plain": [
       "<Figure size 640x480 with 1 Axes>"
      ]
     },
     "metadata": {},
     "output_type": "display_data"
    }
   ],
   "source": [
    "plt.figure()\n",
    "plt.imshow(loss_arr)\n",
    "plt.axis('off')"
   ]
  },
  {
   "cell_type": "code",
   "execution_count": 20,
   "metadata": {},
   "outputs": [],
   "source": [
    "negative_arr = []\n",
    "positive_arr = []\n",
    "for i in range(80):\n",
    "    negative_arr.append(loss_arr[i][79-i])\n",
    "    positive_arr.append(loss_arr[i][i])"
   ]
  },
  {
   "cell_type": "code",
   "execution_count": 21,
   "metadata": {},
   "outputs": [
    {
     "data": {
      "text/plain": [
       "[0.0,\n",
       " 68.49236048504999,\n",
       " 265.4694167706388,\n",
       " 578.7802350641274,\n",
       " 994.5156124992511,\n",
       " 1495.3350030892109,\n",
       " 2059.010778616679,\n",
       " 2660.737174193751,\n",
       " 3280.729020372813,\n",
       " 3904.9536955645976,\n",
       " 4518.440814692188,\n",
       " 5107.756176017728,\n",
       " 5667.50545401498,\n",
       " 6194.879200125261,\n",
       " 6686.088255926061,\n",
       " 7134.024287518852,\n",
       " 7532.258387144642,\n",
       " 7876.358467207227,\n",
       " 8156.429779731225,\n",
       " 8357.771741138778,\n",
       " 8467.90498631528,\n",
       " 8477.090722366525,\n",
       " 8378.16769022338,\n",
       " 8163.8833095845985,\n",
       " 7832.613963975407,\n",
       " 7392.815174583465,\n",
       " 6858.486193914931,\n",
       " 6247.055936607337,\n",
       " 5580.313012781927,\n",
       " 4884.381001231258,\n",
       " 4187.032866625403,\n",
       " 3511.885513122994,\n",
       " 2879.1825277459448,\n",
       " 2306.591031919354,\n",
       " 1807.6068151659608,\n",
       " 1388.5598367515581,\n",
       " 1050.471220747247,\n",
       " 791.4916172439257,\n",
       " 610.4476522751204,\n",
       " 504.7080955768667,\n",
       " 469.7522597068406,\n",
       " 504.7080955768668,\n",
       " 610.4476522751204,\n",
       " 791.4916172439257,\n",
       " 1050.4712207472471,\n",
       " 1388.5598367515586,\n",
       " 1807.6068151659622,\n",
       " 2306.5910319193554,\n",
       " 2879.1825277459448,\n",
       " 3511.8855131229957,\n",
       " 4187.032866625403,\n",
       " 4884.381001231258,\n",
       " 5580.313012781929,\n",
       " 6247.055936607334,\n",
       " 6858.486193914931,\n",
       " 7392.815174583467,\n",
       " 7832.613963975412,\n",
       " 8163.8833095845985,\n",
       " 8378.16769022338,\n",
       " 8477.090722366525,\n",
       " 8467.90498631528,\n",
       " 8357.771741138778,\n",
       " 8156.429779731225,\n",
       " 7876.358467207227,\n",
       " 7532.258387144638,\n",
       " 7134.0242875188505,\n",
       " 6686.088255926061,\n",
       " 6194.879200125264,\n",
       " 5667.505454014979,\n",
       " 5107.756176017728,\n",
       " 4518.44081469219,\n",
       " 3904.9536955645954,\n",
       " 3280.729020372813,\n",
       " 2660.73717419375,\n",
       " 2059.010778616678,\n",
       " 1495.3350030892104,\n",
       " 994.5156124992511,\n",
       " 578.7802350641275,\n",
       " 265.46941677063865,\n",
       " 68.49236048504999]"
      ]
     },
     "execution_count": 21,
     "metadata": {},
     "output_type": "execute_result"
    }
   ],
   "source": [
    "positive_arr"
   ]
  },
  {
   "cell_type": "code",
   "execution_count": 43,
   "metadata": {},
   "outputs": [],
   "source": [
    "x = []\n",
    "y = []\n",
    "for i in coords:\n",
    "    x.append(i[0])\n",
    "    y.append(i[1])"
   ]
  },
  {
   "cell_type": "code",
   "execution_count": 44,
   "metadata": {},
   "outputs": [
    {
     "data": {
      "text/plain": [
       "(-4.4, 4.4, -3.35, 4.35)"
      ]
     },
     "execution_count": 44,
     "metadata": {},
     "output_type": "execute_result"
    },
    {
     "data": {
      "image/png": "[encoded data removed]",
      "text/plain": [
       "<Figure size 640x480 with 1 Axes>"
      ]
     },
     "metadata": {},
     "output_type": "display_data"
    }
   ],
   "source": [
    "plt.figure()\n",
    "plt.scatter(x, y)\n",
    "plt.axis('off')"
   ]
  }
 ],
 "metadata": {
  "interpreter": {
   "hash": "becf8088f74075664c4b68580e6274238340099ff43245eeb40a8d9143c8ef9d"
  },
  "kernelspec": {
   "display_name": "Python 3.8.3 64-bit ('3.8.3': pyenv)",
   "name": "python3"
  },
  "language_info": {
   "codemirror_mode": {
    "name": "ipython",
    "version": 3
   },
   "file_extension": ".py",
   "mimetype": "text/x-python",
   "name": "python",
   "nbconvert_exporter": "python",
   "pygments_lexer": "ipython3",
   "version": "3.11.4"
  },
  "orig_nbformat": 4
 },
 "nbformat": 4,
 "nbformat_minor": 2
}
